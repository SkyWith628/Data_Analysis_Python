{
  "nbformat": 4,
  "nbformat_minor": 0,
  "metadata": {
    "colab": {
      "provenance": []
    },
    "kernelspec": {
      "name": "python3",
      "display_name": "Python 3"
    },
    "language_info": {
      "name": "python"
    }
  },
  "cells": [
    {
      "cell_type": "markdown",
      "source": [
        "# 첫번째 문제\n",
        "\n",
        "1. *두 수의 학을 구하는 코드를 작성하시오. 이 텍스트를 이탤릭체로 변경하시오.*"
      ],
      "metadata": {
        "id": "LWGWjXji_7LX"
      }
    },
    {
      "cell_type": "code",
      "source": [
        "약저1=3\n",
        "약자2=5\n",
        "print(약자1-약자2)\n",
        "#(c)sh enter"
      ],
      "metadata": {
        "colab": {
          "base_uri": "https://localhost:8080/"
        },
        "id": "cvLZW1udBWWb",
        "outputId": "90878b7f-b25b-43ee-e90c-f750d2c5bcf1"
      },
      "execution_count": null,
      "outputs": [
        {
          "output_type": "stream",
          "name": "stdout",
          "text": [
            "-2\n"
          ]
        }
      ]
    },
    {
      "cell_type": "code",
      "execution_count": null,
      "metadata": {
        "colab": {
          "base_uri": "https://localhost:8080/"
        },
        "id": "ytJd0ky4_z5q",
        "outputId": "f0cf90e8-ceff-43af-8c6f-4fb5ff37ff73"
      },
      "outputs": [
        {
          "output_type": "stream",
          "name": "stdout",
          "text": [
            "8\n"
          ]
        }
      ],
      "source": [
        "약자1=3\n",
        "약자2=5\n",
        "print(약자1+약자2)\n",
        "#(b)command m b"
      ]
    },
    {
      "cell_type": "markdown",
      "source": [
        "# 두 수의 뺄셈을 구하는 코드\n",
        "(d)comm m a / comm m m"
      ],
      "metadata": {
        "id": "EP2y4WEfHvb3"
      }
    }
  ]
}