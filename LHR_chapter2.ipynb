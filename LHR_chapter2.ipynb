{
  "nbformat": 4,
  "nbformat_minor": 0,
  "metadata": {
    "colab": {
      "provenance": []
    },
    "kernelspec": {
      "name": "python3",
      "display_name": "Python 3"
    },
    "language_info": {
      "name": "python"
    }
  },
  "cells": [
    {
      "cell_type": "markdown",
      "source": [
        "[코드 LHR 2- 2] 상수처럼 사용하는 변수"
      ],
      "metadata": {
        "id": "n6AR1KwWKMUX"
      }
    },
    {
      "cell_type": "code",
      "source": [
        "PI = 3.1415\n",
        "print(PI)"
      ],
      "metadata": {
        "id": "Ehl3UVs3896y"
      },
      "execution_count": 6,
      "outputs": []
    },
    {
      "cell_type": "markdown",
      "source": [
        "[코드 LHR 2- 3] 관계 연산자"
      ],
      "metadata": {
        "id": "dc9yFOpRKIlY"
      }
    },
    {
      "cell_type": "code",
      "source": [
        "a = 11\n",
        "b = 4\n",
        "\n",
        "print(a > b)\n",
        "print(a <= b)"
      ],
      "metadata": {
        "colab": {
          "base_uri": "https://localhost:8080/"
        },
        "id": "7NQ75xpC9qE8",
        "outputId": "7099d469-b444-449d-88de-983d4f9a2d75"
      },
      "execution_count": null,
      "outputs": [
        {
          "output_type": "stream",
          "name": "stdout",
          "text": [
            "True\n",
            "False\n"
          ]
        }
      ]
    },
    {
      "cell_type": "markdown",
      "source": [
        "[코드 LHR 2- 4]논리 연산자"
      ],
      "metadata": {
        "id": "xApBfHP_KFaR"
      }
    },
    {
      "cell_type": "code",
      "source": [
        "name1 = '하'\n",
        "football = ['손', '흥', '민', '이', '강', '인']\n",
        "\n",
        "print(name1 in football)"
      ],
      "metadata": {
        "colab": {
          "base_uri": "https://localhost:8080/"
        },
        "id": "yk3lNnEv9tG7",
        "outputId": "0862a63b-04f7-4be9-fd53-bdb20be8ce3c"
      },
      "execution_count": null,
      "outputs": [
        {
          "output_type": "stream",
          "name": "stdout",
          "text": [
            "False\n"
          ]
        }
      ]
    },
    {
      "cell_type": "markdown",
      "source": [
        "[코드 LHR 2- 5] else if 조건문"
      ],
      "metadata": {
        "id": "zQ7J8svyKBY5"
      }
    },
    {
      "cell_type": "code",
      "source": [
        "a = 3\n",
        "\n",
        "if a == 5:\n",
        "    print('Right!')\n",
        "    print('a is 5')\n",
        "else:\n",
        "    print('a is not 5')"
      ],
      "metadata": {
        "id": "tN2FZ_6_-nsC",
        "outputId": "31b2998d-f78d-44e3-89e5-e8c8acd56027",
        "colab": {
          "base_uri": "https://localhost:8080/"
        }
      },
      "execution_count": 9,
      "outputs": [
        {
          "output_type": "stream",
          "name": "stdout",
          "text": [
            "a is not 5\n"
          ]
        }
      ]
    },
    {
      "cell_type": "markdown",
      "source": [
        "[코드 LHR 2- 6] if ~ elif ~ else 조건문"
      ],
      "metadata": {
        "id": "lCpvyq64J6Tk"
      }
    },
    {
      "cell_type": "code",
      "source": [
        "a = 6\n",
        "\n",
        "if a < 5:\n",
        "    print('a is smaller than 5')\n",
        "elif a > 5:\n",
        "    print('a is larger than 5')\n",
        "else:\n",
        "    print('a is equal to 5')"
      ],
      "metadata": {
        "colab": {
          "base_uri": "https://localhost:8080/"
        },
        "id": "eYvNn4Mn_R37",
        "outputId": "c2e81c77-f07a-46e8-ff3e-e67375b52cb3"
      },
      "execution_count": 8,
      "outputs": [
        {
          "output_type": "stream",
          "name": "stdout",
          "text": [
            "a is larger than 5\n"
          ]
        }
      ]
    },
    {
      "cell_type": "markdown",
      "source": [
        "[코드 LHR 2- 7] while 반복문으로 구구단 5단 출력"
      ],
      "metadata": {
        "id": "fqStY3UQJzOE"
      }
    },
    {
      "cell_type": "code",
      "source": [
        "a = 5\n",
        "i = 1\n",
        "\n",
        "while i <= 9:\n",
        "    print(str(a) + ' X ' + str(i) + ' = ' + str(i * a))\n",
        "    i += 1"
      ],
      "metadata": {
        "colab": {
          "base_uri": "https://localhost:8080/"
        },
        "id": "AtVnnbxb_p0b",
        "outputId": "9b47ecfc-503a-4669-c9df-e0bd422ca959"
      },
      "execution_count": 10,
      "outputs": [
        {
          "output_type": "stream",
          "name": "stdout",
          "text": [
            "5 X 1 = 5\n",
            "5 X 2 = 10\n",
            "5 X 3 = 15\n",
            "5 X 4 = 20\n",
            "5 X 5 = 25\n",
            "5 X 6 = 30\n",
            "5 X 7 = 35\n",
            "5 X 8 = 40\n",
            "5 X 9 = 45\n"
          ]
        }
      ]
    },
    {
      "cell_type": "markdown",
      "source": [
        "[코드 LHR 2- 8] 실행결과"
      ],
      "metadata": {
        "id": "5TBfJq-MJwfU"
      }
    },
    {
      "cell_type": "code",
      "source": [
        "a = 5\n",
        "\n",
        "for i in range(1, 10):\n",
        "    print(str(a) + ' X ' + str(i) + ' = ' + str(i * a))"
      ],
      "metadata": {
        "colab": {
          "base_uri": "https://localhost:8080/"
        },
        "id": "3Wk5dI7S_s4b",
        "outputId": "40ecb10a-1800-4a9d-b7fa-11fd5a58a50c"
      },
      "execution_count": 11,
      "outputs": [
        {
          "output_type": "stream",
          "name": "stdout",
          "text": [
            "5 X 1 = 5\n",
            "5 X 2 = 10\n",
            "5 X 3 = 15\n",
            "5 X 4 = 20\n",
            "5 X 5 = 25\n",
            "5 X 6 = 30\n",
            "5 X 7 = 35\n",
            "5 X 8 = 40\n",
            "5 X 9 = 45\n"
          ]
        }
      ]
    },
    {
      "cell_type": "markdown",
      "source": [
        "[코드 LHR 2- 9]구구단 일부"
      ],
      "metadata": {
        "id": "9ADrde9jJtHi"
      }
    },
    {
      "cell_type": "code",
      "source": [
        "a = 5\n",
        "\n",
        "while a <= 7:  # (나)\n",
        "    for i in range(1, 10):\n",
        "        print(str(a) + ' X ' + str(i) + ' = ' + str(i * a))\n",
        "    print(\"------------------\")\n",
        "    a += 1"
      ],
      "metadata": {
        "colab": {
          "base_uri": "https://localhost:8080/"
        },
        "id": "KVjH6qNm_1GS",
        "outputId": "c52fbbba-8986-449a-e25f-15809f0e3851"
      },
      "execution_count": 14,
      "outputs": [
        {
          "output_type": "stream",
          "name": "stdout",
          "text": [
            "5 X 1 = 5\n",
            "5 X 2 = 10\n",
            "5 X 3 = 15\n",
            "5 X 4 = 20\n",
            "5 X 5 = 25\n",
            "5 X 6 = 30\n",
            "5 X 7 = 35\n",
            "5 X 8 = 40\n",
            "5 X 9 = 45\n",
            "------------------\n",
            "6 X 1 = 6\n",
            "6 X 2 = 12\n",
            "6 X 3 = 18\n",
            "6 X 4 = 24\n",
            "6 X 5 = 30\n",
            "6 X 6 = 36\n",
            "6 X 7 = 42\n",
            "6 X 8 = 48\n",
            "6 X 9 = 54\n",
            "------------------\n",
            "7 X 1 = 7\n",
            "7 X 2 = 14\n",
            "7 X 3 = 21\n",
            "7 X 4 = 28\n",
            "7 X 5 = 35\n",
            "7 X 6 = 42\n",
            "7 X 7 = 49\n",
            "7 X 8 = 56\n",
            "7 X 9 = 63\n",
            "------------------\n"
          ]
        }
      ]
    },
    {
      "cell_type": "markdown",
      "source": [
        "[코드 LHR 2- 10] 확장 문자"
      ],
      "metadata": {
        "id": "8inU4Li_Jp0i"
      }
    },
    {
      "cell_type": "code",
      "source": [
        "string_5 = \"This is String! \\\"따옴표\\\" 기호:!@#$%^\"\n",
        "print(string_5)"
      ],
      "metadata": {
        "colab": {
          "base_uri": "https://localhost:8080/"
        },
        "id": "UV7bIEEOABQb",
        "outputId": "4c4c6e32-bf96-46c4-a9bd-ca85e163ab06"
      },
      "execution_count": 16,
      "outputs": [
        {
          "output_type": "stream",
          "name": "stdout",
          "text": [
            "This is String! \"따옴표\" 기호:!@#$%^\n"
          ]
        }
      ]
    },
    {
      "cell_type": "markdown",
      "source": [
        "[코드 LHR 2- 11] 튜플"
      ],
      "metadata": {
        "id": "9RrtPqgMJnHq"
      }
    },
    {
      "cell_type": "code",
      "source": [
        "tuple_1 = 1, 2, 3\n",
        "tuple_2 = ('가', '나', '다')\n",
        "tuple_3 = '파이썬', 10000, False\n",
        "\n",
        "print(tuple_1, type(tuple_1))\n",
        "print(tuple_2, type(tuple_2))\n",
        "print(tuple_3, type(tuple_3))\n",
        "print(len(tuple_1))"
      ],
      "metadata": {
        "colab": {
          "base_uri": "https://localhost:8080/"
        },
        "id": "VxFZrbVAA2Pa",
        "outputId": "4a76afc7-8aef-4316-fd0c-e2bfdf8f8781"
      },
      "execution_count": 18,
      "outputs": [
        {
          "output_type": "stream",
          "name": "stdout",
          "text": [
            "(1, 2, 3) <class 'tuple'>\n",
            "('가', '나', '다') <class 'tuple'>\n",
            "('파이썬', 10000, False) <class 'tuple'>\n",
            "3\n"
          ]
        }
      ]
    },
    {
      "cell_type": "markdown",
      "source": [
        "[코드 LHR 2- 12] 세트 생성"
      ],
      "metadata": {
        "id": "GirRHUecJjjo"
      }
    },
    {
      "cell_type": "code",
      "source": [
        "set_1 = {1, 2, '가', 1, 2}\n",
        "set_2 = set({1, 2, '가', 1, 2})\n",
        "\n",
        "print(set_1)\n",
        "print(set_2)"
      ],
      "metadata": {
        "colab": {
          "base_uri": "https://localhost:8080/"
        },
        "id": "JfF-635pA-vU",
        "outputId": "b4201493-c5b5-4ba7-d57f-f300a5408315"
      },
      "execution_count": 19,
      "outputs": [
        {
          "output_type": "stream",
          "name": "stdout",
          "text": [
            "{1, 2, '가'}\n",
            "{1, 2, '가'}\n"
          ]
        }
      ]
    },
    {
      "cell_type": "markdown",
      "source": [
        "[코드 LHR 2- 13]세트 변경 및 복제"
      ],
      "metadata": {
        "id": "dmMD1IUuJfu6"
      }
    },
    {
      "cell_type": "code",
      "source": [
        "set_1 = {1, '가', '나', '다'}\n",
        "\n",
        "set_1.add('추가')\n",
        "print(set_1)\n",
        "\n",
        "set_1.remove('가')\n",
        "print(set_1)\n",
        "\n",
        "set_1.clear()\n",
        "print(set_1)"
      ],
      "metadata": {
        "colab": {
          "base_uri": "https://localhost:8080/"
        },
        "id": "7IpLFjK3A_HZ",
        "outputId": "88a910a7-8386-4bf1-d6dc-d2aa0594f5e6"
      },
      "execution_count": 20,
      "outputs": [
        {
          "output_type": "stream",
          "name": "stdout",
          "text": [
            "{1, '추가', '나', '다', '가'}\n",
            "{1, '추가', '나', '다'}\n",
            "set()\n"
          ]
        }
      ]
    },
    {
      "cell_type": "markdown",
      "source": [
        "[코드 LHR 2- 14] 리스트"
      ],
      "metadata": {
        "id": "BY43va-xJcWp"
      }
    },
    {
      "cell_type": "code",
      "source": [
        "list_1 = [1, 2, 3]\n",
        "print(list_1)\n",
        "\n",
        "list_1[2] = 9999\n",
        "print(list_1)\n",
        "\n",
        "list_1.append(100)\n",
        "print(list_1)\n",
        "\n",
        "list_1.remove(9999)\n",
        "print(list_1)\n",
        "\n",
        "list_1.insert(0, 777)\n",
        "print(list_1)"
      ],
      "metadata": {
        "colab": {
          "base_uri": "https://localhost:8080/"
        },
        "id": "DskDQCD6BIMX",
        "outputId": "0e40a6ee-bcb5-4206-e0b8-963dc215b971"
      },
      "execution_count": 21,
      "outputs": [
        {
          "output_type": "stream",
          "name": "stdout",
          "text": [
            "[1, 2, 3]\n",
            "[1, 2, 9999]\n",
            "[1, 2, 9999, 100]\n",
            "[1, 2, 100]\n",
            "[777, 1, 2, 100]\n"
          ]
        }
      ]
    },
    {
      "cell_type": "markdown",
      "source": [
        "[코드 LHR 2- 15] 리스트 데이터 정렬"
      ],
      "metadata": {
        "id": "Onhavd9HJWwE"
      }
    },
    {
      "cell_type": "code",
      "source": [
        "list_1 = [897, 2, 1, 4, 99, 5.24, 17]\n",
        "print(list_1)\n",
        "\n",
        "list_1.reverse()\n",
        "print(list_1)\n",
        "\n",
        "list_1.sort()\n",
        "print(list_1)"
      ],
      "metadata": {
        "colab": {
          "base_uri": "https://localhost:8080/"
        },
        "id": "7E2YrSt1BQJb",
        "outputId": "520439df-b3e6-45e5-9ec7-6846bd87ab82"
      },
      "execution_count": 23,
      "outputs": [
        {
          "output_type": "stream",
          "name": "stdout",
          "text": [
            "[897, 2, 1, 4, 99, 5.24, 17]\n",
            "[17, 5.24, 99, 4, 1, 2, 897]\n",
            "[1, 2, 4, 5.24, 17, 99, 897]\n"
          ]
        }
      ]
    },
    {
      "cell_type": "markdown",
      "source": [
        "[코드 LHR 2- 16] 딕셔너리"
      ],
      "metadata": {
        "id": "rBKpxLVlJQ2F"
      }
    },
    {
      "cell_type": "code",
      "source": [
        "dict_1 = {'name': '홍길동', 'birth': 1990}\n",
        "print(dict_1['birth'])\n",
        "\n",
        "dict_1['weight'] = 60.5\n",
        "print(dict_1)\n",
        "\n",
        "dict_1.update({'weight': 67.8})\n",
        "print(dict_1)"
      ],
      "metadata": {
        "colab": {
          "base_uri": "https://localhost:8080/"
        },
        "id": "4s7x3InCBtkk",
        "outputId": "bd38072f-c8c7-4703-f09d-0110c9db8a1d"
      },
      "execution_count": 25,
      "outputs": [
        {
          "output_type": "stream",
          "name": "stdout",
          "text": [
            "1990\n",
            "{'name': '홍길동', 'birth': 1990, 'weight': 60.5}\n",
            "{'name': '홍길동', 'birth': 1990, 'weight': 67.8}\n"
          ]
        }
      ]
    },
    {
      "cell_type": "markdown",
      "source": [
        "[코드 LHR 2- 17] 딕셔너리"
      ],
      "metadata": {
        "id": "0YBoqD7cJLLj"
      }
    },
    {
      "cell_type": "code",
      "source": [
        "dict_2 = {'hobby': '볼링'}\n",
        "\n",
        "dict_2['hobby'] = ['축구', '등산']\n",
        "print(dict_2)\n",
        "\n",
        "del dict_2['hobby']\n",
        "print(dict_2)"
      ],
      "metadata": {
        "colab": {
          "base_uri": "https://localhost:8080/"
        },
        "id": "SSEDmQmHB3S8",
        "outputId": "257102d2-125c-4ac5-b39b-a57fc4afbf4d"
      },
      "execution_count": 26,
      "outputs": [
        {
          "output_type": "stream",
          "name": "stdout",
          "text": [
            "{'hobby': ['축구', '등산']}\n",
            "{}\n"
          ]
        }
      ]
    },
    {
      "cell_type": "markdown",
      "source": [
        "[코드 LHR 2- 18] 자료형 찾기"
      ],
      "metadata": {
        "id": "r6y0niWPJE17"
      }
    },
    {
      "cell_type": "code",
      "source": [
        "a1 = ('1', False)\n",
        "a2 = {1, '가'}\n",
        "a3 = [1, '가', 1]\n",
        "a4 = {'가': 1, '나': '2'}\n",
        "\n",
        "print(a1, type(a1))\n",
        "print(a2, type(a2))\n",
        "print(a3, type(a3))\n",
        "print(a4, type(a4))"
      ],
      "metadata": {
        "colab": {
          "base_uri": "https://localhost:8080/"
        },
        "id": "hHQqzXhHB4lP",
        "outputId": "0f756f04-0110-43b4-e819-26781aac9c7d"
      },
      "execution_count": 27,
      "outputs": [
        {
          "output_type": "stream",
          "name": "stdout",
          "text": [
            "('1', False) <class 'tuple'>\n",
            "{1, '가'} <class 'set'>\n",
            "[1, '가', 1] <class 'list'>\n",
            "{'가': 1, '나': '2'} <class 'dict'>\n"
          ]
        }
      ]
    },
    {
      "cell_type": "markdown",
      "source": [
        "[코드 LHR 2- 19] len() 함수"
      ],
      "metadata": {
        "id": "fm4LJ7npI_LX"
      }
    },
    {
      "cell_type": "code",
      "source": [
        "list_1 = [13, 51]\n",
        "\n",
        "length = len(list_1)\n",
        "print(length)"
      ],
      "metadata": {
        "colab": {
          "base_uri": "https://localhost:8080/"
        },
        "id": "BrbhOijCCHaa",
        "outputId": "79da761d-6d4c-486c-d961-d1ae35c67899"
      },
      "execution_count": 28,
      "outputs": [
        {
          "output_type": "stream",
          "name": "stdout",
          "text": [
            "2\n"
          ]
        }
      ]
    },
    {
      "cell_type": "markdown",
      "source": [
        "[코드 LHR 2- 20] 합을 출력하는 함수 정의"
      ],
      "metadata": {
        "id": "Uq356N7IFCNy"
      }
    },
    {
      "cell_type": "code",
      "source": [
        "def sum_list(a):\n",
        "    j = 0\n",
        "    for i in a:\n",
        "        j = j + i\n",
        "    return j\n",
        "\n",
        "list_a = [1, 2, 3]\n",
        "print(sum_list(list_a))  # 호출"
      ],
      "metadata": {
        "colab": {
          "base_uri": "https://localhost:8080/"
        },
        "id": "Fz6s5QSVCWoe",
        "outputId": "aec75313-7019-4763-9c81-47ac284409aa"
      },
      "execution_count": 29,
      "outputs": [
        {
          "output_type": "stream",
          "name": "stdout",
          "text": [
            "6\n"
          ]
        }
      ]
    },
    {
      "cell_type": "markdown",
      "source": [
        "[코드 LHR 2- 21] 실행결과"
      ],
      "metadata": {
        "id": "kXLqy2w8EsXM"
      }
    },
    {
      "cell_type": "code",
      "source": [
        "def gugudan(gu):\n",
        "    for i in gu:  # (가)\n",
        "        for j in range(1, 10):  # (나)\n",
        "            print(str(i) + ' X ' + str(j) + ' = ' + str(i * j))\n",
        "        print(\"------------------\")\n",
        "\n",
        "gugu = [3, 4, 5]\n",
        "print(gugudan(gugu))  # 호출"
      ],
      "metadata": {
        "colab": {
          "base_uri": "https://localhost:8080/"
        },
        "id": "qFcAsSKkCdt2",
        "outputId": "12b72fa3-8f82-47b8-a176-14a7310170cd"
      },
      "execution_count": 30,
      "outputs": [
        {
          "output_type": "stream",
          "name": "stdout",
          "text": [
            "3 X 1 = 3\n",
            "3 X 2 = 6\n",
            "3 X 3 = 9\n",
            "3 X 4 = 12\n",
            "3 X 5 = 15\n",
            "3 X 6 = 18\n",
            "3 X 7 = 21\n",
            "3 X 8 = 24\n",
            "3 X 9 = 27\n",
            "------------------\n",
            "4 X 1 = 4\n",
            "4 X 2 = 8\n",
            "4 X 3 = 12\n",
            "4 X 4 = 16\n",
            "4 X 5 = 20\n",
            "4 X 6 = 24\n",
            "4 X 7 = 28\n",
            "4 X 8 = 32\n",
            "4 X 9 = 36\n",
            "------------------\n",
            "5 X 1 = 5\n",
            "5 X 2 = 10\n",
            "5 X 3 = 15\n",
            "5 X 4 = 20\n",
            "5 X 5 = 25\n",
            "5 X 6 = 30\n",
            "5 X 7 = 35\n",
            "5 X 8 = 40\n",
            "5 X 9 = 45\n",
            "------------------\n",
            "None\n"
          ]
        }
      ]
    },
    {
      "cell_type": "markdown",
      "source": [
        "[코드 LHR 2- 22]"
      ],
      "metadata": {
        "id": "WGGGiZ2mEn1U"
      }
    },
    {
      "cell_type": "code",
      "source": [
        "A = 10 * 4 * (1/2)\n",
        "B = 9 * 5 * (1/2)\n",
        "\n",
        "print(A == B)"
      ],
      "metadata": {
        "colab": {
          "base_uri": "https://localhost:8080/"
        },
        "id": "QdRnAQvNCmeH",
        "outputId": "d7443f58-c54d-45ea-e6bb-f9c2ea32372c"
      },
      "execution_count": 31,
      "outputs": [
        {
          "output_type": "stream",
          "name": "stdout",
          "text": [
            "False\n"
          ]
        }
      ]
    },
    {
      "cell_type": "markdown",
      "source": [
        "[코드 LHR 2- 23] 세트 변경 및 복제"
      ],
      "metadata": {
        "id": "U3bE_lz7EgeW"
      }
    },
    {
      "cell_type": "code",
      "source": [
        "name_1 = {'이', '하', '랑'}\n",
        "\n",
        "name_1.add('010-3056-5120')\n",
        "print(name_1)\n",
        "\n",
        "name_1.remove('이')\n",
        "print(name_1)\n",
        "\n",
        "name_1.clear()\n",
        "print(name_1)"
      ],
      "metadata": {
        "colab": {
          "base_uri": "https://localhost:8080/"
        },
        "id": "TxnrYKjgCxxS",
        "outputId": "b42531ac-5583-4882-beee-22fc9ac47da4"
      },
      "execution_count": 35,
      "outputs": [
        {
          "output_type": "stream",
          "name": "stdout",
          "text": [
            "{'하', '랑', '010-3056-5120', '이'}\n",
            "{'하', '랑', '010-3056-5120'}\n",
            "set()\n"
          ]
        }
      ]
    },
    {
      "cell_type": "markdown",
      "source": [
        "[코드 LHR 2- 24] 리스트"
      ],
      "metadata": {
        "id": "POdowW18EZjO"
      }
    },
    {
      "cell_type": "code",
      "source": [
        "name_1 = ['이', '하', '랑']\n",
        "\n",
        "name_1.append('010-3056-5120')\n",
        "print(name_1)\n",
        "\n",
        "name_1.remove('이')\n",
        "print(name_1)\n",
        "\n",
        "name_1.clear()\n",
        "print(name_1)"
      ],
      "metadata": {
        "colab": {
          "base_uri": "https://localhost:8080/"
        },
        "id": "0roko-9yDL5O",
        "outputId": "36cd4996-eabd-4282-8361-fe8cf6030991"
      },
      "execution_count": 34,
      "outputs": [
        {
          "output_type": "stream",
          "name": "stdout",
          "text": [
            "['이', '하', '랑', '010-3056-5120']\n",
            "['하', '랑', '010-3056-5120']\n",
            "[]\n"
          ]
        }
      ]
    },
    {
      "cell_type": "markdown",
      "source": [
        "[코드 LHR 2-25] 자판기 프로그램"
      ],
      "metadata": {
        "id": "UO14HO1LEIdu"
      }
    },
    {
      "cell_type": "code",
      "source": [
        "def check_even_num(x):\n",
        "    if x % 2 == 0:\n",
        "        return True\n",
        "    return False\n",
        "\n",
        "number = int(input('판별할 자연수를 입력하세요: '))\n",
        "if check_even_num(number):\n",
        "    print('짝수')\n",
        "else:\n",
        "    print('홀수')"
      ],
      "metadata": {
        "colab": {
          "base_uri": "https://localhost:8080/"
        },
        "id": "XEFPuZvaDsxc",
        "outputId": "a5a930b3-2aed-4930-9431-f7db6797b85f"
      },
      "execution_count": 36,
      "outputs": [
        {
          "output_type": "stream",
          "name": "stdout",
          "text": [
            "판별할 자연수를 입력하세요: 10\n",
            "짝수\n"
          ]
        }
      ]
    },
    {
      "cell_type": "code",
      "source": [],
      "metadata": {
        "id": "DQ7npSEjEAgK"
      },
      "execution_count": null,
      "outputs": []
    }
  ]
}