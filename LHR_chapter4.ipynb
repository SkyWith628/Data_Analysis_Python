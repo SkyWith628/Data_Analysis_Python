{
  "nbformat": 4,
  "nbformat_minor": 0,
  "metadata": {
    "colab": {
      "provenance": []
    },
    "kernelspec": {
      "name": "python3",
      "display_name": "Python 3"
    },
    "language_info": {
      "name": "python"
    }
  },
  "cells": [
    {
      "cell_type": "markdown",
      "source": [
        "[코드 4-1LHR]"
      ],
      "metadata": {
        "id": "K6AhTyWX7auY"
      }
    },
    {
      "cell_type": "code",
      "execution_count": 2,
      "metadata": {
        "colab": {
          "base_uri": "https://localhost:8080/"
        },
        "id": "POC2pW2I7MHI",
        "outputId": "7239769b-261c-45f0-f17d-7bad38645c90"
      },
      "outputs": [
        {
          "output_type": "stream",
          "name": "stdout",
          "text": [
            "Requirement already satisfied: bs4 in /usr/local/lib/python3.12/dist-packages (0.0.2)\n",
            "Requirement already satisfied: beautifulsoup4 in /usr/local/lib/python3.12/dist-packages (from bs4) (4.13.5)\n",
            "Requirement already satisfied: soupsieve>1.2 in /usr/local/lib/python3.12/dist-packages (from beautifulsoup4->bs4) (2.8)\n",
            "Requirement already satisfied: typing-extensions>=4.0.0 in /usr/local/lib/python3.12/dist-packages (from beautifulsoup4->bs4) (4.15.0)\n"
          ]
        }
      ],
      "source": [
        "!pip install bs4"
      ]
    },
    {
      "cell_type": "markdown",
      "source": [
        "[코드 4-2 LHR]"
      ],
      "metadata": {
        "id": "lp6JT6QM7VKe"
      }
    },
    {
      "cell_type": "code",
      "source": [
        "import urllib.request\n",
        "\n",
        "nateUrl = \"http://www.nate.com/\"\n",
        "htmlObject = urllib.request.urlopen(nateUrl)\n",
        "html = htmlObject.read()\n",
        "\n",
        "print(html)"
      ],
      "metadata": {
        "colab": {
          "base_uri": "https://localhost:8080/"
        },
        "id": "yXkdizfw7-iB",
        "outputId": "8f5c6331-6afc-44fd-dc7e-5753fdafe99f"
      },
      "execution_count": 5,
      "outputs": [
        {
          "output_type": "stream",
          "name": "stdout",
          "text": [
            "b\"<script type='text/javascript'>location.href='https://www.nate.com';</script>\"\n"
          ]
        }
      ]
    },
    {
      "cell_type": "markdown",
      "source": [
        "[코드 4-3 LHR]"
      ],
      "metadata": {
        "id": "FpQaqCGt8NN2"
      }
    },
    {
      "cell_type": "code",
      "source": [
        "import urllib.request\n",
        "import bs4\n",
        "\n",
        "nateUrl = \"http://www.nate.com/\"\n",
        "htmlObject = urllib.request.urlopen(nateUrl)\n",
        "bsObject = bs4.BeautifulSoup(htmlObject, 'html.parser')\n",
        "\n",
        "print(bsObject)"
      ],
      "metadata": {
        "colab": {
          "base_uri": "https://localhost:8080/"
        },
        "id": "IYJumjoK8eDT",
        "outputId": "60a15377-754c-4fc5-de2e-753f5f9659e7"
      },
      "execution_count": 7,
      "outputs": [
        {
          "output_type": "stream",
          "name": "stdout",
          "text": [
            "<script type=\"text/javascript\">location.href='https://www.nate.com';</script>\n"
          ]
        }
      ]
    },
    {
      "cell_type": "markdown",
      "source": [
        "[코드 4-4 LHR]"
      ],
      "metadata": {
        "id": "4TQf0Dm88qV4"
      }
    },
    {
      "cell_type": "code",
      "source": [
        "from google.colab import files\n",
        "f = files.upload()"
      ],
      "metadata": {
        "colab": {
          "base_uri": "https://localhost:8080/",
          "height": 74
        },
        "id": "dpSHGeGJ90EL",
        "outputId": "8c816934-42f4-4b7f-efc1-252fe57d4b3b"
      },
      "execution_count": 22,
      "outputs": [
        {
          "output_type": "display_data",
          "data": {
            "text/plain": [
              "<IPython.core.display.HTML object>"
            ],
            "text/html": [
              "\n",
              "     <input type=\"file\" id=\"files-2256410f-e020-403f-8f3c-54ecf101a617\" name=\"files[]\" multiple disabled\n",
              "        style=\"border:none\" />\n",
              "     <output id=\"result-2256410f-e020-403f-8f3c-54ecf101a617\">\n",
              "      Upload widget is only available when the cell has been executed in the\n",
              "      current browser session. Please rerun this cell to enable.\n",
              "      </output>\n",
              "      <script>// Copyright 2017 Google LLC\n",
              "//\n",
              "// Licensed under the Apache License, Version 2.0 (the \"License\");\n",
              "// you may not use this file except in compliance with the License.\n",
              "// You may obtain a copy of the License at\n",
              "//\n",
              "//      http://www.apache.org/licenses/LICENSE-2.0\n",
              "//\n",
              "// Unless required by applicable law or agreed to in writing, software\n",
              "// distributed under the License is distributed on an \"AS IS\" BASIS,\n",
              "// WITHOUT WARRANTIES OR CONDITIONS OF ANY KIND, either express or implied.\n",
              "// See the License for the specific language governing permissions and\n",
              "// limitations under the License.\n",
              "\n",
              "/**\n",
              " * @fileoverview Helpers for google.colab Python module.\n",
              " */\n",
              "(function(scope) {\n",
              "function span(text, styleAttributes = {}) {\n",
              "  const element = document.createElement('span');\n",
              "  element.textContent = text;\n",
              "  for (const key of Object.keys(styleAttributes)) {\n",
              "    element.style[key] = styleAttributes[key];\n",
              "  }\n",
              "  return element;\n",
              "}\n",
              "\n",
              "// Max number of bytes which will be uploaded at a time.\n",
              "const MAX_PAYLOAD_SIZE = 100 * 1024;\n",
              "\n",
              "function _uploadFiles(inputId, outputId) {\n",
              "  const steps = uploadFilesStep(inputId, outputId);\n",
              "  const outputElement = document.getElementById(outputId);\n",
              "  // Cache steps on the outputElement to make it available for the next call\n",
              "  // to uploadFilesContinue from Python.\n",
              "  outputElement.steps = steps;\n",
              "\n",
              "  return _uploadFilesContinue(outputId);\n",
              "}\n",
              "\n",
              "// This is roughly an async generator (not supported in the browser yet),\n",
              "// where there are multiple asynchronous steps and the Python side is going\n",
              "// to poll for completion of each step.\n",
              "// This uses a Promise to block the python side on completion of each step,\n",
              "// then passes the result of the previous step as the input to the next step.\n",
              "function _uploadFilesContinue(outputId) {\n",
              "  const outputElement = document.getElementById(outputId);\n",
              "  const steps = outputElement.steps;\n",
              "\n",
              "  const next = steps.next(outputElement.lastPromiseValue);\n",
              "  return Promise.resolve(next.value.promise).then((value) => {\n",
              "    // Cache the last promise value to make it available to the next\n",
              "    // step of the generator.\n",
              "    outputElement.lastPromiseValue = value;\n",
              "    return next.value.response;\n",
              "  });\n",
              "}\n",
              "\n",
              "/**\n",
              " * Generator function which is called between each async step of the upload\n",
              " * process.\n",
              " * @param {string} inputId Element ID of the input file picker element.\n",
              " * @param {string} outputId Element ID of the output display.\n",
              " * @return {!Iterable<!Object>} Iterable of next steps.\n",
              " */\n",
              "function* uploadFilesStep(inputId, outputId) {\n",
              "  const inputElement = document.getElementById(inputId);\n",
              "  inputElement.disabled = false;\n",
              "\n",
              "  const outputElement = document.getElementById(outputId);\n",
              "  outputElement.innerHTML = '';\n",
              "\n",
              "  const pickedPromise = new Promise((resolve) => {\n",
              "    inputElement.addEventListener('change', (e) => {\n",
              "      resolve(e.target.files);\n",
              "    });\n",
              "  });\n",
              "\n",
              "  const cancel = document.createElement('button');\n",
              "  inputElement.parentElement.appendChild(cancel);\n",
              "  cancel.textContent = 'Cancel upload';\n",
              "  const cancelPromise = new Promise((resolve) => {\n",
              "    cancel.onclick = () => {\n",
              "      resolve(null);\n",
              "    };\n",
              "  });\n",
              "\n",
              "  // Wait for the user to pick the files.\n",
              "  const files = yield {\n",
              "    promise: Promise.race([pickedPromise, cancelPromise]),\n",
              "    response: {\n",
              "      action: 'starting',\n",
              "    }\n",
              "  };\n",
              "\n",
              "  cancel.remove();\n",
              "\n",
              "  // Disable the input element since further picks are not allowed.\n",
              "  inputElement.disabled = true;\n",
              "\n",
              "  if (!files) {\n",
              "    return {\n",
              "      response: {\n",
              "        action: 'complete',\n",
              "      }\n",
              "    };\n",
              "  }\n",
              "\n",
              "  for (const file of files) {\n",
              "    const li = document.createElement('li');\n",
              "    li.append(span(file.name, {fontWeight: 'bold'}));\n",
              "    li.append(span(\n",
              "        `(${file.type || 'n/a'}) - ${file.size} bytes, ` +\n",
              "        `last modified: ${\n",
              "            file.lastModifiedDate ? file.lastModifiedDate.toLocaleDateString() :\n",
              "                                    'n/a'} - `));\n",
              "    const percent = span('0% done');\n",
              "    li.appendChild(percent);\n",
              "\n",
              "    outputElement.appendChild(li);\n",
              "\n",
              "    const fileDataPromise = new Promise((resolve) => {\n",
              "      const reader = new FileReader();\n",
              "      reader.onload = (e) => {\n",
              "        resolve(e.target.result);\n",
              "      };\n",
              "      reader.readAsArrayBuffer(file);\n",
              "    });\n",
              "    // Wait for the data to be ready.\n",
              "    let fileData = yield {\n",
              "      promise: fileDataPromise,\n",
              "      response: {\n",
              "        action: 'continue',\n",
              "      }\n",
              "    };\n",
              "\n",
              "    // Use a chunked sending to avoid message size limits. See b/62115660.\n",
              "    let position = 0;\n",
              "    do {\n",
              "      const length = Math.min(fileData.byteLength - position, MAX_PAYLOAD_SIZE);\n",
              "      const chunk = new Uint8Array(fileData, position, length);\n",
              "      position += length;\n",
              "\n",
              "      const base64 = btoa(String.fromCharCode.apply(null, chunk));\n",
              "      yield {\n",
              "        response: {\n",
              "          action: 'append',\n",
              "          file: file.name,\n",
              "          data: base64,\n",
              "        },\n",
              "      };\n",
              "\n",
              "      let percentDone = fileData.byteLength === 0 ?\n",
              "          100 :\n",
              "          Math.round((position / fileData.byteLength) * 100);\n",
              "      percent.textContent = `${percentDone}% done`;\n",
              "\n",
              "    } while (position < fileData.byteLength);\n",
              "  }\n",
              "\n",
              "  // All done.\n",
              "  yield {\n",
              "    response: {\n",
              "      action: 'complete',\n",
              "    }\n",
              "  };\n",
              "}\n",
              "\n",
              "scope.google = scope.google || {};\n",
              "scope.google.colab = scope.google.colab || {};\n",
              "scope.google.colab._files = {\n",
              "  _uploadFiles,\n",
              "  _uploadFilesContinue,\n",
              "};\n",
              "})(self);\n",
              "</script> "
            ]
          },
          "metadata": {}
        },
        {
          "output_type": "stream",
          "name": "stdout",
          "text": [
            "Saving LHR_sample2.html to LHR_sample2 (2).html\n"
          ]
        }
      ]
    },
    {
      "cell_type": "markdown",
      "source": [
        "[코드 4-5 LHR]"
      ],
      "metadata": {
        "id": "YqgHwEmv99tX"
      }
    },
    {
      "cell_type": "code",
      "source": [
        "import bs4\n",
        "\n",
        "webPage = open('LHR_sample2.html', 'rt', encoding='utf-8').read()\n",
        "bsObject = bs4.BeautifulSoup(webPage, 'html.parser')\n",
        "\n",
        "print(bsObject)"
      ],
      "metadata": {
        "colab": {
          "base_uri": "https://localhost:8080/"
        },
        "id": "H-Enyzfj-PVi",
        "outputId": "3dead516-8bf2-4cbf-e1aa-3ea0fd2409c5"
      },
      "execution_count": 26,
      "outputs": [
        {
          "output_type": "stream",
          "name": "stdout",
          "text": [
            "<html>\n",
            "<head>\n",
            "</head>\n",
            "<body>\n",
            "<div> 요기를 클릭하세요 </div>\n",
            "<ul>\n",
            "<li> 자기이름 </li>\n",
            "<li> 9월달 </li>\n",
            "<li> 데이터 분석 </li>\n",
            "</ul>\n",
            "</body>\n",
            "</html>\n",
            "\n"
          ]
        }
      ]
    },
    {
      "cell_type": "markdown",
      "source": [
        "[코드 4-6 LHR]"
      ],
      "metadata": {
        "id": "j6zSwCfD-eLw"
      }
    },
    {
      "cell_type": "code",
      "source": [
        "import bs4\n",
        "\n",
        "webPage = open('LHR_sample2.html', 'rt', encoding='utf-8').read()\n",
        "bsObject = bs4.BeautifulSoup(webPage, 'html.parser')\n",
        "\n",
        "tag_ul = bsObject.find('ul')\n",
        "print(tag_ul)\n",
        "print()\n",
        "\n",
        "tag_li = bsObject.find('li')\n",
        "print(tag_li)\n",
        "print()\n",
        "\n",
        "tag_li_all = bsObject.find_all('li')\n",
        "print(tag_li_all)\n"
      ],
      "metadata": {
        "colab": {
          "base_uri": "https://localhost:8080/"
        },
        "id": "GtJWoJEyB1tZ",
        "outputId": "e0ef50be-961e-499a-db17-5ca942bd9a1a"
      },
      "execution_count": 38,
      "outputs": [
        {
          "output_type": "stream",
          "name": "stdout",
          "text": [
            "<ul>\n",
            "<li> 자기이름 </li>\n",
            "<li> 9월달 </li>\n",
            "<li> 데이터 분석 </li>\n",
            "</ul>\n",
            "\n",
            "<li> 자기이름 </li>\n",
            "\n",
            "[<li> 자기이름 </li>, <li> 9월달 </li>, <li> 데이터 분석 </li>]\n"
          ]
        }
      ]
    },
    {
      "cell_type": "markdown",
      "source": [
        "[코드 4-7 LHR]"
      ],
      "metadata": {
        "id": "bGy9nniWBNQz"
      }
    },
    {
      "cell_type": "code",
      "source": [
        "from google.colab import files\n",
        "f = files.upload()"
      ],
      "metadata": {
        "colab": {
          "base_uri": "https://localhost:8080/",
          "height": 74
        },
        "id": "16DUbmxUDZId",
        "outputId": "a63563cb-4c06-45e7-8941-0290d2cf2450"
      },
      "execution_count": 28,
      "outputs": [
        {
          "output_type": "display_data",
          "data": {
            "text/plain": [
              "<IPython.core.display.HTML object>"
            ],
            "text/html": [
              "\n",
              "     <input type=\"file\" id=\"files-7de85c32-473f-4315-a3a2-28039ef73693\" name=\"files[]\" multiple disabled\n",
              "        style=\"border:none\" />\n",
              "     <output id=\"result-7de85c32-473f-4315-a3a2-28039ef73693\">\n",
              "      Upload widget is only available when the cell has been executed in the\n",
              "      current browser session. Please rerun this cell to enable.\n",
              "      </output>\n",
              "      <script>// Copyright 2017 Google LLC\n",
              "//\n",
              "// Licensed under the Apache License, Version 2.0 (the \"License\");\n",
              "// you may not use this file except in compliance with the License.\n",
              "// You may obtain a copy of the License at\n",
              "//\n",
              "//      http://www.apache.org/licenses/LICENSE-2.0\n",
              "//\n",
              "// Unless required by applicable law or agreed to in writing, software\n",
              "// distributed under the License is distributed on an \"AS IS\" BASIS,\n",
              "// WITHOUT WARRANTIES OR CONDITIONS OF ANY KIND, either express or implied.\n",
              "// See the License for the specific language governing permissions and\n",
              "// limitations under the License.\n",
              "\n",
              "/**\n",
              " * @fileoverview Helpers for google.colab Python module.\n",
              " */\n",
              "(function(scope) {\n",
              "function span(text, styleAttributes = {}) {\n",
              "  const element = document.createElement('span');\n",
              "  element.textContent = text;\n",
              "  for (const key of Object.keys(styleAttributes)) {\n",
              "    element.style[key] = styleAttributes[key];\n",
              "  }\n",
              "  return element;\n",
              "}\n",
              "\n",
              "// Max number of bytes which will be uploaded at a time.\n",
              "const MAX_PAYLOAD_SIZE = 100 * 1024;\n",
              "\n",
              "function _uploadFiles(inputId, outputId) {\n",
              "  const steps = uploadFilesStep(inputId, outputId);\n",
              "  const outputElement = document.getElementById(outputId);\n",
              "  // Cache steps on the outputElement to make it available for the next call\n",
              "  // to uploadFilesContinue from Python.\n",
              "  outputElement.steps = steps;\n",
              "\n",
              "  return _uploadFilesContinue(outputId);\n",
              "}\n",
              "\n",
              "// This is roughly an async generator (not supported in the browser yet),\n",
              "// where there are multiple asynchronous steps and the Python side is going\n",
              "// to poll for completion of each step.\n",
              "// This uses a Promise to block the python side on completion of each step,\n",
              "// then passes the result of the previous step as the input to the next step.\n",
              "function _uploadFilesContinue(outputId) {\n",
              "  const outputElement = document.getElementById(outputId);\n",
              "  const steps = outputElement.steps;\n",
              "\n",
              "  const next = steps.next(outputElement.lastPromiseValue);\n",
              "  return Promise.resolve(next.value.promise).then((value) => {\n",
              "    // Cache the last promise value to make it available to the next\n",
              "    // step of the generator.\n",
              "    outputElement.lastPromiseValue = value;\n",
              "    return next.value.response;\n",
              "  });\n",
              "}\n",
              "\n",
              "/**\n",
              " * Generator function which is called between each async step of the upload\n",
              " * process.\n",
              " * @param {string} inputId Element ID of the input file picker element.\n",
              " * @param {string} outputId Element ID of the output display.\n",
              " * @return {!Iterable<!Object>} Iterable of next steps.\n",
              " */\n",
              "function* uploadFilesStep(inputId, outputId) {\n",
              "  const inputElement = document.getElementById(inputId);\n",
              "  inputElement.disabled = false;\n",
              "\n",
              "  const outputElement = document.getElementById(outputId);\n",
              "  outputElement.innerHTML = '';\n",
              "\n",
              "  const pickedPromise = new Promise((resolve) => {\n",
              "    inputElement.addEventListener('change', (e) => {\n",
              "      resolve(e.target.files);\n",
              "    });\n",
              "  });\n",
              "\n",
              "  const cancel = document.createElement('button');\n",
              "  inputElement.parentElement.appendChild(cancel);\n",
              "  cancel.textContent = 'Cancel upload';\n",
              "  const cancelPromise = new Promise((resolve) => {\n",
              "    cancel.onclick = () => {\n",
              "      resolve(null);\n",
              "    };\n",
              "  });\n",
              "\n",
              "  // Wait for the user to pick the files.\n",
              "  const files = yield {\n",
              "    promise: Promise.race([pickedPromise, cancelPromise]),\n",
              "    response: {\n",
              "      action: 'starting',\n",
              "    }\n",
              "  };\n",
              "\n",
              "  cancel.remove();\n",
              "\n",
              "  // Disable the input element since further picks are not allowed.\n",
              "  inputElement.disabled = true;\n",
              "\n",
              "  if (!files) {\n",
              "    return {\n",
              "      response: {\n",
              "        action: 'complete',\n",
              "      }\n",
              "    };\n",
              "  }\n",
              "\n",
              "  for (const file of files) {\n",
              "    const li = document.createElement('li');\n",
              "    li.append(span(file.name, {fontWeight: 'bold'}));\n",
              "    li.append(span(\n",
              "        `(${file.type || 'n/a'}) - ${file.size} bytes, ` +\n",
              "        `last modified: ${\n",
              "            file.lastModifiedDate ? file.lastModifiedDate.toLocaleDateString() :\n",
              "                                    'n/a'} - `));\n",
              "    const percent = span('0% done');\n",
              "    li.appendChild(percent);\n",
              "\n",
              "    outputElement.appendChild(li);\n",
              "\n",
              "    const fileDataPromise = new Promise((resolve) => {\n",
              "      const reader = new FileReader();\n",
              "      reader.onload = (e) => {\n",
              "        resolve(e.target.result);\n",
              "      };\n",
              "      reader.readAsArrayBuffer(file);\n",
              "    });\n",
              "    // Wait for the data to be ready.\n",
              "    let fileData = yield {\n",
              "      promise: fileDataPromise,\n",
              "      response: {\n",
              "        action: 'continue',\n",
              "      }\n",
              "    };\n",
              "\n",
              "    // Use a chunked sending to avoid message size limits. See b/62115660.\n",
              "    let position = 0;\n",
              "    do {\n",
              "      const length = Math.min(fileData.byteLength - position, MAX_PAYLOAD_SIZE);\n",
              "      const chunk = new Uint8Array(fileData, position, length);\n",
              "      position += length;\n",
              "\n",
              "      const base64 = btoa(String.fromCharCode.apply(null, chunk));\n",
              "      yield {\n",
              "        response: {\n",
              "          action: 'append',\n",
              "          file: file.name,\n",
              "          data: base64,\n",
              "        },\n",
              "      };\n",
              "\n",
              "      let percentDone = fileData.byteLength === 0 ?\n",
              "          100 :\n",
              "          Math.round((position / fileData.byteLength) * 100);\n",
              "      percent.textContent = `${percentDone}% done`;\n",
              "\n",
              "    } while (position < fileData.byteLength);\n",
              "  }\n",
              "\n",
              "  // All done.\n",
              "  yield {\n",
              "    response: {\n",
              "      action: 'complete',\n",
              "    }\n",
              "  };\n",
              "}\n",
              "\n",
              "scope.google = scope.google || {};\n",
              "scope.google.colab = scope.google.colab || {};\n",
              "scope.google.colab._files = {\n",
              "  _uploadFiles,\n",
              "  _uploadFilesContinue,\n",
              "};\n",
              "})(self);\n",
              "</script> "
            ]
          },
          "metadata": {}
        },
        {
          "output_type": "stream",
          "name": "stdout",
          "text": [
            "Saving LHR_sample3.html to LHR_sample3.html\n"
          ]
        }
      ]
    },
    {
      "cell_type": "markdown",
      "source": [
        "[코드 4-8 LHR]"
      ],
      "metadata": {
        "id": "3qndohwQBSKV"
      }
    },
    {
      "cell_type": "code",
      "source": [
        "import bs4\n",
        "\n",
        "webPage = open('LHR_sample3.html', 'rt', encoding='utf-8').read()\n",
        "bsObject = bs4.BeautifulSoup(webPage, 'html.parser')\n",
        "\n",
        "tag = bsObject.find('div', {'id': 'myId1'})\n",
        "print(tag.text)\n",
        "\n",
        "tag = bsObject.find_all('div', {'class': 'myClass1'})\n",
        "for t in tag:\n",
        "    print(t.text)\n"
      ],
      "metadata": {
        "colab": {
          "base_uri": "https://localhost:8080/"
        },
        "id": "3IjkoXoTDik0",
        "outputId": "c40722c2-243a-4758-a519-4c5884612f70"
      },
      "execution_count": 37,
      "outputs": [
        {
          "output_type": "stream",
          "name": "stdout",
          "text": [
            " 아기공룡 \n",
            " 내 친구 \n",
            " 둘리 \n"
          ]
        }
      ]
    },
    {
      "cell_type": "markdown",
      "source": [
        "[코드 4-9 LHR]"
      ],
      "metadata": {
        "id": "c4z7hOsSBTpS"
      }
    },
    {
      "cell_type": "code",
      "source": [
        "import bs4\n",
        "\n",
        "webPage = open('LHR_sample3.html', 'rt', encoding='utf-8').read()\n",
        "bsObject = bs4.BeautifulSoup(webPage, 'html.parser')\n",
        "\n",
        "ul_value = bsObject.find('ul', {'class': 'myClass2'})\n",
        "print(ul_value)\n",
        "print()\n",
        "\n",
        "li_list = bsObject.find_all('li', {'class': 'myClass3'})\n",
        "print(li_list)\n"
      ],
      "metadata": {
        "colab": {
          "base_uri": "https://localhost:8080/"
        },
        "id": "YESLSA-6D3Yr",
        "outputId": "75e6747a-8212-4a05-a8d9-b665bfdcc50e"
      },
      "execution_count": 36,
      "outputs": [
        {
          "output_type": "stream",
          "name": "stdout",
          "text": [
            "<ul class=\"myClass2\">\n",
            "<li> 이하랑 </li>\n",
            "<li> 자기이름 </li>\n",
            "</ul>\n",
            "\n",
            "[<li class=\"myClass3\"> 비기너 </li>, <li class=\"myClass3\"> 시리즈 </li>]\n"
          ]
        }
      ]
    },
    {
      "cell_type": "markdown",
      "source": [
        "[코드 4-10 LHR]"
      ],
      "metadata": {
        "id": "K19Fw2oTBVLH"
      }
    },
    {
      "cell_type": "code",
      "source": [
        "import bs4\n",
        "\n",
        "webPage = open('LHR_sample3.html', 'rt', encoding='utf-8').read()\n",
        "bsObject = bs4.BeautifulSoup(webPage, 'html.parser')\n",
        "\n",
        "a_list = bsObject.find_all('a')\n",
        "for aTag in a_list:\n",
        "    print(aTag['href'])\n"
      ],
      "metadata": {
        "colab": {
          "base_uri": "https://localhost:8080/"
        },
        "id": "R3EIz81oEAZv",
        "outputId": "6ff8de60-bd04-4e3c-f90f-7c132ac74eda"
      },
      "execution_count": 35,
      "outputs": [
        {
          "output_type": "stream",
          "name": "stdout",
          "text": [
            "www.daum.net\n",
            "www.nate.com\n",
            "www.naver.com\n"
          ]
        }
      ]
    },
    {
      "cell_type": "markdown",
      "source": [
        "[코드 4-11 LHR]"
      ],
      "metadata": {
        "id": "RdlXpELpBWfs"
      }
    },
    {
      "cell_type": "code",
      "source": [
        "import bs4\n",
        "\n",
        "webPage = open('LHR_sample3.html', 'rt', encoding='utf-8').read()\n",
        "bsObject = bs4.BeautifulSoup(webPage, 'html.parser')\n",
        "\n",
        "tag_li_all = bsObject.find_all('li')\n",
        "print(len(tag_li_all))\n",
        "\n",
        "for tag_li in tag_li_all:\n",
        "    print(tag_li.text)\n"
      ],
      "metadata": {
        "colab": {
          "base_uri": "https://localhost:8080/"
        },
        "id": "C7UlP3bGEKxc",
        "outputId": "2061f500-2206-4bad-90ac-0a21eb8161f0"
      },
      "execution_count": 34,
      "outputs": [
        {
          "output_type": "stream",
          "name": "stdout",
          "text": [
            "4\n",
            " 이하랑 \n",
            " 자기이름 \n",
            " 비기너 \n",
            " 시리즈 \n"
          ]
        }
      ]
    },
    {
      "cell_type": "markdown",
      "source": [
        "[코드 4-12 LHR]"
      ],
      "metadata": {
        "id": "_BIJSeQ_BX67"
      }
    },
    {
      "cell_type": "code",
      "source": [
        "import bs4\n",
        "import re\n",
        "\n",
        "webPage = open('LHR_sample3.html', 'rt', encoding='utf-8').read()\n",
        "bsObject = bs4.BeautifulSoup(webPage, 'html.parser')\n",
        "\n",
        "tag_text = bsObject.find('li', string=re.compile('비'))\n",
        "print(tag_text)\n"
      ],
      "metadata": {
        "colab": {
          "base_uri": "https://localhost:8080/"
        },
        "id": "GxmoqKvAExWm",
        "outputId": "87717f3f-2504-4832-b674-1d04f219ce59"
      },
      "execution_count": 39,
      "outputs": [
        {
          "output_type": "stream",
          "name": "stdout",
          "text": [
            "<li class=\"myClass3\"> 비기너 </li>\n"
          ]
        }
      ]
    },
    {
      "cell_type": "markdown",
      "source": [
        "[코드 4-13 LHR]"
      ],
      "metadata": {
        "id": "Be91ZcygBbeT"
      }
    },
    {
      "cell_type": "code",
      "source": [
        "import bs4\n",
        "import re\n",
        "\n",
        "webPage = open('LHR_sample3.html', 'rt', encoding='utf-8').read()\n",
        "bsObject = bs4.BeautifulSoup(webPage, 'html.parser')\n",
        "\n",
        "tag_text_all = bsObject.find_all('li', string=re.compile('비'))\n",
        "\n",
        "for tag_li in tag_text_all:\n",
        "    print(tag_li.text)\n"
      ],
      "metadata": {
        "colab": {
          "base_uri": "https://localhost:8080/"
        },
        "id": "s4-EwhyvFF0m",
        "outputId": "415d5130-62e9-4bf1-c3bb-30767ebf6662"
      },
      "execution_count": 40,
      "outputs": [
        {
          "output_type": "stream",
          "name": "stdout",
          "text": [
            " 비기너 \n"
          ]
        }
      ]
    },
    {
      "cell_type": "markdown",
      "source": [
        "[코드 4-14LHR]"
      ],
      "metadata": {
        "id": "eB66zvfFBddf"
      }
    },
    {
      "cell_type": "code",
      "source": [
        "from google.colab import files\n",
        "f = files.upload()"
      ],
      "metadata": {
        "colab": {
          "base_uri": "https://localhost:8080/",
          "height": 74
        },
        "id": "8juaH4emFUAr",
        "outputId": "106895a9-17dc-423a-861f-cd87ec05beee"
      },
      "execution_count": 41,
      "outputs": [
        {
          "output_type": "display_data",
          "data": {
            "text/plain": [
              "<IPython.core.display.HTML object>"
            ],
            "text/html": [
              "\n",
              "     <input type=\"file\" id=\"files-a0ba7c9c-db0a-4b7e-a058-1b1537926407\" name=\"files[]\" multiple disabled\n",
              "        style=\"border:none\" />\n",
              "     <output id=\"result-a0ba7c9c-db0a-4b7e-a058-1b1537926407\">\n",
              "      Upload widget is only available when the cell has been executed in the\n",
              "      current browser session. Please rerun this cell to enable.\n",
              "      </output>\n",
              "      <script>// Copyright 2017 Google LLC\n",
              "//\n",
              "// Licensed under the Apache License, Version 2.0 (the \"License\");\n",
              "// you may not use this file except in compliance with the License.\n",
              "// You may obtain a copy of the License at\n",
              "//\n",
              "//      http://www.apache.org/licenses/LICENSE-2.0\n",
              "//\n",
              "// Unless required by applicable law or agreed to in writing, software\n",
              "// distributed under the License is distributed on an \"AS IS\" BASIS,\n",
              "// WITHOUT WARRANTIES OR CONDITIONS OF ANY KIND, either express or implied.\n",
              "// See the License for the specific language governing permissions and\n",
              "// limitations under the License.\n",
              "\n",
              "/**\n",
              " * @fileoverview Helpers for google.colab Python module.\n",
              " */\n",
              "(function(scope) {\n",
              "function span(text, styleAttributes = {}) {\n",
              "  const element = document.createElement('span');\n",
              "  element.textContent = text;\n",
              "  for (const key of Object.keys(styleAttributes)) {\n",
              "    element.style[key] = styleAttributes[key];\n",
              "  }\n",
              "  return element;\n",
              "}\n",
              "\n",
              "// Max number of bytes which will be uploaded at a time.\n",
              "const MAX_PAYLOAD_SIZE = 100 * 1024;\n",
              "\n",
              "function _uploadFiles(inputId, outputId) {\n",
              "  const steps = uploadFilesStep(inputId, outputId);\n",
              "  const outputElement = document.getElementById(outputId);\n",
              "  // Cache steps on the outputElement to make it available for the next call\n",
              "  // to uploadFilesContinue from Python.\n",
              "  outputElement.steps = steps;\n",
              "\n",
              "  return _uploadFilesContinue(outputId);\n",
              "}\n",
              "\n",
              "// This is roughly an async generator (not supported in the browser yet),\n",
              "// where there are multiple asynchronous steps and the Python side is going\n",
              "// to poll for completion of each step.\n",
              "// This uses a Promise to block the python side on completion of each step,\n",
              "// then passes the result of the previous step as the input to the next step.\n",
              "function _uploadFilesContinue(outputId) {\n",
              "  const outputElement = document.getElementById(outputId);\n",
              "  const steps = outputElement.steps;\n",
              "\n",
              "  const next = steps.next(outputElement.lastPromiseValue);\n",
              "  return Promise.resolve(next.value.promise).then((value) => {\n",
              "    // Cache the last promise value to make it available to the next\n",
              "    // step of the generator.\n",
              "    outputElement.lastPromiseValue = value;\n",
              "    return next.value.response;\n",
              "  });\n",
              "}\n",
              "\n",
              "/**\n",
              " * Generator function which is called between each async step of the upload\n",
              " * process.\n",
              " * @param {string} inputId Element ID of the input file picker element.\n",
              " * @param {string} outputId Element ID of the output display.\n",
              " * @return {!Iterable<!Object>} Iterable of next steps.\n",
              " */\n",
              "function* uploadFilesStep(inputId, outputId) {\n",
              "  const inputElement = document.getElementById(inputId);\n",
              "  inputElement.disabled = false;\n",
              "\n",
              "  const outputElement = document.getElementById(outputId);\n",
              "  outputElement.innerHTML = '';\n",
              "\n",
              "  const pickedPromise = new Promise((resolve) => {\n",
              "    inputElement.addEventListener('change', (e) => {\n",
              "      resolve(e.target.files);\n",
              "    });\n",
              "  });\n",
              "\n",
              "  const cancel = document.createElement('button');\n",
              "  inputElement.parentElement.appendChild(cancel);\n",
              "  cancel.textContent = 'Cancel upload';\n",
              "  const cancelPromise = new Promise((resolve) => {\n",
              "    cancel.onclick = () => {\n",
              "      resolve(null);\n",
              "    };\n",
              "  });\n",
              "\n",
              "  // Wait for the user to pick the files.\n",
              "  const files = yield {\n",
              "    promise: Promise.race([pickedPromise, cancelPromise]),\n",
              "    response: {\n",
              "      action: 'starting',\n",
              "    }\n",
              "  };\n",
              "\n",
              "  cancel.remove();\n",
              "\n",
              "  // Disable the input element since further picks are not allowed.\n",
              "  inputElement.disabled = true;\n",
              "\n",
              "  if (!files) {\n",
              "    return {\n",
              "      response: {\n",
              "        action: 'complete',\n",
              "      }\n",
              "    };\n",
              "  }\n",
              "\n",
              "  for (const file of files) {\n",
              "    const li = document.createElement('li');\n",
              "    li.append(span(file.name, {fontWeight: 'bold'}));\n",
              "    li.append(span(\n",
              "        `(${file.type || 'n/a'}) - ${file.size} bytes, ` +\n",
              "        `last modified: ${\n",
              "            file.lastModifiedDate ? file.lastModifiedDate.toLocaleDateString() :\n",
              "                                    'n/a'} - `));\n",
              "    const percent = span('0% done');\n",
              "    li.appendChild(percent);\n",
              "\n",
              "    outputElement.appendChild(li);\n",
              "\n",
              "    const fileDataPromise = new Promise((resolve) => {\n",
              "      const reader = new FileReader();\n",
              "      reader.onload = (e) => {\n",
              "        resolve(e.target.result);\n",
              "      };\n",
              "      reader.readAsArrayBuffer(file);\n",
              "    });\n",
              "    // Wait for the data to be ready.\n",
              "    let fileData = yield {\n",
              "      promise: fileDataPromise,\n",
              "      response: {\n",
              "        action: 'continue',\n",
              "      }\n",
              "    };\n",
              "\n",
              "    // Use a chunked sending to avoid message size limits. See b/62115660.\n",
              "    let position = 0;\n",
              "    do {\n",
              "      const length = Math.min(fileData.byteLength - position, MAX_PAYLOAD_SIZE);\n",
              "      const chunk = new Uint8Array(fileData, position, length);\n",
              "      position += length;\n",
              "\n",
              "      const base64 = btoa(String.fromCharCode.apply(null, chunk));\n",
              "      yield {\n",
              "        response: {\n",
              "          action: 'append',\n",
              "          file: file.name,\n",
              "          data: base64,\n",
              "        },\n",
              "      };\n",
              "\n",
              "      let percentDone = fileData.byteLength === 0 ?\n",
              "          100 :\n",
              "          Math.round((position / fileData.byteLength) * 100);\n",
              "      percent.textContent = `${percentDone}% done`;\n",
              "\n",
              "    } while (position < fileData.byteLength);\n",
              "  }\n",
              "\n",
              "  // All done.\n",
              "  yield {\n",
              "    response: {\n",
              "      action: 'complete',\n",
              "    }\n",
              "  };\n",
              "}\n",
              "\n",
              "scope.google = scope.google || {};\n",
              "scope.google.colab = scope.google.colab || {};\n",
              "scope.google.colab._files = {\n",
              "  _uploadFiles,\n",
              "  _uploadFilesContinue,\n",
              "};\n",
              "})(self);\n",
              "</script> "
            ]
          },
          "metadata": {}
        },
        {
          "output_type": "stream",
          "name": "stdout",
          "text": [
            "Saving LHR_sample4.html to LHR_sample4.html\n"
          ]
        }
      ]
    },
    {
      "cell_type": "markdown",
      "source": [
        "[코드 4-15 LHR]"
      ],
      "metadata": {
        "id": "OCVG3E6kBiJr"
      }
    },
    {
      "cell_type": "code",
      "source": [
        "import bs4\n",
        "\n",
        "webPage = open('LHR_sample4.html', 'rt', encoding='utf-8').read()\n",
        "bsObject = bs4.BeautifulSoup(webPage, 'html.parser')\n",
        "\n",
        "tag = bsObject.find_all('div', {'class': 'myClass1'})\n",
        "for t in tag:\n",
        "    print(t.text)\n"
      ],
      "metadata": {
        "colab": {
          "base_uri": "https://localhost:8080/"
        },
        "id": "CvJoQfftFs2s",
        "outputId": "62d2137c-3db4-44bd-ffc8-a13f2454e219"
      },
      "execution_count": 57,
      "outputs": [
        {
          "output_type": "stream",
          "name": "stdout",
          "text": [
            " 커피류 \n",
            " 쥬스류 \n"
          ]
        }
      ]
    },
    {
      "cell_type": "markdown",
      "source": [
        "[코드 4-16 LHR]"
      ],
      "metadata": {
        "id": "IjDJX4vQBjkM"
      }
    },
    {
      "cell_type": "code",
      "source": [
        "import bs4\n",
        "\n",
        "webPage = open('LHR_sample4.html', 'rt', encoding='utf-8').read()\n",
        "bsObject = bs4.BeautifulSoup(webPage, 'html.parser')\n",
        "\n",
        "tag = bsObject.find_all('div', {'id': 'myId1'})\n",
        "print(tag)\n"
      ],
      "metadata": {
        "colab": {
          "base_uri": "https://localhost:8080/"
        },
        "id": "dizYC6FMG2wq",
        "outputId": "83e97684-5234-4f01-d318-0fed2d881ec3"
      },
      "execution_count": 59,
      "outputs": [
        {
          "output_type": "stream",
          "name": "stdout",
          "text": [
            "[<div id=\"myId1\"> 맛 카페 </div>]\n"
          ]
        }
      ]
    },
    {
      "cell_type": "markdown",
      "source": [
        "[코드 4-17 LHR]"
      ],
      "metadata": {
        "id": "tR_v9xDoBkhD"
      }
    },
    {
      "cell_type": "code",
      "source": [
        "import bs4\n",
        "\n",
        "webPage = open('LHR_sample4.html', 'rt', encoding='utf-8').read()\n",
        "bsObject = bs4.BeautifulSoup(webPage, 'html.parser')\n",
        "\n",
        "tag = bsObject.find_all('ul', {'class': 'myClass2'})\n",
        "print(tag)\n"
      ],
      "metadata": {
        "colab": {
          "base_uri": "https://localhost:8080/"
        },
        "id": "uSt-9cPIG8Gt",
        "outputId": "837d42e3-f471-4052-d0f8-60dbe3dc608e"
      },
      "execution_count": 61,
      "outputs": [
        {
          "output_type": "stream",
          "name": "stdout",
          "text": [
            "[<ul class=\"myClass2\">\n",
            "<li> 아메리카노 </li>\n",
            "<li> 카페라떼 </li>\n",
            "<li> 카푸치노 </li>\n",
            "</ul>]\n"
          ]
        }
      ]
    },
    {
      "cell_type": "markdown",
      "source": [
        "[코드 4-18 LHR]"
      ],
      "metadata": {
        "id": "SiBvy-pDBlnP"
      }
    },
    {
      "cell_type": "code",
      "source": [
        "import bs4\n",
        "\n",
        "webPage = open('LHR_sample4.html', 'rt', encoding='utf-8').read()\n",
        "bsObject = bs4.BeautifulSoup(webPage, 'html.parser')\n",
        "\n",
        "tag = bsObject.find_all('div')\n",
        "for t in tag:\n",
        "    print(t.text)\n"
      ],
      "metadata": {
        "colab": {
          "base_uri": "https://localhost:8080/"
        },
        "id": "7BTqXCrrHLMf",
        "outputId": "a39133c4-c469-40a4-df6b-2824e35a3741"
      },
      "execution_count": 63,
      "outputs": [
        {
          "output_type": "stream",
          "name": "stdout",
          "text": [
            " 맛 카페 \n",
            " 커피류 \n",
            " 쥬스류 \n"
          ]
        }
      ]
    },
    {
      "cell_type": "markdown",
      "source": [
        "[코드 4-19 LHR]"
      ],
      "metadata": {
        "id": "_mb12W71Bmp1"
      }
    },
    {
      "cell_type": "code",
      "source": [
        "import bs4\n",
        "\n",
        "webPage = open('LHR_sample4.html', 'rt', encoding='utf-8').read()\n",
        "bsObject = bs4.BeautifulSoup(webPage, 'html.parser')\n",
        "\n",
        "tag = bsObject.find_all('li', {'class': 'myClass3'})\n",
        "for t in tag:\n",
        "    print(t.text)\n"
      ],
      "metadata": {
        "colab": {
          "base_uri": "https://localhost:8080/"
        },
        "id": "JaYv7q5CHWAV",
        "outputId": "4dd4a239-7649-4420-c583-dabf7c3f082e"
      },
      "execution_count": 69,
      "outputs": [
        {
          "output_type": "stream",
          "name": "stdout",
          "text": [
            " 오렌지쥬스 \n",
            " 스무디 \n"
          ]
        }
      ]
    },
    {
      "cell_type": "markdown",
      "source": [
        "[코드 4-20 LHR]"
      ],
      "metadata": {
        "id": "8qkcJOYiBn3N"
      }
    },
    {
      "cell_type": "code",
      "source": [
        "import bs4\n",
        "\n",
        "webPage = open('LHR_sample4.html', 'rt', encoding='utf-8').read()\n",
        "bsObject = bs4.BeautifulSoup(webPage, 'html.parser')\n",
        "\n",
        "a_list = bsObject.find('a')\n",
        "print(a_list['href'])\n"
      ],
      "metadata": {
        "colab": {
          "base_uri": "https://localhost:8080/"
        },
        "id": "Zwg9LxHmHtDl",
        "outputId": "e475a8ca-fd79-4334-e5ad-fba94f5e94e6"
      },
      "execution_count": 71,
      "outputs": [
        {
          "output_type": "stream",
          "name": "stdout",
          "text": [
            "www.induk.ac.kr\n"
          ]
        }
      ]
    },
    {
      "cell_type": "markdown",
      "source": [
        "[코드 4-21 LHR]"
      ],
      "metadata": {
        "id": "bevWZIYsBo_o"
      }
    },
    {
      "cell_type": "code",
      "source": [
        "import bs4\n",
        "\n",
        "webPage = open('LHR_sample4.html', 'rt', encoding='utf-8').read()\n",
        "bsObject = bs4.BeautifulSoup(webPage, 'html.parser')\n",
        "\n",
        "tag_li_all = bsObject.find_all('li')\n",
        "for tag_li in tag_li_all:\n",
        "    print(tag_li.text)\n"
      ],
      "metadata": {
        "colab": {
          "base_uri": "https://localhost:8080/"
        },
        "id": "nUsvKdMSIAEa",
        "outputId": "5bda7373-cf4c-4b75-e6d8-dd3973f909bb"
      },
      "execution_count": 74,
      "outputs": [
        {
          "output_type": "stream",
          "name": "stdout",
          "text": [
            " 아메리카노 \n",
            " 카페라떼 \n",
            " 카푸치노 \n",
            " 오렌지쥬스 \n",
            " 스무디 \n"
          ]
        }
      ]
    },
    {
      "cell_type": "markdown",
      "source": [
        "[코드 4-22 LHR]"
      ],
      "metadata": {
        "id": "MQnAqoW7Bp77"
      }
    },
    {
      "cell_type": "code",
      "source": [
        "import bs4\n",
        "\n",
        "webPage = open('LHR_sample4.html', 'rt', encoding='utf-8').read()\n",
        "bsObject = bs4.BeautifulSoup(webPage, 'html.parser')\n",
        "\n",
        "tag_img = bsObject.find('img')\n",
        "print(tag_img['src'])\n"
      ],
      "metadata": {
        "colab": {
          "base_uri": "https://localhost:8080/"
        },
        "id": "UkdaH1agIdeT",
        "outputId": "fde2a5e5-3bf1-4c46-d9af-d2bfa1e4d673"
      },
      "execution_count": 75,
      "outputs": [
        {
          "output_type": "stream",
          "name": "stdout",
          "text": [
            "ksj.png\n"
          ]
        }
      ]
    },
    {
      "cell_type": "markdown",
      "source": [
        "[코드 4-23 LHR]"
      ],
      "metadata": {
        "id": "2ka5ybn8Bq_X"
      }
    },
    {
      "cell_type": "code",
      "source": [
        "import bs4\n",
        "import re\n",
        "\n",
        "webPage = open('LHR_sample4.html', 'rt', encoding='utf-8').read()\n",
        "bsObject = bs4.BeautifulSoup(webPage, 'html.parser')\n",
        "\n",
        "tag_text_all = bsObject.find_all('li', string=re.compile('카'))\n",
        "\n",
        "print(len(tag_text_all))\n",
        "\n",
        "for tag_li in tag_text_all:\n",
        "    print(tag_li.text)\n"
      ],
      "metadata": {
        "colab": {
          "base_uri": "https://localhost:8080/"
        },
        "id": "Lu2R6PaTInwD",
        "outputId": "b7f03ec1-4b2b-44a8-d14b-77d28fa06023"
      },
      "execution_count": 77,
      "outputs": [
        {
          "output_type": "stream",
          "name": "stdout",
          "text": [
            "3\n",
            " 아메리카노 \n",
            " 카페라떼 \n",
            " 카푸치노 \n"
          ]
        }
      ]
    },
    {
      "cell_type": "markdown",
      "source": [
        "[코드 4-24 LHR]"
      ],
      "metadata": {
        "id": "ERP-omEBBs3o"
      }
    },
    {
      "cell_type": "code",
      "source": [
        "import bs4\n",
        "\n",
        "webPage = open('LHR_sample4.html', 'rt', encoding='utf-8').read()\n",
        "bsObject = bs4.BeautifulSoup(webPage, 'html.parser')\n",
        "\n",
        "tag_li_all = bsObject.find_all('li')\n",
        "for tag_li in tag_li_all:\n",
        "    print(tag_li.text)\n"
      ],
      "metadata": {
        "colab": {
          "base_uri": "https://localhost:8080/"
        },
        "id": "VoYM7Fv4IwG6",
        "outputId": "5c5c47cc-bf26-44c5-99e8-9928ea52f114"
      },
      "execution_count": 79,
      "outputs": [
        {
          "output_type": "stream",
          "name": "stdout",
          "text": [
            " 아메리카노 \n",
            " 카페라떼 \n",
            " 카푸치노 \n",
            " 오렌지쥬스 \n",
            " 스무디 \n"
          ]
        }
      ]
    }
  ]
}