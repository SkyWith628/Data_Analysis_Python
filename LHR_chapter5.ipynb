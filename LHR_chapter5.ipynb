{
  "nbformat": 4,
  "nbformat_minor": 0,
  "metadata": {
    "colab": {
      "provenance": []
    },
    "kernelspec": {
      "name": "python3",
      "display_name": "Python 3"
    },
    "language_info": {
      "name": "python"
    }
  },
  "cells": [
    {
      "cell_type": "markdown",
      "source": [
        "[코드 LHR 5-1]"
      ],
      "metadata": {
        "id": "3Y2ModP05Z0M"
      }
    },
    {
      "cell_type": "code",
      "source": [
        "import urllib.request\n",
        "import bs4\n",
        "\n",
        "nateUrl = \"https://www.nate.com\"\n",
        "htmlObject = urllib.request.urlopen(nateUrl)\n",
        "bsObject = bs4.BeautifulSoup(htmlObject, 'html.parser')\n",
        "\n",
        "print(bsObject)\n"
      ],
      "metadata": {
        "colab": {
          "base_uri": "https://localhost:8080/"
        },
        "id": "tJARpVSd6SxW",
        "outputId": "7876c0c0-1e07-4a18-a4e0-17f6aa70c0db"
      },
      "execution_count": 2,
      "outputs": [
        {
          "output_type": "stream",
          "name": "stdout",
          "text": [
            "\n",
            "<!DOCTYPE html>\n",
            "\n",
            "<html lang=\"ko\">\n",
            "<head>\n",
            "<meta content=\"IE=Edge\" http-equiv=\"X-UA-Compatible\"/>\n",
            "<meta content=\"//www.nate.com/\" name=\"msapplication-starturl\"/>\n",
            "<meta content=\"text/html; charset=utf-8\" http-equiv=\"Content-Type\"/>\n",
            "<meta content=\"\" name=\"nate:title\"/>\n",
            "<meta content=\"네이트 이슈UP\" name=\"nate:description\"/>\n",
            "<meta content=\"네이트 홈\" name=\"nate:site_name\"/>\n",
            "<meta content=\"https://www.nate.com/\" name=\"nate:url\"/>\n",
            "<meta content=\"\" name=\"nate:image\"/>\n",
            "<meta content=\"새로워진 네이트에서 당신의 오늘을 만나보세요\" name=\"description\"/>\n",
            "<meta content=\"width=device-width, initial-scale=1\" name=\"viewport\"/>\n",
            "<meta content=\"네이트\" property=\"og:title\"/>\n",
            "<meta content=\"https://www.nate.com/\" property=\"og:url\"/>\n",
            "<meta content=\"https://main.nateimg.co.kr/img/v7/OpenGraphTag_nate_240x240.png\" property=\"og:image\"/>\n",
            "<meta content=\"새로워진 네이트에서 당신의 오늘을 만나보세요\" property=\"og:description\"/>\n",
            "<title>네이트</title>\n",
            "<link href=\"/css/common.min.css?v=202509291014_01\" rel=\"stylesheet\" type=\"text/css\"/>\n",
            "<link href=\"//main.nateimg.co.kr/img/v7/favicon_32.ico\" rel=\"shortcut icon\" type=\"image/x-icon\">\n",
            "<link href=\"https://www.nate.com\" rel=\"canonical\"/>\n",
            "<!-- script type=\"text/javascript\" src=\"/js/common/jquery-1.9.1.min.js\"></script-->\n",
            "<!-- jquery 3.x 적용을 테스트를 위한 migrate 테스트 적용 -->\n",
            "<script src=\"/js/common/jquery-3.7.1.min.js\" type=\"text/javascript\"></script>\n",
            "<script src=\"/js/common/jquery-migrate-3.4.1.min.js\" type=\"text/javascript\"></script>\n",
            "<script type=\"text/javascript\">\r\n",
            "\tvar isSvc = true; var isInfoAjax = true;\r\n",
            "\tvar make = 't';\r\n",
            "\tvar isMakeLogin = '';\r\n",
            "\tvar host = 'www.nate.com';\r\n",
            "\tvar isNateLogin = (isMakeLogin == \"Y\") ? true : false;\r\n",
            "\tvar myId = \"\";\r\n",
            "\tvar iSvcSeq  ='2'; \r\n",
            "\tvar iSvcSeqB ='5'; \r\n",
            "\tvar iSvcSeqC ='1';\r\n",
            "\tvar currentWeatherIndex = [0,11,8]; \r\n",
            "\tvar iSvcSeqW = iSvcSeqB;\r\n",
            "\tvar isCommsbarOpen = ('N' == 'Y') ? true : false;\r\n",
            "\tvar loginType = '';\r\n",
            "\tvar isiPad = (navigator.userAgent.toUpperCase().indexOf(\"IPAD\") !== -1);\r\n",
            "\tvar isGalaxyTab = (navigator.userAgent.toUpperCase().indexOf(\"SHW-M180\") !== -1); // GT-P1000\r\n",
            "\tvar isGalaxyTab10 = (navigator.userAgent.toUpperCase().indexOf(\"SHW-M380\") !== -1);\r\n",
            "\tvar isTablet = (isiPad == true || isGalaxyTab == true || isGalaxyTab10 == true);\r\n",
            "\tif (isTablet)\r\n",
            "\t{\r\n",
            "\t    document.write('<link rel=\"apple-touch-icon-precomposed\" href=\"//main.nateimg.co.kr/img/nate_144.png\" />');\r\n",
            "\t}\r\n",
            "\tvar loginBoxName \t= \"아이디 or @이하 모두 입력\";\r\n",
            "\tvar hostInfo \t \t= (host.length > 0) ? '//' + host : '';\r\n",
            "\t\r\n",
            "\tvar verTravel \t\t= '202509291405';\r\n",
            "\tvar verLife \t\t= '202509291405';\r\n",
            "\tvar verIssueFun\t\t= '202509291405';\r\n",
            "\tvar verIssue04 \t\t= '202509291401';\r\n",
            "\tvar verIssue05 \t\t= '202509291401';\r\n",
            "\tvar verIssue06 \t\t= '202509291401';\r\n",
            "\tvar verIssue07 \t\t= '202509291401';\r\n",
            "\t\t\r\n",
            "\tvar verNateTV\t\t\t= '202509291413';\r\n",
            "\tvar verIssueKeyword\t\t= '202509291420';\r\n",
            "\tvar verToonNBook\t\t= '202509291407';\r\n",
            "\tvar verShortFormBest\t= '202509291402';\r\n",
            "\tvar verWeather\t\t\t= '202509291358';\r\n",
            "\tvar verTodayBox\t\t\t= '202509291416';\r\n",
            "\tvar verCarTech\t\t\t= '202509291405';\r\n",
            "\r\n",
            "\tvar verRanking06\t\t= '202509291403';\r\n",
            "\tvar verGnbRoll\t\t\t= '202509291401';\r\n",
            "\tvar verNewsBox \t\t\t= '202509291421';\r\n",
            "\tvar verShopRecomm\t\t= '202509291410';\r\n",
            "\r\n",
            "\tvar verPannTotal\t\t= '202509291416';\r\n",
            "\tvar verPannWomanLife\t= '202509291416';\r\n",
            "\tvar verPannTeens\t\t= '202509291416';\r\n",
            "\tvar verPannEnter\t\t= '202509291416';\r\n",
            "\tvar verTodayKeyword \t= '202503251436';\r\n",
            "\tvar verWorkLife\t\t\t= '202509290016';\r\n",
            "\tvar verKeywordAd\t\t= '202509291417';\r\n",
            "\tvar verAdFunFun\t\t\t= '202509291405';\r\n",
            "\tvar verHotDeal\t\t\t= '202506301406';\r\n",
            "\tvar verBizSearch \t\t= '202509231733';\r\n",
            "\tvar verPann01 \t\t\t= '201907240835';\r\n",
            "\tvar verPann02 \t\t\t= '201907240835';\r\n",
            "\r\n",
            "\tvar shoppingInspection \t\t= 'N';\r\n",
            "\tvar isEmergencyShoppingTab \t= 'N';\r\n",
            "\tvar isAutoRefresh \t\t\t= true;\r\n",
            "\tvar isChangeTab \t\t\t= false;\r\n",
            "\tvar nateAwardsStat\t\t\t= '';\r\n",
            "\tvar isViewKeywordRank\t\t= 'N';\r\n",
            "\tvar isEmergencyToonNBookTab = 'N';\r\n",
            "\r\n",
            "\t//]]>\r\n",
            "\t</script>\n",
            "<script src=\"/js/common/nate_general_v20250710.js?v=202509291317_08\" type=\"text/javascript\"></script>\n",
            "<script src=\"/js/common/ac_v6.js?v=20250909_01\" type=\"text/javascript\"></script>\n",
            "<script src=\"/js/common/common.min.js?v=20250909_01\" type=\"text/javascript\"></script>\n",
            "<script src=\"/js/common/nate_logout_v20250710.js?v=202507240900\" type=\"text/javascript\"></script>\n",
            "<script type=\"text/javascript\">\r\n",
            "\t\t //<![CDATA[\t\t\r\n",
            "\t\t\tvar bLogout = false;\r\n",
            "\t    \tif (isLogout()) { fillLogout(); }\r\n",
            "\t\t //]]>\r\n",
            "\t\t</script>\n",
            "<script src=\"/js/common/swiper.min.js?v=1\" type=\"text/javascript\"></script>\n",
            "</link></head>\n",
            "<body>\n",
            "<script type=\"text/javascript\">\r\n",
            "\t //<![CDATA[\t\t\r\n",
            "\t\tpageEnd2('st');\r\n",
            "\t //]]>\r\n",
            "\t</script>\n",
            "<div id=\"mainContainer\">\n",
            "<div class=\"area_access\">\n",
            "<h2>네이트 메인페이지 주요 내용 바로가기</h2>\n",
            "<ul>\n",
            "<li><a href=\"#search\"><strong>통합검색 바로가기</strong></a></li>\n",
            "<li><a href=\"#UI\"><strong>로그인영역 바로가기</strong></a></li>\n",
            "<li><a href=\"#news_area\"><strong>본문영역 바로가기</strong></a></li>\n",
            "</ul>\n",
            "</div>\n",
            "<div id=\"container\">\n",
            "<div id=\"header\">\n",
            "<div class=\"area_bi\" id=\"NateBi\" role=\"banner\">\n",
            "<h1 class=\"bi\" title=\"네이트\"><a href=\"//www.nate.com/?f=bi\" onmousedown=\"nc('NBI01');\">네이트</a></h1>\n",
            "</div>\n",
            "<div class=\"area_ignb\" id=\"divignb\">\n",
            "<h2>독립GNB</h2>\n",
            "<h3>편리한 네이트</h3>\n",
            "<ul>\n",
            "<li><a href=\"https://search.daum.net/nate?thr=sbma&amp;w=tot&amp;q=%EB%84%A4%EC%9D%B4%ED%8A%B8%EC%95%B1\" onmousedown=\"nc('NBI04');\">네이트앱</a></li>\n",
            "<li><a href=\"//nateonweb.nate.com/\" onmousedown=\"nc('NBI05');\">네이트온</a></li>\n",
            "<li><a href=\"http://www.cymera.com/main/ko\" onmousedown=\"nc('NBI07');\">싸이메라</a></li>\n",
            "</ul>\n",
            "</div>\n",
            "<div class=\"area_search\" role=\"search\">\n",
            "<h2>통합검색</h2>\n",
            "<form accept-charset=\"utf-8\" action=\"https://search.daum.net/nate\" id=\"search\" name=\"search\" onsubmit=\"return checkSearchForm()\">\n",
            "<input id=\"thr\" name=\"thr\" type=\"hidden\" value=\"sbma\"/>\n",
            "<input id=\"w\" name=\"w\" type=\"hidden\" value=\"tot\"/>\n",
            "<fieldset>\n",
            "<legend>통합검색 입력</legend>\n",
            "<div class=\"home\" id=\"acWrap\" onmouseover=\"ac_LoadByNateMain();\">\n",
            "<input autocomplete=\"off\" class=\"type_text\" id=\"q\" name=\"q\" onkeydown=\"return checkSearchQEnter(event)\" onmousedown=\"clickSearchKeywordAd()\" style=\"ime-mode:active\" type=\"text\" value=\"\"/>\n",
            "<input class=\"type_btn\" id=\"acBtn\" title=\"검색\" type=\"submit\"/>\n",
            "<div id=\"acDiv\" style=\"display:none;\"></div>\n",
            "</div>\n",
            "</fieldset>\n",
            "</form>\n",
            "<input id=\"premiumText\" name=\"premiumText\" title=\"\" type=\"hidden\" value=\"\">\n",
            "<input id=\"premiumLink\" name=\"premiumLink\" title=\"\" type=\"hidden\" value=\"\"/>\n",
            "<input id=\"statCode\" name=\"statCode\" title=\"\" type=\"hidden\" value=\"\"/>\n",
            "<div class=\"search_keyword\">\n",
            "<dl>\n",
            "<dd>\n",
            "<a href=\"https://search.daum.net/nate?w=tot&amp;q=김건모+복귀&amp;rtmaxcoll=DNS\" id=\"onclick_semantic01\" onmousedown=\"setNcCode('NSC11|NSC21|NSC31',iSvcSeq-1);\">김건모 복귀</a>\n",
            "<a href=\"https://search.daum.net/nate?w=tot&amp;DA=NAD&amp;q=%EB%85%B8%EC%95%88%EB%9D%BC%EC%8B%9D\" id=\"onclick_semantic02\" onmousedown=\"setNcCode('NSC12|NSC22|NSC32',iSvcSeq-1);\">노안라식후기</a>\n",
            "<a href=\"https://search.daum.net/nate?w=tot&amp;DA=NAD&amp;q=%EA%B0%84%EB%B3%91%EB%B3%B4%ED%97%98\" id=\"onclick_semantic03\" onmousedown=\"setNcCode('NSC13|NSC23|NSC33',iSvcSeq-1);\">간병보험 추천</a>\n",
            "<a href=\"https://search.daum.net/nate?w=tot&amp;q=김혜성+최종전+홈런&amp;rtmaxcoll=DNS\" id=\"onclick_semantic04\" onmousedown=\"setNcCode('NSC14|NSC24|NSC34',iSvcSeq-1);\">김혜성 최종전 홈런</a>\n",
            "<a href=\"https://search.daum.net/nate?w=tot&amp;q=추석+연휴+무료통행&amp;rtmaxcoll=DNS\" id=\"onclick_semantic05\" onmousedown=\"setNcCode('NSC15|NSC25|NSC35',iSvcSeq-1);\">추석 연휴 무료통행</a>\n",
            "</dd>\n",
            "</dl>\n",
            "</div>\n",
            "<a class=\"link-ngpt\" href=\"https://m.nate.com/aichat.html\" onmousedown=\"nc('NNC01');\" target=\"_blank\">AI챗 바로가기</a>\n",
            "</input></div>\n",
            "<div class=\"area_gnb\" id=\"divGnb\" role=\"navigation\">\n",
            "<h2>GNB</h2>\n",
            "<ul>\n",
            "<li class=\"mail\"><a href=\"https://mail3.nate.com/#index\" onmousedown=\"nc('NGB01');\">메일</a></li>\n",
            "<li class=\"news\"><a href=\"//news.nate.com/\" onmousedown=\"nc('NEV31');\">뉴스</a></li>\n",
            "<li class=\"pann\"><a href=\"https://pann.nate.com/\" onmousedown=\"nc('NGB02');\">판</a></li>\n",
            "<li class=\"chat1\"><a href=\"https://m.nate.com/aichat.html\" onmousedown=\"nc('NGB51');\" target=\"_blank\">AI챗</a><em class=\"beta\">beta</em></li>\n",
            "<li class=\"tv\"><a href=\"https://tv.nate.com/\" onmousedown=\"nc('NGB43');\">TV</a></li>\n",
            "<li class=\"comics\"><a href=\"https://toonnbook.nate.com/\" onmousedown=\"nc('NGB44');\">만화</a></li>\n",
            "<li class=\"fortune\"><a href=\"https://fortune.nate.com/home/main.nate\" onmousedown=\"nc('NGB05');\">운세</a></li>\n",
            "<li class=\"game\"><a href=\"http://game.nate.com/\" onmousedown=\"nc('NGB06');\">게임</a></li>\n",
            "<li class=\"shopping\"><a href=\"//shopping.nate.com/\" onmousedown=\"nc('NGB17');\">쇼핑</a></li>\n",
            "<li class=\"shopping\"><a href=\"//nate.mallpie.kr/\" onmousedown=\"nc('NGB56');\" target=\"_blank\">핫딜</a></li>\n",
            "<li class=\"teamroom\"><a href=\"https://nateonweb.nate.com/teamroom/\" onmousedown=\"nc('NGB42');\" title=\"함께하는 일이 쉬워진다\">팀룸</a></li>\n",
            "<li class=\"\"><a href=\"https://view.nate.com/\" onmousedown=\"nc('NGB50');\" title=\"네이트뷰\">네이트뷰</a></li>\n",
            "<li class=\"\"><a href=\"https://cartech.nate.com/\" onmousedown=\"nc('NGB03');\" title=\"자동차\">자동차</a></li>\n",
            "<li class=\"more\">\n",
            "<a href=\"javascript:;\" id=\"aGnbMore\" onmousedown=\"nc('NGB31');\" title=\"전체 서비스 더보기\">더보기</a>\n",
            "<div class=\"list_svc\" style=\"display:none\">\n",
            "<ul class=\"row_first\">\n",
            "<li><a href=\"//news.nate.com\" onmousedown=\"nc('NSD30');\"><strong>뉴스</strong></a></li>\n",
            "<li><a href=\"//news.nate.com/Weather\" onmousedown=\"nc('NSD45');\">날씨</a></li>\n",
            "<li><a href=\"//sports.news.nate.com/\" onmousedown=\"nc('NSD74');\">스포츠</a></li>\n",
            "<li><a href=\"//news.nate.com/ent/index\" onmousedown=\"nc('NSD75');\">연예</a></li>\n",
            "<li><a href=\"//news.nate.com/ent/idol24\" onmousedown=\"nc('NSD02');\">아이돌24</a></li>\n",
            "<li><a href=\"//news.nate.com/rank/interest\" onmousedown=\"nc('NSD01');\">랭킹뉴스</a></li>\n",
            "</ul>\n",
            "<ul class=\"row_second\">\n",
            "<li><a href=\"https://pann.nate.com/\" onmousedown=\"nc('NSD68');\"><strong>판</strong></a></li>\n",
            "<li><a href=\"https://pann.nate.com/talk\" onmousedown=\"nc('NSD06');\">톡톡</a></li>\n",
            "<li><a href=\"https://pann.nate.com/fantalk\" onmousedown=\"nc('NSD76');\">팬톡</a></li>\n",
            "</ul>\n",
            "<ul class=\"row_third\">\n",
            "<li><a href=\"//nateonweb.nate.com/\" onmousedown=\"nc('NSD37');\">네이트온</a></li>\n",
            "<li><a href=\"//cash.nate.com/center/cashMain.sc\" onmousedown=\"nc('NSD38');\">네이트캐쉬</a></li>\n",
            "<li><a href=\"https://mail.nate.com/pims/\" onmousedown=\"nc('NSD34');\">주소록</a></li>\n",
            "</ul>\n",
            "<ul class=\"row_fourth\">\n",
            "<li><a href=\"//mobile.nate.com/\" onmousedown=\"nc('NSD41');\">컬러링</a></li>\n",
            "</ul>\n",
            "<span><a href=\"https://www.nate.com/sitemap/index.html\" onmousedown=\"nc('NSD91');\">서비스 전체보기</a></span>\n",
            "<button onmousedown=\"nc('NSD95');\" title=\"더보기 닫기\" type=\"button\" value=\"더보기 닫기\">더보기 닫기</button>\n",
            "</div>\n",
            "</li>\n",
            "</ul>\n",
            "</div>\n",
            "<div class=\"area_rtkwd type_alone\" id=\"keywordRank\">\n",
            "<h3 class=\"nHide\"><a href=\"#\" title=\"네이트 인기검색어로 이동\">실시간 검색어</a></h3>\n",
            "</div>\n",
            "<div class=\"area_biz type_alone\" id=\"bizRank\">\n",
            "<h3 class=\"nHide\"><a href=\"#\" title=\"네이트 인기검색어로 이동\">비즈 검색어</a></h3>\n",
            "</div>\n",
            "<div class=\"nHide\" id=\"divWhyArea\"></div>\n",
            "</div>\n",
            "<hr/>\n",
            "<div id=\"content\">\n",
            "<div class=\"area_auth\" id=\"UI\">\n",
            "<h2>회원 로그인 영역</h2>\n",
            "<script type=\"text/javascript\">\r\n",
            "                    //<![CDATA[\r\n",
            "                        document.write('<script type=\"text/javascript\" src=\"/common/secure/js/combine/combine_xecure_nate-secure_common.js?v=2022111801\"><\\/script>');\r\n",
            "                    //]]>\r\n",
            "                    </script>\n",
            "<form action=\"https://xo.nate.com/LoginAuth.sk\" id=\"f_login\" method=\"post\" name=\"f_login\" onsubmit=\"return SubmitCheck();\" target=\"_top\">\n",
            "<input id=\"redirect\" name=\"redirect\" type=\"hidden\" value=\"https://www.nate.com/\"/>\n",
            "<input id=\"PASSWD_RSA\" name=\"PASSWD_RSA\" type=\"hidden\" value=\"\"/>\n",
            "<input id=\"domain\" name=\"domain\" type=\"hidden\" value=\"nate.com\"/>\n",
            "<input name=\"cpurl\" type=\"hidden\" value=\"www_ndr.nate.com%2Flogin%2F\"/>\n",
            "<fieldset>\n",
            "<legend>회원 로그인</legend>\n",
            "<label class=\"label_id nHide\" for=\"ID\">아이디 or @이하 모두 입력</label>\n",
            "<input class=\"input_id\" id=\"ID\" name=\"ID\" style=\"ime-mode:disabled;\" title=\"아이디 or @이하 모두 입력\" type=\"text\" value=\"\"/>\n",
            "<label class=\"label_pw nHide\" for=\"PASSDM\">비밀번호</label>\n",
            "<label class=\"label_pw nHide\" for=\"PASSDM\" id=\"lb_passdm\">비밀번호</label>\n",
            "<input class=\"input_pw\" id=\"PASSDM\" maxlength=\"20\" name=\"PASSDM\" readonly=\"readonly\" type=\"text\" value=\"비밀번호\"/>\n",
            "<label class=\"label_pw nHide\" for=\"PASSWD\" id=\"lb_passwd\">비밀번호</label>\n",
            "<input class=\"input_pw\" enc=\"on\" id=\"PASSWD\" maxlength=\"20\" name=\"PASSWD\" onblur=\"vBlurPassInput();\" style=\"display:none;ime-mode:disabled;\" type=\"password\"/>\n",
            "<span class=\"option01\"><input class=\"chk_saveid\" id=\"keeplogin\" name=\"keeplogin\" onclick=\"isKeepLogin('on')\" onmousedown=\"nc('NCM94');\" type=\"checkbox\"/> <label class=\"set_saveid\" for=\"keeplogin\" onmousedown=\"nc('NCM94');\">로그인 유지</label> <i class=\"bar\">|</i> <a class=\"ip\" href=\"javascript:xXecurePop.openWin(3);\" onmousedown=\"nc('NLI15');\" title=\"새창 열림\">IP보안 <strong id=\"ipLevelText\">ON</strong></a></span>\n",
            "<input class=\"icon_login\" id=\"btnLOGIN\" name=\"btnLOGIN\" onkeydown=\"vkeydownSubmit(event);\" type=\"submit\" value=\"로그인\"/>\n",
            "<span class=\"option02\"><a href=\"javascript:onclick_Find();\" title=\"아이디 찾기\">아이디</a> / <a href=\"javascript:onclick_FindPW();\" title=\"비밀번호 찾기\">비밀번호 찾기</a> <i class=\"bar\">|</i> <a href=\"javascript:onclick_Join();\" title=\"회원가입\"><strong>회원가입</strong></a> </span>\n",
            "<script type=\"text/javascript\">\r\n",
            "                                //<![CDATA[ \r\n",
            "                                    initLogin();\r\n",
            "                                    nateLogin = new NateLogin('f_login', 'btnLOGIN', 'xo.nate.com/servlets/EncLoginServlet', loginBoxName, '비밀번호');\r\n",
            "                                //]]>\r\n",
            "                                </script>\n",
            "</fieldset>\n",
            "</form>\n",
            "<div class=\"overlay_info type_security\" id=\"layerXKDisabled\" style=\"display: none\">\n",
            "<div class=\"layer_content\"></div>\n",
            "</div>\n",
            "<!--div class=\"overlay_info nHide\" id=\"divNateOn\">\r\n",
            "\t\t\t\t\t\t\t<p>웹 네이트온 로그인은 설치가 필요 없는<br />가벼운 네이트온이 네이트 로그인 만으로<br />함께 로그인 되는 편리한 기능입니다.</p>\r\n",
            "\t\t\t\t\t\t\t<a href=\"//nateonweb.nate.com/nateon/download_web.php\" onmousedown=\"nc('NLI75')\" title=\"웹 네이트온이란?\">웹 네이트온이란?</a>\r\n",
            "\t\t\t\t\t\t\t<button type=\"button\" value=\"알림 레이어 닫기\" title=\"알림 레이어 닫기\" class=\"close\" onclick=\"closeWebNateOnInfo()\">알림 레이어 닫기</button>\r\n",
            "\t\t\t\t\t\t</div-->\n",
            "<div class=\"overlay_info type_saveid nHide\">\n",
            "<p>개인정보 보호를 위해<br/>개인PC에서만<br/>사용해 주세요. <a href=\"https://helpdesk.nate.com/web/faq-detail?faqId=KNOW0000000038&amp;subNodeId=NODE0000000006&amp;keyword=%EB%A1%9C%EA%B7%B8%EC%9D%B8%EC%9C%A0%EC%A7%80&amp;pageNo=1\" onmousedown=\"nc('NLI33');\" target=\"_blank\" title=\"도움말보기\">도움말보기 <i class=\"icon_arrow_right_red\"></i></a></p>\n",
            "<button class=\"icon_x_black\" onclick=\"closeKeepLoginLayer()\" onmousedown=\"nc('NLI32');\" title=\"알림 레이어 닫기\" type=\"button\" value=\"알림 레이어 닫기\">알림 레이어 닫기</button>\n",
            "</div>\n",
            "</div>\n",
            "<hr/>\n",
            "<h2>컨텐츠 영역</h2>\n",
            "<div class=\"area_news\" id=\"news_area\">\n",
            "<h3>뉴스</h3>\n",
            "<div class=\"menu\" id=\"newsTabMenu\">\n",
            "<h4 class=\"menu01 on\" id=\"newstab1\"><a href=\"//news.nate.com/\" onclick=\"newsBox.clickTabLink('tab1_set1');return false;\" title=\"뉴스탭 열기\">뉴스</a></h4>\n",
            "<h4 class=\"menu02\" id=\"newstab2\"><a href=\"//sports.news.nate.com/\" onclick=\"newsBox.clickTabLink('tab2_spo');return false;\" title=\"스포츠탭 열기\">스포츠</a></h4>\n",
            "<h4 class=\"menu03\" id=\"newstab3\"><a href=\"//news.nate.com/ent/section?mid=e0100;\" onclick=\"newsBox.clickTabLink('tab3_ent');return false;\" title=\"연예탭 열기\">연예</a></h4>\n",
            "<h4 class=\"menu04\" id=\"newstab4\" style=\"display:none;\"></h4>\n",
            "<h4 class=\"menu05\" id=\"newstab5\"><a href=\"//news.nate.com/rank/?mid=n1000\" onclick=\"newsBox.clickTabLink('tab5_ranking');return false;\" title=\"랭킹뉴스탭 열기\">랭킹뉴스</a></h4>\n",
            "</div>\n",
            "<div class=\"content type_news\" id=\"newsContType\" onfocusin=\"newsBox.rollingStop();\" onfocusout=\"newsBox.rollingStart();\">\n",
            "<div class=\"tabCnt\">\n",
            "<div class=\"rankBox\" id=\"div_rank_sisa\"></div>\n",
            "<div class=\"rankBox\" id=\"div_rank_spo\"></div>\n",
            "<div class=\"rankBox\" id=\"div_rank_ent\"></div>\n",
            "<ul class=\"type_thumb type02\" id=\"newsImg_ul_1\">\n",
            "<li id=\"newsImg0\">\n",
            "<a href=\"//ps.news.nate.com/photo/slideShow?cid=1137628&amp;mid=e0102\" onclick=\"setTabInfo();ndrclick('MEF06', 'NH_03_01_02-20250929135424');\" target=\"_self\">\n",
            "<em class=\"icon slide\">슬라이드</em>\n",
            "<span class=\"thumb_img\"><img alt=\"\" src=\"//news.nateimg.co.kr/etc/cms/2025/09/29/1759121647_538.jpg\" width=\"168\"/></span>\n",
            "<span class=\"txt\">박주현 '생머리 여신'</span>\n",
            "</a>\n",
            "</li>\n",
            "<li id=\"newsImg1\">\n",
            "<a href=\"//sports.news.nate.com/abrbaseball/photo?page=1&amp;cid=1137614&amp;fix=1137614\" onclick=\"setTabInfo();ndrclick('MEF07', 'NH_02_01_03-20250929110746');\" target=\"_self\">\n",
            "<em class=\"icon slide\">슬라이드</em>\n",
            "<span class=\"thumb_img\"><img alt=\"\" src=\"//news.nateimg.co.kr/etc/cms/2025/09/29/1759111641_949.jpg\" width=\"168\"/></span>\n",
            "<span class=\"txt\">무려 21년 만에 나온 대기록, 이정후 동료가 마침내 해냈다!</span>\n",
            "</a>\n",
            "</li>\n",
            "<li id=\"newsImg2\">\n",
            "<a href=\"//ps.news.nate.com/photo/slideShow?cid=1137634\" onclick=\"setTabInfo();ndrclick('MEF08', 'NH_01_01_02-20250929141622');\" target=\"_self\">\n",
            "<em class=\"icon slide\">슬라이드</em>\n",
            "<span class=\"thumb_img\"><img alt=\"\" src=\"//news.nateimg.co.kr/etc/cms/2025/09/29/1759122917_149.png\" width=\"168\"/></span>\n",
            "<span class=\"txt\">술에 취해 바다에 '풍덩'…속초해경, 20대 구조</span>\n",
            "</a>\n",
            "</li>\n",
            "</ul>\n",
            "<ul class=\"type_text\" id=\"newsTxt_ul_1\">\n",
            "<li id=\"newsTxt_li_0\"><strong><a href=\"//news.nate.com/hissue/clstList?mid=n0412&amp;isq=11001&amp;n=1133407#cid1133407\" onclick=\"setTabInfo();ndrclick('MEB39', 'NH_01_02_03-20250929114547');\" target=\"_self\">\"같이 놀자\"…새벽 3시 길에 혼자 있던 여아 유인시도 20대 긴급체포</a></strong></li>\n",
            "<li id=\"newsTxt_li_1\"><a href=\"//news.nate.com/hissue/clstList?mid=n0412&amp;isq=11338&amp;n=1136457#cid1136457\" onclick=\"setTabInfo();ndrclick('MEB41', 'NH_01_02_03-20250929110621');\" target=\"_self\">추석 연휴 3218만명 대이동…서울~부산 '8시간10분'</a></li>\n",
            "<li id=\"newsTxt_li_2\"><a href=\"//news.nate.com/hissue/clstList?mid=n0208&amp;isq=11000&amp;n=1100570#cid1100570\" onclick=\"setTabInfo();ndrclick('MEB43', 'NH_01_02_02-20250929120334');\" target=\"_self\">법원, 한덕수 前 국무총리 '내란 방조' 혐의 첫 재판 중계 허용</a></li>\n",
            "<li id=\"newsTxt_li_3\"><a href=\"//news.nate.com/view/20250929n15470\" onclick=\"setTabInfo();ndrclick('MEB45', 'NH_02_02_01-20250929132902');\" target=\"_self\">박지성-손흥민 후계자 실종사태, 한국 축구 초비상……아시아 베스트 일레븐 달랑 2명, 일본은 5명 '손흥민-김민재 끝'</a></li>\n",
            "<li id=\"newsTxt_li_4\"><a href=\"//news.nate.com/view/20250929n19110\" onclick=\"setTabInfo();ndrclick('MEC65', 'NH_03_02_01-20250929135728');\" target=\"_self\">이시영, '공주님' 출산 앞두고 배 하나 통째로 빌렸다…마지막 태교여행 \"완전 힐링\"</a></li>\n",
            "</ul>\n",
            "<ul class=\"type_text\" id=\"newsTxt_ul_2\">\n",
            "<li id=\"newsTxt_li_5\"><a href=\"//news.nate.com/view/20250929n17325\" onclick=\"setTabInfo();ndrclick('MEF12', 'NH_01_02_12-20250929131013');\" target=\"_self\">강성당원에 어필하려…법안보다 '유튜브'에 목숨 거는 與의원들</a></li>\n",
            "<li id=\"newsTxt_li_6\"><strong><a href=\"//news.nate.com/section?mid=n0600&amp;n=1055223#cid1055223\" onclick=\"setTabInfo();ndrclick('MEF14', 'NH_01_02_05-20250929141211');\" target=\"_self\">\"카톡 버리고, 네이트온 갈아타야 하나\"…끝없이 이어지는 '업데이트 불만'</a></strong></li>\n",
            "<li id=\"newsTxt_li_7\"><a href=\"//sports.news.nate.com/hissue/clstList?mid=s0106&amp;isq=8588&amp;n=841307#cid841307\" onclick=\"setTabInfo();ndrclick('MEF16', 'NH_02_02_04-20250929140054');\" target=\"_self\">\"야, 노래해봐\" ML 출신 외인이 후배들 기강을 잡다니…괜히 두산 주장 후보가 아니다</a></li>\n",
            "<li id=\"newsTxt_li_8\"><a href=\"//news.nate.com/view/20250929n19199\" onclick=\"setTabInfo();ndrclick('MEF18', 'NH_03_02_03-20250929140316');\" target=\"_self\">엄정화 아찔한 실제 상황, 하와이 촬영본 통째로 날아갔다 \"나 어떡하냐\"</a></li>\n",
            "<li id=\"newsTxt_li_9\"><a href=\"//news.nate.com/view/20250929n18185\" onclick=\"setTabInfo();ndrclick('MEF20', 'NH_03_02_07-20250929140316');\" target=\"_self\">'10월 재혼' 은지원 \"상견례 없애야\" 갑론을박…철없어 VS 소신발언</a></li>\n",
            "</ul>\n",
            "<ul class=\"type_text\" id=\"newsTxt_ul_3\">\n",
            "<li id=\"newsTxt_li_10\"><a href=\"//news.nate.com/hissue/clstList?mid=n0309&amp;isq=11002&amp;n=974698#cid974698\" onclick=\"setTabInfo();ndrclick('MEB47', 'NH_01_03_02-20250929111931');\" target=\"_self\">같은 회사, '퇴사에 재입사' 21번 반복…받아 간 실업급여 '1억'</a></li>\n",
            "<li id=\"newsTxt_li_11\"><strong><a href=\"//news.nate.com/hissue/clstList?mid=n0208&amp;isq=10081&amp;n=806444#cid806444\" onclick=\"setTabInfo();ndrclick('MEB49', 'NH_01_02_04-20250929141123');\" target=\"_self\">이재명정부, 민간 대북접촉 100% 승인…尹정부와 극명한 온도차</a></strong></li>\n",
            "<li id=\"newsTxt_li_12\"><a href=\"//news.nate.com/view/20250929n05367\" onclick=\"setTabInfo();ndrclick('MEB51', 'NH_01_03_02-20250929095644');\" target=\"_self\">K여권파워 믿다간 낭패…유럽서 공항 대기시간 길어져, 무슨 일?</a></li>\n",
            "<li id=\"newsTxt_li_13\"><a href=\"//sports.news.nate.com/hissue/clstList?mid=s0206&amp;isq=9298&amp;n=834476#cid834476\" onclick=\"setTabInfo();ndrclick('MEB53', 'NH_02_02_07-20250929133001');\" target=\"_self\">'어? 0.304로 타격 1위?' NL 역대 두 번째 최저 타율 타격왕…2m1㎝ 저지는 '역대 최장신 타격왕'</a></li>\n",
            "<li id=\"newsTxt_li_14\"><a href=\"//news.nate.com/view/20250929n18604\" onclick=\"setTabInfo();ndrclick('MEC67', 'NH_03_02_01-20250929135950');\" target=\"_self\">\"가장 진실된 4일\" 김신영, 故전유성 '위독설'에 달려갔다…\"다른 생각 안 나\"</a></li>\n",
            "</ul>\n",
            "<ul class=\"type_thumb type01 nHide\" id=\"newsImg_ul_2\">\n",
            "<li id=\"newsImg3\"></li>\n",
            "<li id=\"newsImg4\"></li>\n",
            "</ul>\n",
            "<div class=\"overlay_plus type01\" id=\"newsPlusLayer\" style=\"display:none\">\n",
            "<div class=\"plus_content\">\n",
            "<iframe frameborder=\"0\" height=\"470\" id=\"newsIfr\" scrolling=\"no\" src=\"about:blank\" title=\"뉴스플러스 아이프레임\" width=\"304\"></iframe>\n",
            "<button class=\"close\" onclick=\"closeNewsPlus();ndrclick('MEC49','');\" title=\"뉴스플러스 레이어 닫기\" type=\"button\" value=\"뉴스플러스 레이어 닫기\">뉴스플러스 레이어 닫기</button>\n",
            "</div>\n",
            "</div>\n",
            "</div>\n",
            "<div class=\"bizCnt\">\n",
            "<div class=\"isKeyword\">\n",
            "<h4>AI 이슈 키워드</h4>\n",
            "<ol class=\"isKeywordList\" id=\"olLiveIssueKeyword\">\n",
            "<li>\n",
            "<div class=\"slide-content\">\n",
            "<span class=\"num_rank\">1</span>\n",
            "<a class=\"ik\" href=\"https://news.nate.com/search?q=폭군의 셰프\" onclick=\"newsBox.clickSearchKeyword('폭군의 셰프');return false;\" onmousedown=\"nc('MEH01')\">\n",
            "<span class=\"txt_rank\">폭군의 셰프</span>\n",
            "<span class=\"fc same\"><span class=\"nHide\">동일</span></span>\n",
            "</a>\n",
            "</div>\n",
            "</li>\n",
            "<li>\n",
            "<div class=\"slide-content\">\n",
            "<span class=\"num_rank\">2</span>\n",
            "<a class=\"ik\" href=\"https://news.nate.com/search?q=단체관광객 무비자 입국\" onclick=\"newsBox.clickSearchKeyword('단체관광객 무비자 입국');return false;\" onmousedown=\"nc('MEH02')\">\n",
            "<span class=\"txt_rank\">단체관광객 무비자 입국</span>\n",
            "<span class=\"fc new\"><span class=\"nHide\">new</span></span>\n",
            "</a>\n",
            "</div>\n",
            "</li>\n",
            "<li>\n",
            "<div class=\"slide-content\">\n",
            "<span class=\"num_rank\">3</span>\n",
            "<a class=\"ik\" href=\"https://news.nate.com/search?q=백번의 추억\" onclick=\"newsBox.clickSearchKeyword('백번의 추억');return false;\" onmousedown=\"nc('MEH03')\">\n",
            "<span class=\"txt_rank\">백번의 추억</span>\n",
            "<span class=\"fc same\"><span class=\"nHide\">동일</span></span>\n",
            "</a>\n",
            "</div>\n",
            "</li>\n",
            "<li>\n",
            "<div class=\"slide-content\">\n",
            "<span class=\"num_rank\">4</span>\n",
            "<a class=\"ik\" href=\"https://news.nate.com/search?q=법원 한덕수 중계\" onclick=\"newsBox.clickSearchKeyword('법원 한덕수 중계');return false;\" onmousedown=\"nc('MEH04')\">\n",
            "<span class=\"txt_rank\">법원 한덕수 중계</span>\n",
            "<span class=\"fc down\"><span class=\"nHide\">하락</span>2</span>\n",
            "</a>\n",
            "</div>\n",
            "</li>\n",
            "<li>\n",
            "<div class=\"slide-content\">\n",
            "<span class=\"num_rank\">5</span>\n",
            "<a class=\"ik\" href=\"https://news.nate.com/search?q=대통령 신임장 제정\" onclick=\"newsBox.clickSearchKeyword('대통령 신임장 제정');return false;\" onmousedown=\"nc('MEH05')\">\n",
            "<span class=\"txt_rank\">대통령 신임장 제정</span>\n",
            "<span class=\"fc up\"><span class=\"nHide\">상승</span>3</span>\n",
            "</a>\n",
            "</div>\n",
            "</li>\n",
            "</ol>\n",
            "<div class=\"btn_more_wrap\">\n",
            "<button class=\"btn_more\" onmousedown=\"nc('MEH30');\" type=\"button\">AI 이슈키워드란?</button>\n",
            "<div class=\"btn_more_content\">\r\n",
            "\t\t\tAI가 최근 뉴스에서 주목받는 이슈를 키워드로 제공합니다. 일부 결과는 실제 이슈와 차이가 있을 수 있으니 참고 바랍니다.\r\n",
            "\t\t\t<button class=\"btn_more_content_close_btn\" onmousedown=\"nc('MEH31');\" type=\"button\">닫기</button>\n",
            "</div>\n",
            "</div>\n",
            "<form accept-charset=\"euc-kr\" action=\"https://news.nate.com/search\" id=\"frmKeyword\" name=\"frmKeyword\" onsubmit=\"return false\">\n",
            "<input id=\"bizq\" name=\"q\" type=\"hidden\" value=\"\"/>\n",
            "</form>\n",
            "</div>\n",
            "<div class=\"adBox\"></div>\n",
            "<div class=\"todayBox\" id=\"divBox\">\n",
            "<h3>\n",
            "<span class=\"nHide\">서비스 바로가기 링크</span>\n",
            "</h3>\n",
            "<ul class=\"svcLink\">\n",
            "<li><a href=\"https://fortune.nate.com/contents/freeunse/freeunseframe.nate?freeUnseId=today03\" onmousedown=\"nc('MEH12');\">오늘의 운세</a></li>\n",
            "<li><a href=\"https://tv.nate.com/popular/all\" onmousedown=\"nc('MEH17');\">오늘의 인기영상</a></li>\n",
            "<li><a href=\"https://toonnbook.nate.com/main/PN83006001\" onmousedown=\"nc('MEH18');\">오늘의 웹툰</a></li>\n",
            "</ul>\n",
            "</div>\n",
            "</div>\n",
            "<dl class=\"content_recommend\">\n",
            "<dt id=\"dtNewsRecomm\"><em>뉴스</em></dt>\n",
            "<dd id=\"newsRecommend\">\n",
            "<a href=\"//news.nate.com/recent?mid=n0100\" onmousedown=\"nc('MEF37');setTabInfo();\">최신뉴스</a>\n",
            "<a href=\"//news.nate.com/section?mid=n0200\" onmousedown=\"nc('MEF38');setTabInfo();\">정치</a>\n",
            "<a href=\"//news.nate.com/section?mid=n0300\" onmousedown=\"nc('MEF39');setTabInfo();\">경제</a>\n",
            "<a href=\"//news.nate.com/section?mid=n0400\" onmousedown=\"nc('MEF40');setTabInfo();\">사회</a>\n",
            "<a href=\"//news.nate.com/section?mid=n0600\" onmousedown=\"nc('MEF41');setTabInfo();\">IT/과학</a>\n",
            "</dd>\n",
            "</dl>\n",
            "</div>\n",
            "<div class=\"nav\" id=\"newsOptBtn\">\n",
            "<span id=\"newsMoreArea\"><em>2</em> / 6</span>\n",
            "<button class=\"pause\" id=\"newsRollingBtn\" onclick=\"newsBox.changeRolling();\" title=\"자동전환기능 정지\" type=\"button\" value=\"자동전환기능 정지\">자동전환기능 정지</button>\n",
            "<button class=\"prev\" onclick=\"ndrclick('MEC42');newsBox.showPreNext('P');\" title=\"이전 뉴스 보기\" type=\"button\" value=\"이전 뉴스 보기\">이전 뉴스 보기</button>\n",
            "<button class=\"next\" onclick=\"ndrclick('MEC43');newsBox.showPreNext('N');\" title=\"다음 뉴스 보기\" type=\"button\" value=\"다음 뉴스 보기\">다음 뉴스 보기</button>\n",
            "</div>\n",
            "<div id=\"newsNotice\"></div>\n",
            "<div class=\"overlay_ticker\" id=\"ticker_lyr\" style=\"display:none\">\n",
            "<div class=\"ticker_content\">\n",
            "<iframe frameborder=\"0\" height=\"318\" id=\"ticker_ifm\" scrolling=\"no\" src=\"about:blank\" title=\"티커 아이프레임\" width=\"728\"></iframe>\n",
            "<button class=\"close\" onclick=\"nateonTickerClose();\" title=\"티커 닫기\" type=\"button\" value=\"티커 닫기\">티커 닫기</button>\n",
            "</div>\n",
            "</div>\n",
            "</div>\n",
            "<script type=\"text/javascript\">\r\n",
            "\t\t\t\t\t//<![CDATA[\r\n",
            "\t\t\t\t\tloadSpecialBiRolling();\r\n",
            "\t\t\t\t\t//]]>\r\n",
            "\t\t\t\t</script>\n",
            "<!-- tiles:insertAttribute name=\"NateQ\" /-->\n",
            "<div class=\"area_contents\" id=\"divContentsUpper\">\n",
            "<h3>컨텐츠</h3>\n",
            "<div class=\"menu\">\n",
            "<h4 class=\"menu01\"><a href=\"//pann.nate.com/talk/ranking\" onclick=\"objPannArea.clickTab(0);return false;\" onmousedown=\"nc('PAN60')\" title=\"Top랭킹\">Top랭킹</a></h4>\n",
            "<h4 class=\"menu02\"><a href=\"//pann.nate.com/talk/c20025\" onclick=\"objPannArea.clickTab(1);return false;\" onmousedown=\"nc('PAN61')\" title=\"결시친\">결시친</a></h4>\n",
            "<h4 class=\"menu03\"><a href=\"//pann.nate.com/talk/c20038\" onclick=\"objPannArea.clickTab(2);return false;\" onmousedown=\"nc('PAN62')\" title=\"10대톡\">10대톡</a></h4>\n",
            "<h4 class=\"menu04\"><a href=\"//pann.nate.com/talk/c20028\" onclick=\"objPannArea.clickTab(3);return false;\" onmousedown=\"nc('PAN63')\" title=\"연예톡\">연예톡</a></h4>\n",
            "<h4 class=\"menu05 on\"><a href=\"//pann.nate.com/talk/c20019\" onclick=\"objPannArea.clickTab(4);return false;\" onmousedown=\"nc('PAN64')\" title=\"회사톡\">회사톡</a></h4>\n",
            "</div>\n",
            "<div class=\"content\" id=\"pannList\">\n",
            "<ul class=\"ctList\">\n",
            "<!-- 썸네일 없는 경우 -->\n",
            "<li class=\"type_text\">\n",
            "<a href=\"https://pann.nate.com/talk/374842395\" onmousedown=\"nc('PAO61');objPannArea.clickContents(5);\">\n",
            "<div class=\"list_box\">\n",
            "<span class=\"emph\"><span class=\"nHide\">댓글수</span>(58)</span>\n",
            "<span class=\"link\">집에 얹혀 사는게 왜 나쁜거임?</span>\n",
            "</div>\n",
            "<div class=\"desc\">회사 근처에 집이 있고 월세 나갈 걱정 없고 그 돈으로 생활비 드리고 나머지는 저축하면서 지내는게 나쁜거임? 얹혀 사는거 아니냐고 꼽 주네</div>\n",
            "</a>\n",
            "</li>\n",
            "<!-- 썸네일 없는 경우 -->\n",
            "<li class=\"type_text\">\n",
            "<a href=\"https://pann.nate.com/talk/374843638\" onmousedown=\"nc('PAO62');objPannArea.clickContents(5);\">\n",
            "<div class=\"list_box\">\n",
            "<span class=\"emph\"><span class=\"nHide\">댓글수</span>(18)</span>\n",
            "<span class=\"link\">윤석열때문에 나라가 망해가네</span>\n",
            "</div>\n",
            "<div class=\"desc\">이명박(천안함, 광우병)도 그렇고 박근혜(세월호, 메르스)도 그렇고 윤석열(이태원, 코로나, 오송, 묻지마 칼부림, 잼버리, 내란죄, 통신사 해킹, 국...</div>\n",
            "</a>\n",
            "</li>\n",
            "<li>\n",
            "<div class=\"list_box\">\n",
            "<span class=\"emph\"><span class=\"nHide\">댓글수</span>(9)</span>\n",
            "<a class=\"link\" href=\"https://pann.nate.com/talk/374843054\" onmousedown=\"nc('PAO63');objPannArea.clickContents(5);\">서비스직 에러사항 원래 다 이렇게 사는건가요</a>\n",
            "</div>\n",
            "</li>\n",
            "<li>\n",
            "<div class=\"list_box\">\n",
            "<span class=\"emph\"><span class=\"nHide\">댓글수</span>(5)</span>\n",
            "<a class=\"link\" href=\"https://pann.nate.com/talk/374845158\" onmousedown=\"nc('PAO64');objPannArea.clickContents(5);\">직장생활 ㅈㄴ 현타온다</a>\n",
            "</div>\n",
            "</li>\n",
            "<li>\n",
            "<div class=\"list_box\">\n",
            "<span class=\"emph\"><span class=\"nHide\">댓글수</span>(7)</span>\n",
            "<a class=\"link\" href=\"https://pann.nate.com/talk/374843608\" onmousedown=\"nc('PAO65');objPannArea.clickContents(5);\">30대 후반 이직 했는데........</a>\n",
            "</div>\n",
            "</li>\n",
            "<li>\n",
            "<div class=\"list_box\">\n",
            "<span class=\"emph\"><span class=\"nHide\">댓글수</span>(1)</span>\n",
            "<a class=\"link\" href=\"https://pann.nate.com/talk/374842116\" onmousedown=\"nc('PAO66');objPannArea.clickContents(5);\">저도 진짜 죽을 맛~~~</a>\n",
            "</div>\n",
            "</li>\n",
            "<li>\n",
            "<div class=\"list_box\">\n",
            "<span class=\"emph\"><span class=\"nHide\">댓글수</span>(3)</span>\n",
            "<a class=\"link\" href=\"https://pann.nate.com/talk/374844293\" onmousedown=\"nc('PAO67');objPannArea.clickContents(5);\">승자</a>\n",
            "</div>\n",
            "</li>\n",
            "<li>\n",
            "<div class=\"list_box\">\n",
            "<span class=\"emph\"><span class=\"nHide\">댓글수</span>(3)</span>\n",
            "<a class=\"link\" href=\"https://pann.nate.com/talk/374846403\" onmousedown=\"nc('PAO68');objPannArea.clickContents(5);\">아저씨</a>\n",
            "</div>\n",
            "</li>\n",
            "<li>\n",
            "<div class=\"list_box\">\n",
            "<span class=\"emph\"><span class=\"nHide\">댓글수</span>(1)</span>\n",
            "<a class=\"link\" href=\"https://pann.nate.com/talk/374847114\" onmousedown=\"nc('PAO69');objPannArea.clickContents(5);\">임기제공무원들이 많이 착각하는 게</a>\n",
            "</div>\n",
            "</li>\n",
            "<li>\n",
            "<div class=\"list_box\">\n",
            "<a class=\"link\" href=\"https://pann.nate.com/talk/374841772\" onmousedown=\"nc('PAO70');objPannArea.clickContents(5);\">태용아 질투녀가 쓴 이간질 사칭글 좀 봐</a>\n",
            "</div>\n",
            "</li>\n",
            "<li>\n",
            "<div class=\"list_box\">\n",
            "<a class=\"link\" href=\"https://pann.nate.com/talk/374841734\" onmousedown=\"nc('PAO71');objPannArea.clickContents(5);\">태용아 우린 언제 만나? 난 조롱당하고 있는데</a>\n",
            "</div>\n",
            "</li>\n",
            "<li>\n",
            "<div class=\"list_box\">\n",
            "<span class=\"emph\"><span class=\"nHide\">댓글수</span>(1)</span>\n",
            "<a class=\"link\" href=\"https://pann.nate.com/talk/374844616\" onmousedown=\"nc('PAO72');objPannArea.clickContents(5);\">우리 태용이 인스타 알림 !!</a>\n",
            "</div>\n",
            "</li>\n",
            "<li>\n",
            "<div class=\"list_box\">\n",
            "<a class=\"link\" href=\"https://pann.nate.com/talk/374846873\" onmousedown=\"nc('PAO73');objPannArea.clickContents(5);\">진심</a>\n",
            "</div>\n",
            "</li>\n",
            "<li>\n",
            "<div class=\"list_box\">\n",
            "<a class=\"link\" href=\"https://pann.nate.com/talk/374841850\" onmousedown=\"nc('PAO74');objPannArea.clickContents(5);\">사랑해 태용아 잘자</a>\n",
            "</div>\n",
            "</li>\n",
            "<li>\n",
            "<div class=\"list_box\">\n",
            "<a class=\"link\" href=\"https://pann.nate.com/talk/374843609\" onmousedown=\"nc('PAO75');objPannArea.clickContents(5);\">쇼 현 삼. 대 보.</a>\n",
            "</div>\n",
            "</li>\n",
            "<li>\n",
            "<div class=\"list_box\">\n",
            "<span class=\"emph\"><span class=\"nHide\">댓글수</span>(1)</span>\n",
            "<a class=\"link\" href=\"https://pann.nate.com/talk/374847287\" onmousedown=\"nc('PAO76');objPannArea.clickContents(5);\">태용아 사랑해 보고싶어</a>\n",
            "</div>\n",
            "</li>\n",
            "</ul>\n",
            "</div>\n",
            "<!-- nav -->\n",
            "<div class=\"nav\">\n",
            "<span id=\"pannNav\"><a href=\"//pann.nate.com/\" onmousedown=\"nc('PAN65')\">판홈</a> <i>|</i> <em>5</em> / 5</span>\n",
            "<button class=\"prev\" onclick=\"objPannArea.clickButton('P');\" onmousedown=\"nc('PAN98')\" title=\"이전 컨텐츠 보기\" type=\"button\" value=\"이전 컨텐츠 보기\">이전 컨텐츠 보기</button>\n",
            "<button class=\"next\" onclick=\"objPannArea.clickButton('N');\" onmousedown=\"nc('PAN99')\" title=\"다음 컨텐츠 보기\" type=\"button\" value=\"다음 컨텐츠 보기\">다음 컨텐츠 보기</button>\n",
            "</div>\n",
            "<!-- //nav -->\n",
            "</div>\n",
            "<div class=\"area_issue\" id=\"divIssueUp\">\n",
            "<h3>키워드</h3>\n",
            "<div class=\"menu\">\n",
            "<div class=\"keyword_list\">\n",
            "<div class=\"list_top\">\n",
            "<h4 class=\"menu01 on\"><a href=\"javascript:issueContents.clickIssueUpNateTv(0)\" onmousedown=\"nc('CTG08')\">TV</a></h4>\n",
            "<h4 class=\"menu02\"><a href=\"javascript:issueContents.clickIssueUpNateView('travel')\" onmousedown=\"nc('CTG01');\">여행/맛집</a></h4>\n",
            "<h4 class=\"menu03\"><a href=\"javascript:issueContents.clickIssueUpNateView('fun')\" onmousedown=\"nc('CTG10');\">FUN</a></h4>\n",
            "<h4 class=\"menu04\"><a href=\"javascript:issueContents.clickIssueUpToonNBook()\" onmousedown=\"nc('CTG09');\">만화/웹툰</a></h4>\n",
            "<h4 class=\"menu05\"><a href=\"javascript:issueContents.clickIssueUpNateView('life')\" onmousedown=\"nc('CTG06');\">라이프</a></h4>\n",
            "<h4 class=\"menu06\"><a href=\"javascript:issueContents.clickIssueUpNateView('car')\" onmousedown=\"nc('CTG11')\">자동차</a></h4>\n",
            "<h4 class=\"menu07\" id=\"issueTabShopping\"><a href=\"javascript:issueContents.clickIssueUpShopping()\" onmousedown=\"nc('CTG07');\">쇼핑</a></h4>\n",
            "<h4 class=\"menu08\"><a href=\"javascript:issueContents.clickIssueUpHotDeal()\" onmousedown=\"nc('CTG12');\">핫딜</a></h4>\n",
            "</div>\n",
            "<div class=\"list_tv\" id=\"divIssueKeyword\">\n",
            "<h5 class=\"favtv on\"><a href=\"javascript:issueContents.clickIssueUpNateTv(0)\" onmousedown=\"nc('CCA51')\" title=\"인기영상\">인기영상</a></h5>\n",
            "<h5><a href=\"javascript:issueContents.clickIssueUpNateTv(1)\" onmousedown=\"nc('CCA52')\" title=\"요즘 육아 금쪽같은 내새끼\"><img src=\"https://tn.tv.nate.com/unsafe/58x58/http://image.ichannela.com/images/program/WPG2200051D/SMR_THUM_20200429133018767.jpg\"/></a></h5>\n",
            "<h5><a href=\"javascript:issueContents.clickIssueUpNateTv(2)\" onmousedown=\"nc('CCA53')\" title=\"폭군의 셰프\"><img src=\"https://tn.tv.nate.com/unsafe/58x58/https://cocosimage.pip.cjenm.com/CLIP/COCOS/B120243722/2ee9d6d5-db12-4c5f-b2ae-9815ffe6201e.jpg\"/></a></h5>\n",
            "<h5><a href=\"javascript:issueContents.clickIssueUpNateTv(3)\" onmousedown=\"nc('CCA54')\" title=\"나 혼자 산다\"><img src=\"https://tn.tv.nate.com/unsafe/58x58/http://d3gkeuh6j9q833.cloudfront.net/Attach/MBC/IMAGE/T70346G/PGM/pgm_thumb_20190826201708.png\"/></a></h5>\n",
            "<h5><a href=\"javascript:issueContents.clickIssueUpNateTv(4)\" onmousedown=\"nc('CCA55')\" title=\"동상이몽2_너는 내 운명\"><img src=\"https://tn.tv.nate.com/unsafe/58x58/http://opsimg.sbs.co.kr/Img/S01/202509/12/416914978/4e87c77e-7e98-452d-86f4-3a89fafe7065.png\"/></a></h5>\n",
            "<h5><a href=\"javascript:issueContents.clickIssueUpNateTv(5)\" onmousedown=\"nc('CCA56')\" title=\"어서와 한국은 처음이지?\"><img src=\"https://tn.tv.nate.com/unsafe/58x58/https://Img.mbcmpp.co.kr/mbcplus/archive/smr_program/A000001346/A000001346_T_10.jpg\"/></a></h5>\n",
            "</div>\n",
            "</div>\n",
            "</div>\n",
            "<div class=\"content tv\" id=\"divIssueUpContents\">\n",
            "<ul>\n",
            "<li>\n",
            "<a href=\"https://tv.nate.com/clip/5359477?ref=nate\" onmousedown=\"nc('CBQ01');issueContents.setBackButtonCookie(8, 0);\">\n",
            "<span class=\"thumb\"><img alt=\"[돌직구 강력반]“집행관이 성희롱”…양치승, CCTV 영상 공개\" height=\"98\" src=\"https://tn.tv.nate.com/unsafe/174x98/http://image.ichannela.com/images/channela/2025/09/29/000002852853/00000285285320250929104451822.jpeg\" width=\"174\"/><em class=\"ic_play\">영상</em></span>\n",
            "<span class=\"title\">[돌직구 강력반]“집행관이 성희롱”…양치승,...</span>\n",
            "</a>\n",
            "<cite>TV <em>김진의 돌직구 쇼</em></cite>\n",
            "</li>\n",
            "<li>\n",
            "<a href=\"https://tv.nate.com/clip/5359300?ref=nate\" onmousedown=\"nc('CBQ02');issueContents.setBackButtonCookie(8, 0);\">\n",
            "<span class=\"thumb\"><img alt=\"‘희귀 난치성’ 이동건, 발병률 약 1% 질환 강직성 척추염 진단\" height=\"98\" src=\"https://tn.tv.nate.com/unsafe/174x98/http://opsimg.sbs.co.kr/Img/S01/202509/28/476433063/edd31236-586f-4586-94ee-7877b537c189.jpg\" width=\"174\"/><em class=\"ic_play\">영상</em></span>\n",
            "<span class=\"title\">‘희귀 난치성’ 이동건, 발병률 약 1% 질...</span>\n",
            "</a>\n",
            "<cite>TV <em>미운 우리 새끼</em></cite>\n",
            "</li>\n",
            "<li>\n",
            "<a href=\"https://tv.nate.com/clip/5359308?ref=nate\" onmousedown=\"nc('CBQ03');issueContents.setBackButtonCookie(8, 0);\">\n",
            "<span class=\"thumb\"><img alt=\"[재회엔딩] 다시 만난 이채민X임윤아, 미래에서 나누는 키스💋 | tvN 250928 방송\" height=\"98\" src=\"https://tn.tv.nate.com/unsafe/174x98/https://cocosimage.pip.cjenm.com/CLIP/COCOS/B120243722/2706021/b0811b53-b730-4aec-a4b1-e938dfd54562_B.jpg\" width=\"174\"/><em class=\"ic_play\">영상</em></span>\n",
            "<span class=\"title\">[재회엔딩] 다시 만난 이채민X임윤아, 미래...</span>\n",
            "</a>\n",
            "<cite>TV <em>폭군의 셰프</em></cite>\n",
            "</li>\n",
            "<li>\n",
            "<a href=\"https://tv.nate.com/clip/5359368?ref=nate\" onmousedown=\"nc('CBQ04');issueContents.setBackButtonCookie(8, 0);\">\n",
            "<span class=\"thumb\"><img alt=\"“그만 만나” 동건-명은 갈등에 지친 MC들 MBN 250928 방송\" height=\"98\" src=\"https://tn.tv.nate.com/unsafe/174x98/http://img.vod.mbn.co.kr/vod2/996/2025/09/29/20250929001013_21_996_1149028_1080_7.jpg\" width=\"174\"/><em class=\"ic_play\">영상</em></span>\n",
            "<span class=\"title\">“그만 만나” 동건-명은 갈등에 지친 MC들...</span>\n",
            "</a>\n",
            "<cite>TV <em>돌싱글즈7</em></cite>\n",
            "</li>\n",
            "<li>\n",
            "<a href=\"https://tv.nate.com/clip/5359385?ref=nate\" onmousedown=\"nc('CBQ05');issueContents.setBackButtonCookie(8, 0);\">\n",
            "<span class=\"thumb\"><img alt=\"[5-6회 하이라이트] 김다미 누명 씌우며 목 조르는 빌런 상사💢 친구를 구하기 위해 되돌릴 수 없는 선택을 한 신예은.. | JTBC 250928 방송\" height=\"98\" src=\"https://tn.tv.nate.com/unsafe/174x98/https://fs.jtbc.co.kr/joydata/CP00000001/prog/drama/hundredmemories/img/20250929_003614_017_1.jpg\" width=\"174\"/><em class=\"ic_play\">영상</em></span>\n",
            "<span class=\"title\">[5-6회 하이라이트] 김다미 누명 씌우며 ...</span>\n",
            "</a>\n",
            "<cite>TV <em>백번의 추억</em></cite>\n",
            "</li>\n",
            "<li>\n",
            "<a href=\"https://tv.nate.com/clip/5358829?ref=nate\" onmousedown=\"nc('CBQ06');issueContents.setBackButtonCookie(8, 0);\">\n",
            "<span class=\"thumb\"><img alt=\"달걀 4알은 기본! 강남의 고속 노화💗 아침 식사, MBC 250927 방송\" height=\"98\" src=\"https://tn.tv.nate.com/unsafe/174x98/http://d3gkeuh6j9q833.cloudfront.net/Attach/mbc/2025/09/27/TZ202509275901/clip_20250927234126_152.jpg\" width=\"174\"/><em class=\"ic_play\">영상</em></span>\n",
            "<span class=\"title\">달걀 4알은 기본! 강남의 고속 노화💗 아...</span>\n",
            "</a>\n",
            "<cite>TV <em>전지적 참견 시점</em></cite>\n",
            "</li>\n",
            "<li>\n",
            "<a href=\"https://tv.nate.com/clip/5359029?ref=nate\" onmousedown=\"nc('CBQ07');issueContents.setBackButtonCookie(8, 0);\">\n",
            "<span class=\"thumb\"><img alt=\"Bounce - 이준영 | SBS 250928 방송\" height=\"98\" src=\"https://tn.tv.nate.com/unsafe/174x98/http://opsimg.sbs.co.kr/Img/S01/202509/28/476429709/0bb7baec-8562-452c-9631-21cc2f68ed81.jpg\" width=\"174\"/><em class=\"ic_play\">영상</em></span>\n",
            "<span class=\"title\">Bounce - 이준영 | SBS 25092...</span>\n",
            "</a>\n",
            "<cite>TV <em>SBS 인기가요</em></cite>\n",
            "</li>\n",
            "<li>\n",
            "<a href=\"https://tv.nate.com/clip/5359299?ref=nate\" onmousedown=\"nc('CBQ08');issueContents.setBackButtonCookie(8, 0);\">\n",
            "<span class=\"thumb\"><img alt=\"배구 전문가들이 평가한 지도자 김연경은?! 냉정한 평가에 싸늘해진 분위기🧊, MBC 250928 방송\" height=\"98\" src=\"https://tn.tv.nate.com/unsafe/174x98/http://d3gkeuh6j9q833.cloudfront.net/Attach/mbc/2025/09/28/TZ202509285933/clip_20250928222125_39.jpg\" width=\"174\"/><em class=\"ic_play\">영상</em></span>\n",
            "<span class=\"title\">배구 전문가들이 평가한 지도자 김연경은?! ...</span>\n",
            "</a>\n",
            "<cite>TV <em>신인감독 김연경</em></cite>\n",
            "</li>\n",
            "<li>\n",
            "<a href=\"https://tv.nate.com/clip/5359178?ref=nate\" onmousedown=\"nc('CBQ09');issueContents.setBackButtonCookie(8, 0);\">\n",
            "<span class=\"thumb\"><img alt=\"권은비, 일어나는 족족 시원한 물 폭탄 당첨되는 워터밤 여신★\" height=\"98\" src=\"https://tn.tv.nate.com/unsafe/174x98/http://opsimg.sbs.co.kr/Img/S01/202509/28/476431383/19f3f4cf-bda6-4bf8-8bb6-d00cd8aac5b4.jpg\" width=\"174\"/><em class=\"ic_play\">영상</em></span>\n",
            "<span class=\"title\">권은비, 일어나는 족족 시원한 물 폭탄 당첨...</span>\n",
            "</a>\n",
            "<cite>TV <em>런닝맨</em></cite>\n",
            "</li>\n",
            "<li>\n",
            "<a href=\"https://tv.nate.com/clip/5359123?ref=nate\" onmousedown=\"nc('CBQ10');issueContents.setBackButtonCookie(8, 0);\">\n",
            "<span class=\"thumb\"><img alt=\"마이진 - 기다리는 아픔 | KBS 250928 방송 \" height=\"98\" src=\"https://tn.tv.nate.com/unsafe/174x98/https://mediafactory.play.kbs.co.kr/clip/2025/09/28/68d8fe3686473a0ef3afdf2d/thumbnail/68d8fe3686473a0ef3afdf2d_0_1759051870297.jpg\" width=\"174\"/><em class=\"ic_play\">영상</em></span>\n",
            "<span class=\"title\">마이진 - 기다리는 아픔 | KBS 2509...</span>\n",
            "</a>\n",
            "<cite>TV <em>열린 음악회</em></cite>\n",
            "</li>\n",
            "<li>\n",
            "<a href=\"https://tv.nate.com/clip/5359447?ref=nate\" onmousedown=\"nc('CBQ11');issueContents.setBackButtonCookie(8, 0);\">\n",
            "<span class=\"thumb\"><img alt=\"9월 29일 김진의 돌직구쇼 오프닝\" height=\"98\" src=\"https://tn.tv.nate.com/unsafe/174x98/http://image.ichannela.com/images/channela/2025/09/29/000002852755/00000285275520250929091826417.jpeg\" width=\"174\"/><em class=\"ic_play\">영상</em></span>\n",
            "<span class=\"title\">9월 29일 김진의 돌직구쇼 오프닝</span>\n",
            "</a>\n",
            "<cite>TV <em>김진의 돌직구 쇼</em></cite>\n",
            "</li>\n",
            "<li>\n",
            "<a href=\"https://tv.nate.com/clip/5359221?ref=nate\" onmousedown=\"nc('CBQ12');issueContents.setBackButtonCookie(8, 0);\">\n",
            "<span class=\"thumb\"><img alt=\"＂신경안정제 처방받았어요＂불안해하는 이태란을 위해 CCTV를 확인하는 박성근 [화려한 날들] | KBS 250928 방송 \" height=\"98\" src=\"https://tn.tv.nate.com/unsafe/174x98/https://mediafactory.play.kbs.co.kr/clip/2025/09/28/68d91b3309eda50cfb79bcc5/thumbnail/68d91b3309eda50cfb79bcc5_upload_1759059551309.jpg\" width=\"174\"/><em class=\"ic_play\">영상</em></span>\n",
            "<span class=\"title\">＂신경안정제 처방받았어요＂불안해하는 이태란을...</span>\n",
            "</a>\n",
            "<cite>TV <em>화려한 날들</em></cite>\n",
            "</li>\n",
            "</ul>\n",
            "</div>\n",
            "<div class=\"content type_err nHide\" id=\"emergencyLayer\">\n",
            "<h4 class=\"\">쇼핑탭 점검중</h4>\n",
            "<p>불편을 드려 죄송합니다.<br>더 좋은 서비스를 위해<br><strong>쇼핑탭은 지금 점검</strong> 중입니다.</br></br></p>\n",
            "<a href=\"https://shopping.nate.com/\">네이트 쇼핑으로 바로가기</a>\n",
            "</div>\n",
            "<div class=\"overlay_ally\" style=\"display:none;\"></div>\n",
            "<div class=\"movplay\" id=\"movieSec\">\n",
            "<div class=\"issuemov\">\n",
            "<div id=\"divPlayer\"></div>\n",
            "<a class=\"btn_view_detail\" href=\"\" id=\"movieDetailLink\" onmousedown=\"javascript:nc('MVA02');\" target=\"\" title=\"광고 자세히보기\">광고 자세히보기</a>\n",
            "<button class=\"btn_x_small_white\" onclick=\"issueContents.closeMovie();\" onmousedown=\"nc('CZA02')\" title=\"동영상 플레이 레이어 닫기\" type=\"button\" value=\"동영상 플레이 레이어 닫기\">동영상 플레이 레이어 닫기</button>\n",
            "</div>\n",
            "<span class=\"shadow\"></span>\n",
            "</div>\n",
            "<div class=\"content type_err tbe nHide\" id=\"divToonNBookErrLayer\">\n",
            "<h4 class=\"\">만화/웹툰탭 점검중</h4>\n",
            "<p>불편을 드려 죄송합니다.<br/>더 좋은 서비스를 위해<br/><strong>만화/웹툰탭은 지금 점검</strong> 중입니다.</p>\n",
            "<a href=\"https://toonnbook.nate.com\">네이트 만화로 바로가기</a>\n",
            "</div>\n",
            "<div class=\"content type_err tbe nHide\" id=\"divIssueUpErrLayer\">\n",
            "<h4 class=\"\">FUN탭 점검중</h4>\n",
            "<p>불편을 드려 죄송합니다.<br/>더 좋은 서비스를 위해<br/><strong>FUN탭은 지금 점검</strong> 중입니다.</p>\n",
            "</div>\n",
            "</div>\n",
            "<div class=\"area_ranking\">\n",
            "<h3>랭킹</h3>\n",
            "<div class=\"menu\">\n",
            "<h4 class=\"menu04\">Fun &amp; Fun 해</h4>\n",
            "</div>\n",
            "<div class=\"content\" onmouseout=\"nateRanking.startRolling()\" onmouseover=\"nateRanking.stopRolling()\">\n",
            "<ul class=\"type_thumb\">\n",
            "<li>\n",
            "<a href=\"https://fortune.nate.com/content/contentInfo.nate?searchcontscd=CT000008\" onmousedown=\"nc('RKN91')\" title=\"운세ㅣ나의 사주\"><span class=\"thumb\"><img alt=\"\" src=\"//main.nateimg.co.kr/img/cms/content_pool/2025/09/1758674619741.gif\"/></span>\n",
            "<span class=\"title\">운세ㅣ나의 사주<span class=\"cite\">나의 인생을 위한 맞춤운세</span></span></a>\n",
            "</li>\n",
            "<li>\n",
            "<a href=\"https://fortune.nate.com/contents/freeunse/freeunseframe.nate?freeUnseId=today03\" onmousedown=\"nc('RKN92')\" title=\"운세ㅣ열두 띠로 보는\"><span class=\"thumb\"><img alt=\"\" src=\"//main.nateimg.co.kr/img/cms/content_pool/2025/09/1758674626955.gif\"/></span>\n",
            "<span class=\"title\">운세ㅣ열두 띠로 보는<span class=\"cite\">2025년 10월 1주 운세</span></span></a>\n",
            "</li>\n",
            "<li>\n",
            "<a href=\"https://zb.nate.pupugame.com/ \" onmousedown=\"nc('RKN93')\" title=\"조선이변W l GRAND OPEN\"><span class=\"thumb\"><img alt=\"\" src=\"//main.nateimg.co.kr/img/cms/content_pool/2025/09/1758674634474.JPG\"/></span>\n",
            "<span class=\"title\">조선이변W l GRAND OPEN<span class=\"cite\">K-좀비 사냥 MMORPG</span></span></a>\n",
            "</li>\n",
            "<li>\n",
            "<a href=\"https://toonnbook.nate.com/detail/H048026751\" onmousedown=\"nc('RKN94')\" title=\"만화 | &lt;황성 무협&gt; 투혼지로\"><span class=\"thumb\"><img alt=\"\" src=\"//main.nateimg.co.kr/img/cms/content_pool/2025/08/1756273274766.png\"/></span>\n",
            "<span class=\"title\">만화 | &lt;황성 무협&gt; 투혼지로<span class=\"cite\">미스터블루</span></span></a>\n",
            "</li>\n",
            "<li>\n",
            "<a href=\"https://toonnbook.nate.com/detail/H047059513\" onmousedown=\"nc('RKN95')\" title=\"웹툰 | 수업의 끝은 어디일까?\"><span class=\"thumb\"><img alt=\"\" src=\"//main.nateimg.co.kr/img/cms/content_pool/2025/08/1755672255367.png\"/></span>\n",
            "<span class=\"title\">웹툰 | 수업의 끝은 어디일까?<span class=\"cite\">하는 중전 [개정판]</span></span></a>\n",
            "</li>\n",
            "</ul>\n",
            "</div>\n",
            "<div class=\"paging_slide\">\n",
            "<span class=\"num_count_1\"><em>1</em> / 2</span>\n",
            "<button class=\"btn prev\" onclick=\"nateRanking.clickRankingBtn('P');\" onmousedown=\"nc('RKN98');\" title=\"이전\" type=\"button\">이전</button>\n",
            "<button class=\"btn next\" onclick=\"nateRanking.clickRankingBtn('N');\" onmousedown=\"nc('RKN99');\" title=\"다음\" type=\"button\">다음</button>\n",
            "</div>\n",
            "</div>\n",
            "<hr/>\n",
            "<h2>쇼핑&amp; 광고 영역</h2>\n",
            "<div class=\"area_shopping\" id=\"shopping\" style=\"display:none\">\n",
            "<h3>쇼핑</h3>\n",
            "<div class=\"mall1shop\" id=\"shopitemMall\">\n",
            "<h3 class=\"tab\" id=\"mall1Title\"><a class=\"link\" href=\"http://shopping.nate.com\" onmousedown=\"ndrclick2('NFA01')\" target=\"_top\">쇼핑홈</a></h3>\n",
            "<div class=\"shopmall\" id=\"mall1Box\"></div>\n",
            "<h3 class=\"tab\" id=\"mall2Title\"><a class=\"link\" href=\"#\" onmousedown=\"ndrclick2('NFC01')\" target=\"_blank\"></a></h3>\n",
            "<div class=\"shopmall nHide\" id=\"mall2Box\"></div>\n",
            "<h3 class=\"tab\" id=\"mall3Title\"><a class=\"link\" href=\"#\" onmousedown=\"ndrclick2('NFE01')\" target=\"_blank\"></a></h3>\n",
            "<div class=\"shopmall nHide\" id=\"mall3Box\"></div>\n",
            "<h3 class=\"tab\" id=\"mall4Title\"><a class=\"link\" href=\"#\" onmousedown=\"ndrclick2('NFG01')\" target=\"_blank\"></a></h3>\n",
            "<div class=\"shopmall nHide\" id=\"mall4Box\"></div>\n",
            "<div id=\"relShopping\">\n",
            "<strong class=\"nHide\">쇼핑 관련 리스트</strong>\n",
            "<div class=\"paging_slide\">\n",
            "<button class=\"btn prev\" id=\"shoppingPrev\" onmousedown=\"ndrclick2('NFZ01')\" title=\"이전\" type=\"button\">쇼핑 이전 내용</button>\n",
            "<button class=\"btn next\" id=\"shoppingNext\" onmousedown=\"ndrclick2('NFZ02')\" title=\"다음\" type=\"button\">쇼핑 다음 내용</button>\n",
            "</div>\n",
            "</div>\n",
            "</div>\n",
            "<script type=\"text/javascript\">\r\n",
            "//<![CDATA[    \r\n",
            "    var nDt = new Date();\r\n",
            "    var verShop = '' + (nDt.getMonth()+1) + nDt.getDate() + nDt.getHours() + nDt.getMinutes();\r\n",
            "//]]>\r\n",
            "</script>\n",
            "</div>\n",
            "<div class=\"area_shopping type_err\" id=\"shopping_err\" style=\"display:none\">\n",
            "<h4 class=\"\">쇼핑박스 점검중</h4>\n",
            "<p>불편을 드려 죄송합니다.<br/>더 좋은 서비스를 위해<br/><strong>쇼핑박스는 지금 점검</strong> 중입니다.</p>\n",
            "<a href=\"http://shopping.nate.com\">네이트 쇼핑으로 바로가기</a>\n",
            "</div>\n",
            "<div class=\"area_shopping_today\">\n",
            "<!-- tiles:insertAttribute name=\"shopRecommendation\" /-->\n",
            "</div>\n",
            "<!-- 하단 숏폼 -->\n",
            "<div class=\"short-form-content\" id=\"divShortForm\">\n",
            "<div class=\"title\"><a href=\"https://shortform.nate.com/best\" onclick=\"nc('RCM10');\">짧고 강한 재미! 🎬 오늘의 숏폼</a></div>\n",
            "<div class=\"best-shortform-wrap\">\n",
            "<ul class=\"best-shortform\">\n",
            "<li>\n",
            "<a href=\"https://shortform.nate.com/best?videoId=nK0crFm6_bc\" onclick=\"nc('RCM11');\" target=\"_blank\">\n",
            "<div class=\"thumb\">\n",
            "<img onerror=\"this.onerror=null; this.src='//main.nateimg.co.kr/img/v7/img_error_thumb.png'\" src=\"https://thumbshort.nateimg.co.kr/unsafe/187x1:452x476/267x475/https://i.ytimg.com/vi/nK0crFm6_bc/sddefault.jpg\">\n",
            "</img></div>\n",
            "<div class=\"subject\">기이한 현상을 제보 받았다</div>\n",
            "</a>\n",
            "</li>\n",
            "<li>\n",
            "<a href=\"https://shortform.nate.com/best?videoId=TgP7OKKouw4\" onclick=\"nc('RCM12');\" target=\"_blank\">\n",
            "<div class=\"thumb\">\n",
            "<img onerror=\"this.onerror=null; this.src='//main.nateimg.co.kr/img/v7/img_error_thumb.png'\" src=\"https://thumbshort.nateimg.co.kr/unsafe/187x1:452x476/267x475/https://i.ytimg.com/vi/TgP7OKKouw4/sddefault.jpg\">\n",
            "</img></div>\n",
            "<div class=\"subject\">이거 따라하면 옛날사람ㅋㅋ #황치열 #꼰대희</div>\n",
            "</a>\n",
            "</li>\n",
            "<li>\n",
            "<a href=\"https://shortform.nate.com/best?videoId=rg5Vpf68wuQ\" onclick=\"nc('RCM13');\" target=\"_blank\">\n",
            "<div class=\"thumb\">\n",
            "<img onerror=\"this.onerror=null; this.src='//main.nateimg.co.kr/img/v7/img_error_thumb.png'\" src=\"https://thumbshort.nateimg.co.kr/unsafe/187x1:452x476/267x475/https://i.ytimg.com/vi/rg5Vpf68wuQ/sddefault.jpg\">\n",
            "</img></div>\n",
            "<div class=\"subject\">인생 2회차라는 어린이들</div>\n",
            "</a>\n",
            "</li>\n",
            "<li>\n",
            "<a href=\"https://shortform.nate.com/best?videoId=BY0llcvvke4\" onclick=\"nc('RCM14');\" target=\"_blank\">\n",
            "<div class=\"thumb\">\n",
            "<img onerror=\"this.onerror=null; this.src='//main.nateimg.co.kr/img/v7/img_error_thumb.png'\" src=\"https://thumbshort.nateimg.co.kr/unsafe/187x1:452x476/267x475/https://i.ytimg.com/vi/BY0llcvvke4/sddefault.jpg\">\n",
            "</img></div>\n",
            "<div class=\"subject\">절대 그냥 사지마세요ㄷㄷ(쿠팡,마트 당장확인)</div>\n",
            "</a>\n",
            "</li>\n",
            "<li>\n",
            "<a href=\"https://shortform.nate.com/best?videoId=SXHZlGgF_tY\" onclick=\"nc('RCM15');\" target=\"_blank\">\n",
            "<div class=\"thumb\">\n",
            "<img onerror=\"this.onerror=null; this.src='//main.nateimg.co.kr/img/v7/img_error_thumb.png'\" src=\"https://thumbshort.nateimg.co.kr/unsafe/187x1:452x476/267x475/https://i.ytimg.com/vi/SXHZlGgF_tY/sddefault.jpg\">\n",
            "</img></div>\n",
            "<div class=\"subject\">진짜 보기만하는 고양이들</div>\n",
            "</a>\n",
            "</li>\n",
            "<li>\n",
            "<a href=\"https://shortform.nate.com/best?videoId=he19ddrDFrI\" onclick=\"nc('RCM16');\" target=\"_blank\">\n",
            "<div class=\"thumb\">\n",
            "<img onerror=\"this.onerror=null; this.src='//main.nateimg.co.kr/img/v7/img_error_thumb.png'\" src=\"https://thumbshort.nateimg.co.kr/unsafe/187x1:452x476/267x475/https://i.ytimg.com/vi/he19ddrDFrI/sddefault.jpg\">\n",
            "</img></div>\n",
            "<div class=\"subject\">이은지가 어디가서 힘든 티 절대 안 내는 이유</div>\n",
            "</a>\n",
            "</li>\n",
            "<li>\n",
            "<a href=\"https://shortform.nate.com/best?videoId=2VrbiKdUosE\" onclick=\"nc('RCM17');\" target=\"_blank\">\n",
            "<div class=\"thumb\">\n",
            "<img onerror=\"this.onerror=null; this.src='//main.nateimg.co.kr/img/v7/img_error_thumb.png'\" src=\"https://thumbshort.nateimg.co.kr/unsafe/187x1:452x476/267x475/https://i.ytimg.com/vi/2VrbiKdUosE/sddefault.jpg\">\n",
            "</img></div>\n",
            "<div class=\"subject\">Come to my XOXZ  #IVE #아이브 #ANYUJIN #안유진 #XOXZ #XOXZchallenge #Shorts</div>\n",
            "</a>\n",
            "</li>\n",
            "<li>\n",
            "<a href=\"https://shortform.nate.com/best?videoId=Xyp09dAfv3Q\" onclick=\"nc('RCM18');\" target=\"_blank\">\n",
            "<div class=\"thumb\">\n",
            "<img onerror=\"this.onerror=null; this.src='//main.nateimg.co.kr/img/v7/img_error_thumb.png'\" src=\"https://thumbshort.nateimg.co.kr/unsafe/187x1:452x476/267x475/https://i.ytimg.com/vi/Xyp09dAfv3Q/sddefault.jpg\">\n",
            "</img></div>\n",
            "<div class=\"subject\">방 안에 자동차가 있는 모텔이 있다고?!</div>\n",
            "</a>\n",
            "</li>\n",
            "</ul>\n",
            "</div>\n",
            "</div>\n",
            "<!-- //하단 숏폼 -->\n",
            "<div class=\"ad_area_bottom\">\n",
            "<div class=\"area_ad09\"></div>\n",
            "<div class=\"area_ad10\">\n",
            "<a href=\"https://nateonweb.nate.com/\" onmousedown=\"setNcCode('NAA21|NAA22',iSvcSeqC-1);\"><img alt=\" 네이트온\" height=\"90\" src=\"//main.nateimg.co.kr/img/cms/content_pool/2025/01/1735781333132.png\" width=\"332\"/></a>\n",
            "</div>\n",
            "</div>\n",
            "<div class=\"area_quick\" id=\"divQuickMenu\">\n",
            "<h3>퀵링크</h3>\n",
            "<div class=\"area_sktad01\"></div>\n",
            "<ul>\n",
            "<li class=\"totop\"><a href=\"javascript:;\" onmousedown=\"nc('RAB15');\"><span>맨위로</span></a></li>\n",
            "<li>\n",
            "<a href=\"https://tv.nate.com/\" onmousedown=\"nc('RAB25');\" title=\"네이트TV 서비스 가기\">네이트TV</a>\n",
            "</li>\n",
            "<li>\n",
            "<a href=\"https://fortune.nate.com/home/main.nate\" onmousedown=\"nc('RAB26');\" title=\"네이트운세 서비스 가기\">네이트운세</a>\n",
            "</li>\n",
            "<li>\n",
            "<a href=\"https://mobile.nate.com/decorate/mvno/top\" onmousedown=\"nc('RAB19');\" title=\"컬러링 서비스 가기\">컬러링</a>\n",
            "</li>\n",
            "<li>\n",
            "<a href=\"https://view.nate.com/\" onmousedown=\"nc('RAB27');\" title=\"네이트뷰 서비스 가기\">네이트뷰</a>\n",
            "</li>\n",
            "<li class=\"issue\"><a href=\"javascript:;\" onmousedown=\"nc('RAB08');\">이슈<em class=\"issueup\">UP</em></a></li>\n",
            "</ul>\n",
            "</div>\n",
            "<div class=\"area_mallAd\" id=\"divMallMenu\"></div>\n",
            "</div>\n",
            "<hr/>\n",
            "<div id=\"footer\">\n",
            "<h2>푸터 영역</h2>\n",
            "<div class=\"notice\">\n",
            "<h3><a href=\"https://helpdesk.nate.com/web/notice/main\" onmousedown=\"nc('NFT01');\">공지사항</a></h3>\n",
            "<a href=\"https://helpdesk.nate.com/web/notice/main-detail?id=8900\" onmousedown=\"nc('NFT02');\">추억의 국민 메신저, 네이트온(NateOn) 완전 정복 가이드!</a>\n",
            "</div>\n",
            "<dl>\n",
            "<dt>네이트 공용 푸터</dt>\n",
            "<dd>\n",
            "<a href=\"http://www.skcomms.co.kr/\" onmousedown=\"nc('NFT21');\">회사소개</a> <span>|</span>\n",
            "<a href=\"http://business.nate.com/\" onmousedown=\"nc('NFT29');\">광고문의</a> <span>|</span>\n",
            "<a href=\"/policy/legal.html\" onmousedown=\"nc('NFT24');\">서비스 약관</a> <span>|</span>\n",
            "<a href=\"/policy/privacy.html\" onmousedown=\"nc('NFT25');\"><strong>개인정보처리방침</strong></a> <span>|</span>\n",
            "<a href=\"/policy/youthpolicy.html\" onmousedown=\"nc('NFT26');\">청소년보호정책</a> <span>|</span>\n",
            "<a href=\"http://helpdesk.nate.com/\" onmousedown=\"nc('NFT11');\">고객센터</a> <span>|</span>\n",
            "<span class=\"copyright\">© <a href=\"https://www.natecorp.com\" onmousedown=\"nc('NFT41');\" target=\"_blank\"><strong>NATE Communications</strong></a></span>\n",
            "</dd>\n",
            "</dl>\n",
            "<a class=\"view_all\" href=\"/sitemap/index.html\" onmousedown=\"nc('NFT12');\">서비스 전체보기</a>\n",
            "</div>\n",
            "<hr/>\n",
            "<div id=\"adContainer\">\n",
            "<h2>광고 영역</h2>\n",
            "<div class=\"area_ad01\" id=\"ad_layer1\"></div>\n",
            "<div class=\"area_ad02\" id=\"ad_layer2\">\n",
            "</div>\n",
            "<div class=\"area_adual\">\n",
            "<div class=\"area_ad03\">\n",
            "</div>\n",
            "<div class=\"area_ad04\">\n",
            "</div>\n",
            "</div>\n",
            "<div class=\"area_ad05 nHide\" id=\"leftAd05Cj\">\n",
            "<a href=\"http://talkon.nate.com/service.html\" onmousedown=\"nc('NBI11');\" target=\"_blank\"><img alt=\"게임할땐 토크온!\" height=\"110\" src=\"//main.nateimg.co.kr/img/v6/talkon_55x110.gif\" width=\"55\"/></a>\n",
            "</div>\n",
            "<div class=\"area_ad06\"></div>\n",
            "<div class=\"area_sktad02\"></div>\n",
            "<div id=\"ad_layer3\"></div>\n",
            "<div id=\"ad_layer4\" style=\"display:none;\"></div>\n",
            "</div>\n",
            "</div>\n",
            "<div id=\"cbContainer\">\n",
            "<div class=\"area_ad08\" id=\"cbLayer\" style=\"display: none\">\n",
            "<span class=\"commTxt\">한눈에 보는 오늘 <em>NATE</em>와 함께 하루를 시작하세요.</span>\n",
            "<a href=\"javascript:;\" id=\"cbLayerLink\" title=\"NATE를 시작페이지로\">NATE를 시작페이지로</a>\n",
            "</div>\n",
            "</div>\n",
            "</div>\n",
            "<div class=\"setting_moblie\" id=\"plus_footer\" style=\"display: none\"></div>\n",
            "<span id=\"layerTemp\"></span>\n",
            "<script src=\"/js/common/natead_081.js?v=20200206_02\" type=\"text/javascript\"></script>\n",
            "<script type=\"text/javascript\">\r\n",
            "\t\r\n",
            "\tif (isiPad) {\r\n",
            "\t\tdocument.write('<img src=\"//stat.nate.com/stat/stat.tiff?cp_url=[www_ndr.nate.com/ipad/]\" width=\"0\"  height=\"0\" border=\"0\" alt=\"\" />');\r\n",
            "\t}\r\n",
            "\r\n",
            "</script>\n",
            "<script type=\"text/javascript\">\r\n",
            "//<![CDATA[\r\n",
            "try{\t\r\n",
            "\t\r\n",
            "\tvar contentsUpperTabMenu = [\"null\", \"http://pann.news.nate.com/info\", \"//main.nateimg.co.kr/img/cms/content_pool/2015/05/trend_gray.gif\", \"//main.nateimg.co.kr/img/cms/content_pool/2015/05/trend_black.gif\" ];\t\r\n",
            "\tvar contentsUpperTopLink = [[\"null\", \"http://www.nate.com/?f=bi\"],[\"null\", \"http://www.nate.com/?f=bi\"],[\"null\", \"http://www.nate.com/?f=bi\"],[\"null\", \"http://www.nate.com/?f=bi\"]];\r\n",
            "\tvar contentsUpperSecondPannTitle = [\"톡커들의 선택\"];\r\n",
            "\r\n",
            "}catch (e) { }\r\n",
            "//]]>\r\n",
            "</script>\n",
            "<!--natemain-->\n",
            "<script type=\"text/javascript\">//<![CDATA[\n",
            " CFN_type = ''; CFN_id = ''; CFN_cn = ''; CFN_cmn = ''; CFN_link = ''; CFN_link_id = ''; id = (CFN_type == 'N') ? CFN_id : CFN_link_id; cyid = (CFN_type == 'C') ? CFN_id : CFN_link_id; name = CFN_cn; isEmpas = ('' == '1'); refererDomain = ''; CFN_cust_tp_cd = ''; CFN_sex_cd = ''; loginType = ''; isMobile = 'F'; CFN_link_cust_tp_cd = ''; CFN_link_stat_cd = ''; var ndrLoginStatus = (isNateLogin) ? 'login' : ((bLogout) ? 'byebye' : 'logout'); try { divReferer(refererDomain); } catch (e) { } try { if (isNateLogin) fillPersonInfo();} catch (e) { } pageEnd('', '/');//]]>\n",
            "</script></body></html>\n"
          ]
        }
      ]
    },
    {
      "cell_type": "markdown",
      "source": [
        "[코드 LHR 5-2]"
      ],
      "metadata": {
        "id": "joyxpDit5z4p"
      }
    },
    {
      "cell_type": "code",
      "source": [
        "import bs4\n",
        "import urllib.request\n",
        "\n",
        "libraryUrl = \"https://library.induk.ac.kr/Cheetah/INDK/Index/\"\n",
        "htmlObject = urllib.request.urlopen(libraryUrl)\n",
        "webPage = htmlObject.read()\n",
        "bsObject = bs4.BeautifulSoup(webPage, 'html.parser')\n",
        "\n",
        "tag = bsObject.find('div', {'class': 'logo'})\n",
        "print(tag, '\\n')\n",
        "\n",
        "a_tag = tag.find(\"a\")\n",
        "print(a_tag, '\\n')\n",
        "\n",
        "href = a_tag['href']\n",
        "print(href, '\\n')"
      ],
      "metadata": {
        "colab": {
          "base_uri": "https://localhost:8080/"
        },
        "id": "BEeZOO6Z6T7N",
        "outputId": "dfbe30f6-d080-484a-c3ca-f8b256ad3917"
      },
      "execution_count": 3,
      "outputs": [
        {
          "output_type": "stream",
          "name": "stdout",
          "text": [
            "<div class=\"logo\">\n",
            "<h2>\n",
            "<a href=\"https://library.induk.ac.kr/Cheetah/Home/Index\">\n",
            "<img alt=\"인덕대학교 도서관\" height=\"60\" src=\"/Cheetah/Areas/INDK/content/images/Main2024/logo.png\" width=\"300\"/>\n",
            "</a>\n",
            "</h2>\n",
            "</div> \n",
            "\n",
            "<a href=\"https://library.induk.ac.kr/Cheetah/Home/Index\">\n",
            "<img alt=\"인덕대학교 도서관\" height=\"60\" src=\"/Cheetah/Areas/INDK/content/images/Main2024/logo.png\" width=\"300\"/>\n",
            "</a> \n",
            "\n",
            "https://library.induk.ac.kr/Cheetah/Home/Index \n",
            "\n"
          ]
        }
      ]
    },
    {
      "cell_type": "markdown",
      "source": [
        "[코드 LHR 5-3]"
      ],
      "metadata": {
        "id": "oMEJ8M105zqu"
      }
    },
    {
      "cell_type": "code",
      "source": [
        "import bs4\n",
        "import urllib.request\n",
        "\n",
        "libraryUrl = \"https://www.nate.com/\"\n",
        "htmlObject = urllib.request.urlopen(libraryUrl)\n",
        "webPage = htmlObject.read()\n",
        "bsObject = bs4.BeautifulSoup(webPage, 'html.parser')\n",
        "\n",
        "tag = bsObject.find('div', {'class':'bizCnt'})\n",
        "a_tag = tag.find('h4').text\n",
        "print(a_tag, '\\n')"
      ],
      "metadata": {
        "colab": {
          "base_uri": "https://localhost:8080/"
        },
        "id": "D85wqrjn6VlA",
        "outputId": "9b71d293-4194-4f70-9168-8b4244b1a137"
      },
      "execution_count": 10,
      "outputs": [
        {
          "output_type": "stream",
          "name": "stdout",
          "text": [
            "AI 이슈 키워드 \n",
            "\n"
          ]
        }
      ]
    },
    {
      "cell_type": "markdown",
      "source": [
        "[코드 LHR 5-4]"
      ],
      "metadata": {
        "id": "W-QLUgkN5zdN"
      }
    },
    {
      "cell_type": "code",
      "source": [
        "import bs4\n",
        "import urllib.request\n",
        "\n",
        "libraryUrl = \"https://www.littlemom.co.kr:8443/sub/main.html\"\n",
        "htmlObject = urllib.request.urlopen(libraryUrl)\n",
        "webPage = htmlObject.read()\n",
        "bsObject = bs4.BeautifulSoup(webPage, 'html.parser')\n",
        "\n",
        "\n",
        "tag = bsObject.find('div', {'class': 'cust'})\n",
        "\n",
        "tag_c = tag.find('h2').text\n",
        "print(tag_c, '\\n')\n"
      ],
      "metadata": {
        "colab": {
          "base_uri": "https://localhost:8080/"
        },
        "id": "IQZ0ewNB6WD7",
        "outputId": "eb9eae25-d54a-4567-c2ed-6da3d33d86db"
      },
      "execution_count": 11,
      "outputs": [
        {
          "output_type": "stream",
          "name": "stdout",
          "text": [
            "고객센터 \n",
            "\n"
          ]
        }
      ]
    },
    {
      "cell_type": "markdown",
      "source": [
        "[코드 LHR 5-5]"
      ],
      "metadata": {
        "id": "s83aChPG5zOl"
      }
    },
    {
      "cell_type": "code",
      "source": [
        "import bs4\n",
        "import urllib.request\n",
        "\n",
        "libraryUrl = \"https://www.littlemom.co.kr:8443/sub/main.html\"\n",
        "htmlObject = urllib.request.urlopen(libraryUrl)\n",
        "webPage = htmlObject.read()\n",
        "bsObject = bs4.BeautifulSoup(webPage, 'html.parser')\n",
        "\n",
        "tag = bsObject.find('div', {'class': 'cbank'})\n",
        "\n",
        "tag_c = tag.find_all('p')\n",
        "\n",
        "for bank in tag_c:\n",
        "    print(bank.text)\n"
      ],
      "metadata": {
        "colab": {
          "base_uri": "https://localhost:8080/"
        },
        "id": "QwpzPkJu6Ww6",
        "outputId": "6a7f7921-58aa-4085-cb28-1322798b8e44"
      },
      "execution_count": 16,
      "outputs": [
        {
          "output_type": "stream",
          "name": "stdout",
          "text": [
            "국민 : 712401-01-436597  /  농협 : 335-0004-5182-63\r\n",
            "                    예금주 : (주)개똥이네\n",
            "인터넷뱅킹\n"
          ]
        }
      ]
    },
    {
      "cell_type": "markdown",
      "source": [
        "[코드 LHR 5-6]"
      ],
      "metadata": {
        "id": "G83gNM-45v_6"
      }
    },
    {
      "cell_type": "code",
      "source": [
        "import bs4\n",
        "import urllib.request\n",
        "\n",
        "libraryUrl = \"https://www.littlemom.co.kr:8443/sub/main.html\"\n",
        "htmlObject = urllib.request.urlopen(libraryUrl)\n",
        "webPage = htmlObject.read()\n",
        "bsObject = bs4.BeautifulSoup(webPage, 'html.parser')\n",
        "\n",
        "tag = bsObject.find('div', {'class': 'cbank'})\n",
        "\n",
        "tag_b = tag.find_all('li')\n",
        "\n",
        "for bank in tag_b:\n",
        "    print(bank.text)\n"
      ],
      "metadata": {
        "colab": {
          "base_uri": "https://localhost:8080/"
        },
        "id": "8s5xT2VS6afM",
        "outputId": "23b20f2e-f95e-4fa9-f80d-e0d25416ea09"
      },
      "execution_count": 20,
      "outputs": [
        {
          "output_type": "stream",
          "name": "stdout",
          "text": [
            "국민은행\n",
            "신한은행\n",
            "우리은행\n",
            "외환은행\n",
            "기업은행\n",
            "하나은행\n",
            "씨티은행\n",
            "제일은행\n",
            "농협\n",
            "우체국\n"
          ]
        }
      ]
    },
    {
      "cell_type": "markdown",
      "source": [
        "[코드 LHR 5-7]"
      ],
      "metadata": {
        "id": "ZJXcj8_P5vxb"
      }
    },
    {
      "cell_type": "code",
      "source": [
        "import bs4\n",
        "import urllib.request\n",
        "\n",
        "libraryUrl = \"https://www.littlemom.co.kr:8443/sub/main.html\"\n",
        "htmlObject = urllib.request.urlopen(libraryUrl)\n",
        "webPage = htmlObject.read()\n",
        "bsObject = bs4.BeautifulSoup(webPage, 'html.parser')\n",
        "\n",
        "tag = bsObject.find('div', {'class': 'mainTbanner'})\n",
        "\n",
        "tag_b = tag.find_all('li')\n",
        "\n",
        "for menu in tag_b:\n",
        "    print(menu.text)\n"
      ],
      "metadata": {
        "colab": {
          "base_uri": "https://localhost:8080/"
        },
        "id": "hZaaPs5u6Zet",
        "outputId": "86d44df0-0467-4798-c6b9-b300584d1e26"
      },
      "execution_count": 19,
      "outputs": [
        {
          "output_type": "stream",
          "name": "stdout",
          "text": [
            "내책팔기\n",
            "방문매입\n",
            "지역매장\n"
          ]
        }
      ]
    },
    {
      "cell_type": "markdown",
      "source": [
        "[코드 LHR 5-8]"
      ],
      "metadata": {
        "id": "88kPped85vjq"
      }
    },
    {
      "cell_type": "code",
      "source": [
        "import time\n",
        "import datetime\n",
        "\n",
        "count = 10\n",
        "while count > 0:\n",
        "    count -= 1\n",
        "    now = datetime.datetime.now()\n",
        "    yymmdd = now.strftime('%Y-%m-%d')\n",
        "    hhmmss = now.strftime('%H:%M:%S')\n",
        "    time_list = [yymmdd, hhmmss]\n",
        "    print(time_list)\n",
        "\n",
        "    time.sleep(3)\n"
      ],
      "metadata": {
        "colab": {
          "base_uri": "https://localhost:8080/"
        },
        "id": "Mbnrg3PX6cqi",
        "outputId": "a639373d-14ce-48b1-83c6-09dddbf7fb61"
      },
      "execution_count": 21,
      "outputs": [
        {
          "output_type": "stream",
          "name": "stdout",
          "text": [
            "['2025-09-29', '05:58:59']\n",
            "['2025-09-29', '05:59:02']\n",
            "['2025-09-29', '05:59:05']\n",
            "['2025-09-29', '05:59:08']\n",
            "['2025-09-29', '05:59:11']\n",
            "['2025-09-29', '05:59:14']\n",
            "['2025-09-29', '05:59:17']\n",
            "['2025-09-29', '05:59:20']\n",
            "['2025-09-29', '05:59:23']\n",
            "['2025-09-29', '05:59:26']\n"
          ]
        }
      ]
    },
    {
      "cell_type": "markdown",
      "source": [
        "[코드 LHR 5-9]"
      ],
      "metadata": {
        "id": "xJ6gcC025vVg"
      }
    },
    {
      "cell_type": "code",
      "source": [
        "import time\n",
        "import datetime\n",
        "import bs4\n",
        "import urllib.request\n",
        "\n",
        "nateUrl = \"https://news.nate.com/weather?areaCode=11D20401\"\n",
        "htmlObject = urllib.request.urlopen(nateUrl)\n",
        "webPage = htmlObject.read()\n",
        "bsObject = bs4.BeautifulSoup(webPage, 'html.parser')\n",
        "\n",
        "tag = bsObject.find('div', {'class': 'right_today'})\n",
        "\n",
        "temper = tag.find('p', {'class': 'celsius'}).text\n",
        "print(temper)\n"
      ],
      "metadata": {
        "colab": {
          "base_uri": "https://localhost:8080/"
        },
        "id": "oGijC1NZA3N8",
        "outputId": "c1427238-3d5d-4980-fb77-66c3e8650da0"
      },
      "execution_count": 22,
      "outputs": [
        {
          "output_type": "stream",
          "name": "stdout",
          "text": [
            "22℃\n"
          ]
        }
      ]
    },
    {
      "cell_type": "markdown",
      "source": [
        "[코드 LHR 5-10]"
      ],
      "metadata": {
        "id": "f4KTe-tS5vHa"
      }
    },
    {
      "cell_type": "code",
      "source": [
        "import time\n",
        "import datetime\n",
        "import bs4\n",
        "import urllib.request\n",
        "\n",
        "nateUrl = \"https://news.nate.com/weather?areaCode=11D20401\"\n",
        "count = 5\n",
        "\n",
        "while count > 0:\n",
        "    count -= 1\n",
        "    htmlObject = urllib.request.urlopen(nateUrl)\n",
        "    webPage = htmlObject.read()\n",
        "    bsObject = bs4.BeautifulSoup(webPage, 'html.parser')\n",
        "\n",
        "    tag = bsObject.find('div', {'class': 'right_today'})\n",
        "    temper = tag.find('p', {'class': 'celsius'}).text\n",
        "\n",
        "    now = datetime.datetime.now()\n",
        "    yymmdd = now.strftime('%Y-%m-%d')\n",
        "    hhmmss = now.strftime('%H:%M:%S')\n",
        "\n",
        "    weather_list = [yymmdd, hhmmss, temper]\n",
        "    print(weather_list)\n",
        "\n",
        "    time.sleep(5)\n"
      ],
      "metadata": {
        "colab": {
          "base_uri": "https://localhost:8080/"
        },
        "id": "Cx9Rk6YB6dui",
        "outputId": "106fcfe1-f0e5-44e9-8900-316095424523"
      },
      "execution_count": 23,
      "outputs": [
        {
          "output_type": "stream",
          "name": "stdout",
          "text": [
            "['2025-09-29', '06:01:29', '22℃']\n",
            "['2025-09-29', '06:01:36', '22℃']\n",
            "['2025-09-29', '06:01:42', '22℃']\n",
            "['2025-09-29', '06:01:48', '22℃']\n",
            "['2025-09-29', '06:01:54', '22℃']\n"
          ]
        }
      ]
    },
    {
      "cell_type": "markdown",
      "source": [
        "[코드 LHR 5-11]"
      ],
      "metadata": {
        "id": "dRgGRlYS5u3C"
      }
    },
    {
      "cell_type": "code",
      "source": [
        "import time\n",
        "import datetime\n",
        "import bs4\n",
        "import urllib.request\n",
        "\n",
        "nateUrl = \"https://news.nate.com/weather?areaCode=11D20401\"\n",
        "count = 5\n",
        "\n",
        "while count > 0:\n",
        "    count -= 1\n",
        "    htmlObject = urllib.request.urlopen(nateUrl)\n",
        "    webPage = htmlObject.read()\n",
        "    bsObject = bs4.BeautifulSoup(webPage, 'html.parser')\n",
        "\n",
        "    tag = bsObject.find('div', {'class': 'right_today'})\n",
        "\n",
        "    humi = tag.find('p', {'class': 'humidity'}).text\n",
        "\n",
        "    now = datetime.datetime.now()\n",
        "    yymmdd = now.strftime('%Y-%m-%d')\n",
        "    hhmmss = now.strftime('%H:%M:%S')\n",
        "\n",
        "    weather_list = [yymmdd, hhmmss, humi]\n",
        "    print(weather_list)\n",
        "\n",
        "    time.sleep(5)\n"
      ],
      "metadata": {
        "colab": {
          "base_uri": "https://localhost:8080/"
        },
        "id": "aedc0ruP6eY7",
        "outputId": "e5c90141-519e-4efa-acee-9bc3fd20e7dc"
      },
      "execution_count": 24,
      "outputs": [
        {
          "output_type": "stream",
          "name": "stdout",
          "text": [
            "['2025-09-29', '06:02:41', '습도67%']\n",
            "['2025-09-29', '06:02:47', '습도67%']\n",
            "['2025-09-29', '06:02:53', '습도67%']\n",
            "['2025-09-29', '06:02:59', '습도67%']\n",
            "['2025-09-29', '06:03:05', '습도67%']\n"
          ]
        }
      ]
    },
    {
      "cell_type": "markdown",
      "source": [
        "[코드 LHR 5-12]"
      ],
      "metadata": {
        "id": "PKeLMg1n5umX"
      }
    },
    {
      "cell_type": "code",
      "source": [
        "import time\n",
        "import datetime\n",
        "\n",
        "count = 3\n",
        "now = datetime.datetime.now()\n",
        "yymmdd_start = now.strftime('%H:%M:%S')\n",
        "\n",
        "while count > 0:\n",
        "    count -= 1\n",
        "    now = datetime.datetime.now()\n",
        "    yymmdd = now.strftime('%Y-%m-%d')\n",
        "    hhmmss = now.strftime('%H:%M:%S')\n",
        "    time_list = [yymmdd, hhmmss]\n",
        "    print(time_list)\n",
        "\n",
        "    time.sleep(6)\n"
      ],
      "metadata": {
        "colab": {
          "base_uri": "https://localhost:8080/"
        },
        "id": "MMlqa3vF6fJN",
        "outputId": "5f86b763-3264-4137-e8ae-a9b26615960d"
      },
      "execution_count": 25,
      "outputs": [
        {
          "output_type": "stream",
          "name": "stdout",
          "text": [
            "['2025-09-29', '06:03:34']\n",
            "['2025-09-29', '06:03:40']\n",
            "['2025-09-29', '06:03:46']\n"
          ]
        }
      ]
    },
    {
      "cell_type": "markdown",
      "source": [
        "[코드 LHR 5-13]"
      ],
      "metadata": {
        "id": "8SB5and45uXR"
      }
    },
    {
      "cell_type": "code",
      "source": [
        "import time\n",
        "import datetime\n",
        "import bs4\n",
        "import urllib.request\n",
        "\n",
        "nateUrl = \"https://news.nate.com/weather?areaCode=11D20401\"\n",
        "count = 2\n",
        "\n",
        "while count > 0:\n",
        "    count -= 1\n",
        "    htmlObject = urllib.request.urlopen(nateUrl)\n",
        "    webPage = htmlObject.read()\n",
        "    bsObject = bs4.BeautifulSoup(webPage, 'html.parser')\n",
        "\n",
        "    tag = bsObject.find('div', {'class': 'right_today'})\n",
        "\n",
        "    rain = tag.find('p', {'class': 'rainfall'}).text\n",
        "\n",
        "    wind = tag.find('p', {'class': 'wind'}).text\n",
        "\n",
        "    now = datetime.datetime.now()\n",
        "    yymmdd = now.strftime('%Y-%m-%d')\n",
        "    hhmmss = now.strftime('%H:%M:%S')\n",
        "\n",
        "    weather_list = [yymmdd, hhmmss, rain, wind]\n",
        "\n",
        "    print(weather_list)\n",
        "\n",
        "    time.sleep(5)\n"
      ],
      "metadata": {
        "colab": {
          "base_uri": "https://localhost:8080/"
        },
        "id": "ezcLE8iU6fjA",
        "outputId": "cf6ade25-0401-49a4-c1e6-a49cd66fb3a0"
      },
      "execution_count": 28,
      "outputs": [
        {
          "output_type": "stream",
          "name": "stdout",
          "text": [
            "['2025-09-29', '06:06:53', '강수량0mm', '풍향 북북동 3.4 m/s']\n",
            "['2025-09-29', '06:06:59', '강수량0mm', '풍향 북북동 3.4 m/s']\n"
          ]
        }
      ]
    },
    {
      "cell_type": "markdown",
      "source": [
        "[코드 LHR 5-14]"
      ],
      "metadata": {
        "id": "4V1kqW5S5uC6"
      }
    },
    {
      "cell_type": "code",
      "source": [
        "import bs4\n",
        "import urllib.request\n",
        "\n",
        "bookUrl = \"https://www.yes24.com/product/category/display/001001046001\"\n",
        "\n",
        "htmlObject = urllib.request.urlopen(bookUrl)\n",
        "webPage = htmlObject.read()\n",
        "bsObject = bs4.BeautifulSoup(webPage, 'html.parser')\n",
        "\n",
        "tag = bsObject.find('div', {'class': 'itemUnit'})\n",
        "\n",
        "book_name = tag.find('div', {'class': 'info_row info_name'})\n",
        "\n",
        "book_name_name = book_name.find('a').text\n",
        "print(book_name_name)\n"
      ],
      "metadata": {
        "colab": {
          "base_uri": "https://localhost:8080/"
        },
        "id": "GFtO5eAi6gAu",
        "outputId": "143995a9-74ca-48a4-ee75-f0837af6e78c"
      },
      "execution_count": 29,
      "outputs": [
        {
          "output_type": "stream",
          "name": "stdout",
          "text": [
            "절창 切創\n"
          ]
        }
      ]
    },
    {
      "cell_type": "markdown",
      "source": [
        "[코드 LHR 5-15]"
      ],
      "metadata": {
        "id": "wMZZrrxA5tvS"
      }
    },
    {
      "cell_type": "code",
      "source": [
        "import bs4\n",
        "import urllib.request\n",
        "\n",
        "def 책이름_getBookInfo(book_tag):\n",
        "    longbook_name = book_tag.find('div', {'class': 'info_row info_name'})\n",
        "    book_name = longbook_name.find('a').text\n",
        "    return book_name\n",
        "\n",
        "bookUrl = \"https://www.yes24.com/product/category/display/001001046001\"\n",
        "\n",
        "htmlObject = urllib.request.urlopen(bookUrl)\n",
        "webPage = htmlObject.read()\n",
        "bsObject = bs4.BeautifulSoup(webPage, 'html.parser')\n",
        "\n",
        "tag = bsObject.find_all('div', {'class': 'itemUnit'})\n",
        "\n",
        "for book in tag:\n",
        "    print(책이름_getBookInfo(book))\n"
      ],
      "metadata": {
        "colab": {
          "base_uri": "https://localhost:8080/"
        },
        "id": "EWNoVASR6gX2",
        "outputId": "14a6d1f3-891b-4552-cb6c-46652c96b8bf"
      },
      "execution_count": 31,
      "outputs": [
        {
          "output_type": "stream",
          "name": "stdout",
          "text": [
            "절창 切創\n",
            "혼모노\n",
            "소년이 온다\n",
            "모순\n",
            "채식주의자\n",
            "안녕이라 그랬어\n",
            "양면의 조개껍데기\n",
            "작별하지 않는다\n",
            "자몽살구클럽\n",
            "급류\n",
            "순례 주택\n",
            "첫 여름, 완주\n",
            "시한부\n",
            "구의 증명\n",
            "나는 소망한다 내게 금지된 것을\n",
            "홍학의 자리\n",
            "치즈 이야기\n",
            "젊음의 나라\n",
            "희랍어 시간\n",
            "언젠가 우리가 같은 별을 바라본다면\n",
            "연희동 러너\n",
            "파과 (리커버)\n",
            "소설 보다 : 가을 2025\n",
            "불편한 편의점\n"
          ]
        }
      ]
    },
    {
      "cell_type": "markdown",
      "source": [
        "[코드 LHR 5-16]"
      ],
      "metadata": {
        "id": "yrJR9bxd5tKC"
      }
    },
    {
      "cell_type": "code",
      "source": [
        "import bs4\n",
        "import urllib.request\n",
        "\n",
        "def 저자이름_getBookInfo(book_tag):\n",
        "    longbook_author = book_tag.find('div', {'class': 'info_row info_pubGrp'})\n",
        "    book_author = longbook_author.find('a').text\n",
        "    return book_author\n",
        "bookUrl = \"https://www.yes24.com/product/category/display/001001046001\"\n",
        "\n",
        "htmlObject = urllib.request.urlopen(bookUrl)\n",
        "webPage = htmlObject.read()\n",
        "bsObject = bs4.BeautifulSoup(webPage, 'html.parser')\n",
        "\n",
        "tag = bsObject.find_all('div', {'class': 'itemUnit'})\n",
        "\n",
        "for book in tag:\n",
        "    print(저자이름_getBookInfo(book))\n"
      ],
      "metadata": {
        "colab": {
          "base_uri": "https://localhost:8080/"
        },
        "id": "ME2zAllO6gtx",
        "outputId": "b0363faf-42cd-4541-fa50-b6a0f1bae59e"
      },
      "execution_count": 33,
      "outputs": [
        {
          "output_type": "stream",
          "name": "stdout",
          "text": [
            "구병모\n",
            "성해나\n",
            "한강\n",
            "양귀자\n",
            "한강\n",
            "김애란\n",
            "김초엽\n",
            "한강\n",
            "한로로\n",
            "정대건\n",
            "유은실\n",
            "김금희\n",
            "백은별\n",
            "최진영\n",
            "양귀자\n",
            "정해연\n",
            "조예은\n",
            "손원평\n",
            "한강\n",
            "차인표\n",
            "임지형\n",
            "구병모\n",
            "서장원\n",
            "김호연\n"
          ]
        }
      ]
    },
    {
      "cell_type": "markdown",
      "source": [
        "[코드 LHR 5-17]"
      ],
      "metadata": {
        "id": "6rH4rfWN5s8V"
      }
    },
    {
      "cell_type": "code",
      "source": [
        "import bs4\n",
        "import urllib.request\n",
        "\n",
        "def LHR_getBookInfo(book_tag):\n",
        "    longbook_name = book_tag.find('div', {'class': 'info_row info_name'})\n",
        "    book_name = longbook_name.find('a').text\n",
        "\n",
        "    longbook_author = book_tag.find('div', {'class': 'info_row info_pubGrp'})\n",
        "    book_author = longbook_author.find('a').text\n",
        "    return [book_name, book_author]\n",
        "\n",
        "bookUrl = \"https://www.yes24.com/product/category/display/001001046001\"\n",
        "\n",
        "htmlObject = urllib.request.urlopen(bookUrl)\n",
        "webPage = htmlObject.read()\n",
        "bsObject = bs4.BeautifulSoup(webPage, 'html.parser')\n",
        "\n",
        "tag = bsObject.find_all('div', {'class': 'itemUnit'})\n",
        "\n",
        "for book in tag:\n",
        "    print(LHR_getBookInfo(book))\n"
      ],
      "metadata": {
        "colab": {
          "base_uri": "https://localhost:8080/"
        },
        "id": "sdRhAAZ26hFe",
        "outputId": "6d77981f-1591-4dcc-86e9-5787330ed645"
      },
      "execution_count": 37,
      "outputs": [
        {
          "output_type": "stream",
          "name": "stdout",
          "text": [
            "['절창 切創', '구병모']\n",
            "['혼모노', '성해나']\n",
            "['소년이 온다', '한강']\n",
            "['모순', '양귀자']\n",
            "['채식주의자', '한강']\n",
            "['안녕이라 그랬어', '김애란']\n",
            "['양면의 조개껍데기', '김초엽']\n",
            "['작별하지 않는다', '한강']\n",
            "['자몽살구클럽', '한로로']\n",
            "['급류', '정대건']\n",
            "['순례 주택', '유은실']\n",
            "['첫 여름, 완주', '김금희']\n",
            "['시한부', '백은별']\n",
            "['구의 증명', '최진영']\n",
            "['나는 소망한다 내게 금지된 것을', '양귀자']\n",
            "['홍학의 자리', '정해연']\n",
            "['치즈 이야기', '조예은']\n",
            "['젊음의 나라', '손원평']\n",
            "['희랍어 시간', '한강']\n",
            "['언젠가 우리가 같은 별을 바라본다면', '차인표']\n",
            "['연희동 러너', '임지형']\n",
            "['파과 (리커버)', '구병모']\n",
            "['소설 보다 : 가을 2025', '서장원']\n",
            "['불편한 편의점', '김호연']\n"
          ]
        }
      ]
    },
    {
      "cell_type": "markdown",
      "source": [
        "[코드 LHR 5-18]"
      ],
      "metadata": {
        "id": "64Fy9Xcg5stS"
      }
    },
    {
      "cell_type": "code",
      "source": [
        "import bs4\n",
        "import urllib.request\n",
        "\n",
        "musicUrl1 = \"https://search.naver.com/search.naver?where=nexearch&sm=top_hty&fbm=0&ie=utf8&query=vibe+%EC%B0%A8%ED%8A%B8&ackey=r2vwfu50\"\n",
        "htmlObject = urllib.request.urlopen(musicUrl1)\n",
        "webPage = htmlObject.read()\n",
        "bsObject = bs4.BeautifulSoup(webPage, 'html.parser')\n",
        "\n",
        "tag_text = bsObject.find('li', {'class': 'chart_item _sap_item'})\n",
        "music_rank = tag_text.find('div', {'class': 'detail_area'})\n",
        "\n",
        "rank1 = music_rank.find('a').text\n",
        "print(rank1)\n"
      ],
      "metadata": {
        "colab": {
          "base_uri": "https://localhost:8080/"
        },
        "id": "knY4gr_p6hcd",
        "outputId": "0f6a1e94-60b8-411d-a9a1-99549bbbd5c4"
      },
      "execution_count": 49,
      "outputs": [
        {
          "output_type": "stream",
          "name": "stdout",
          "text": [
            "Golden\n"
          ]
        }
      ]
    },
    {
      "cell_type": "markdown",
      "source": [
        "[코드 LHR 5-19]"
      ],
      "metadata": {
        "id": "GuSDCvdS5r-K"
      }
    },
    {
      "cell_type": "code",
      "source": [
        "import bs4\n",
        "import urllib.request\n",
        "\n",
        "def LHR_Musicinfo(music):\n",
        "    music_rank = music.find('div', {'class': 'detail_area'})\n",
        "    rank1 = music_rank.find('a').text\n",
        "    return rank1\n",
        "\n",
        "musicUrl1 = \"https://search.naver.com/search.naver?where=nexearch&sm=top_hty&fbm=0&ie=utf8&query=vibe+%EC%B0%A8%ED%8A%B8&ackey=r2vwfu50\"\n",
        "\n",
        "htmlObject = urllib.request.urlopen(musicUrl1)\n",
        "webPage = htmlObject.read()\n",
        "bsObject = bs4.BeautifulSoup(webPage, 'html.parser')\n",
        "\n",
        "tag_text = bsObject.find_all('li', {'class': 'chart_item _sap_item'})\n",
        "\n",
        "for music in tag_text:\n",
        "    print(LHR_Musicinfo(music))\n"
      ],
      "metadata": {
        "colab": {
          "base_uri": "https://localhost:8080/"
        },
        "id": "i0yCH6_o6h0i",
        "outputId": "aca29309-f2e5-4497-d05c-44ca0bdadb2d"
      },
      "execution_count": 51,
      "outputs": [
        {
          "output_type": "stream",
          "name": "stdout",
          "text": [
            "Golden\n",
            "Soda Pop\n",
            "뛰어(JUMP)\n",
            "Drowning\n",
            "Your Idol\n",
            "FAMOUS\n",
            "XOXZ\n",
            "How It's Done\n",
            "모르시나요 (PROD. 로코베리)\n",
            "Rich Man\n"
          ]
        }
      ]
    },
    {
      "cell_type": "markdown",
      "source": [
        "[코드 LHR 5-20]"
      ],
      "metadata": {
        "id": "clbnt_S45nMS"
      }
    },
    {
      "cell_type": "code",
      "source": [
        "import bs4\n",
        "import urllib.request\n",
        "import time\n",
        "import datetime\n",
        "\n",
        "musicUrl1 = \"https://search.naver.com/search.naver?where=nexearch&sm=top_hty&fbm=0&ie=utf8&query=vibe+%EC%B0%A8%ED%8A%B8&ackey=r2vwfu50\"\n",
        "count = 3\n",
        "\n",
        "while count > 0:\n",
        "    count -= 1\n",
        "    htmlObject = urllib.request.urlopen(musicUrl1)\n",
        "    webPage = htmlObject.read()\n",
        "    bsObject = bs4.BeautifulSoup(webPage, 'html.parser')\n",
        "\n",
        "    tag_text = bsObject.find('li', {'class': 'chart_item _sap_item'})\n",
        "    music_rank = tag_text.find('div', {'class': 'detail_area'})\n",
        "    rank1 = music_rank.find('a').text\n",
        "\n",
        "    now = datetime.datetime.now()\n",
        "    yymmdd = now.strftime('%Y-%m-%d')\n",
        "    hhmmss = now.strftime('%H:%M:%S')\n",
        "\n",
        "    music_list = [yymmdd, hhmmss, rank1]\n",
        "    print(music_list)\n",
        "\n",
        "    time.sleep(7)\n"
      ],
      "metadata": {
        "colab": {
          "base_uri": "https://localhost:8080/"
        },
        "id": "h-9t8e6_6iMM",
        "outputId": "63f5d5c2-9bc3-4646-8408-acd60649f5c3"
      },
      "execution_count": 53,
      "outputs": [
        {
          "output_type": "stream",
          "name": "stdout",
          "text": [
            "['2025-09-29', '06:32:13', 'Golden']\n",
            "['2025-09-29', '06:32:21', 'Golden']\n",
            "['2025-09-29', '06:32:30', 'Golden']\n"
          ]
        }
      ]
    },
    {
      "cell_type": "markdown",
      "source": [
        "[문제1]"
      ],
      "metadata": {
        "id": "k8oHv22ZSSiG"
      }
    },
    {
      "cell_type": "code",
      "source": [
        "import bs4\n",
        "import urllib.request\n",
        "\n",
        "libraryUrl = \"https://library.induk.ac.kr/Cheetah/INDK/Index/\"\n",
        "htmlObject = urllib.request.urlopen(libraryUrl)\n",
        "webPage = htmlObject.read()\n",
        "\n",
        "bsObject = bs4.BeautifulSoup(webPage, 'html.parser')\n",
        "\n",
        "tag = bsObject.find('p', {'class': 'address'})\n",
        "print(tag.text, '\\n')\n"
      ],
      "metadata": {
        "colab": {
          "base_uri": "https://localhost:8080/"
        },
        "id": "-ch2Q5xqLypc",
        "outputId": "9d982a9a-ab3d-470f-9565-fea7cf0e3cb7"
      },
      "execution_count": 57,
      "outputs": [
        {
          "output_type": "stream",
          "name": "stdout",
          "text": [
            "01878 서울특별시 노원구 초안산로 12 (월계동 산 76) 인덕대학교 Tel.02-950-7171~3 \n",
            "\n"
          ]
        }
      ]
    },
    {
      "cell_type": "markdown",
      "source": [
        "[문제2]"
      ],
      "metadata": {
        "id": "hISDG1xvSXNw"
      }
    },
    {
      "cell_type": "code",
      "source": [
        "import time\n",
        "import datetime\n",
        "\n",
        "count = 0\n",
        "while count < 3:\n",
        "    count += 1\n",
        "    now = datetime.datetime.now()\n",
        "    yymmdd = now.strftime('%Y-%m-%d')\n",
        "    hhmmss = now.strftime('%H:%M:%S')\n",
        "    time_list = [yymmdd, hhmmss]\n",
        "    print(time_list)\n",
        "    time.sleep(8)\n"
      ],
      "metadata": {
        "colab": {
          "base_uri": "https://localhost:8080/"
        },
        "id": "HHfC80sgMAhZ",
        "outputId": "780c72e9-5117-472b-e34d-ef5a11a7e178"
      },
      "execution_count": 59,
      "outputs": [
        {
          "output_type": "stream",
          "name": "stdout",
          "text": [
            "['2025-09-29', '06:40:34']\n",
            "['2025-09-29', '06:40:42']\n",
            "['2025-09-29', '06:40:50']\n"
          ]
        }
      ]
    },
    {
      "cell_type": "markdown",
      "source": [
        "[문제3]"
      ],
      "metadata": {
        "id": "Dzrtyvu4SY_P"
      }
    },
    {
      "cell_type": "code",
      "source": [
        "import datetime\n",
        "import bs4\n",
        "import urllib.request\n",
        "\n",
        "nateUrl = \"https://news.nate.com/weather?areaCode=11D20401\"\n",
        "htmlObject = urllib.request.urlopen(nateUrl)\n",
        "webPage = htmlObject.read()\n",
        "bsObject = bs4.BeautifulSoup(webPage, 'html.parser')\n",
        "\n",
        "tag = bsObject.find('p', {'class': 'text'})\n",
        "print(tag.text)\n"
      ],
      "metadata": {
        "colab": {
          "base_uri": "https://localhost:8080/"
        },
        "id": "0LaaiOigMwzU",
        "outputId": "0391da47-3b0b-4325-8ecf-f3fb31855808"
      },
      "execution_count": 67,
      "outputs": [
        {
          "output_type": "stream",
          "name": "stdout",
          "text": [
            "구름조금\n"
          ]
        }
      ]
    },
    {
      "cell_type": "markdown",
      "source": [
        "[문제4]"
      ],
      "metadata": {
        "id": "PXDcVPZwSbRQ"
      }
    },
    {
      "cell_type": "code",
      "source": [
        "import time\n",
        "import datetime\n",
        "import bs4\n",
        "import urllib.request\n",
        "\n",
        "nateUrl = \"https://news.nate.com/weather?areaCode=11D20401\"\n",
        "count = 3\n",
        "while count > 0:\n",
        "    count -= 1\n",
        "    htmlObject = urllib.request.urlopen(nateUrl)\n",
        "    webPage = htmlObject.read()\n",
        "    bsObject = bs4.BeautifulSoup(webPage, 'html.parser')\n",
        "\n",
        "    comp = bsObject.find('p', {'class': 'comparison'}).text\n",
        "\n",
        "    now = datetime.datetime.now()\n",
        "    hhmmss = now.strftime('%H:%M:%S')\n",
        "    weather_list = [hhmmss, comp]\n",
        "    print(weather_list)\n",
        "\n",
        "    time.sleep(5)\n"
      ],
      "metadata": {
        "colab": {
          "base_uri": "https://localhost:8080/"
        },
        "id": "ZdnOTIY6NWus",
        "outputId": "3ba9cb53-30a6-498a-a441-ea66d4f09a85"
      },
      "execution_count": 69,
      "outputs": [
        {
          "output_type": "stream",
          "name": "stdout",
          "text": [
            "['06:45:48', '\\n\\n어제보다\\n+3℃']\n",
            "['06:45:54', '\\n\\n어제보다\\n+3℃']\n",
            "['06:46:00', '\\n\\n어제보다\\n+3℃']\n"
          ]
        }
      ]
    },
    {
      "cell_type": "markdown",
      "source": [
        "[문제5]"
      ],
      "metadata": {
        "id": "Fatk66FSSfAs"
      }
    },
    {
      "cell_type": "code",
      "source": [
        "import bs4\n",
        "import urllib.request\n",
        "\n",
        "bookUrl = \"https://www.yes24.com/main/default.aspx\"\n",
        "\n",
        "htmlObject = urllib.request.urlopen(bookUrl)\n",
        "webPage = htmlObject.read()\n",
        "bsObject = bs4.BeautifulSoup(webPage, 'html.parser')\n",
        "\n",
        "tag = bsObject.find('div', {'class': 'tBInfo'})\n",
        "\n",
        "Book_name = tag.find('p', {'class': 'tb_name'})\n",
        "\n",
        "Book_name_name = Book_name.find('a').text\n",
        "\n",
        "print(Book_name_name)\n"
      ],
      "metadata": {
        "colab": {
          "base_uri": "https://localhost:8080/"
        },
        "id": "EyalTKQCN-oF",
        "outputId": "0395c4fe-a501-4a36-e589-b251f46e7001"
      },
      "execution_count": 77,
      "outputs": [
        {
          "output_type": "stream",
          "name": "stdout",
          "text": [
            "2025 제8회 한국과학문학상 수상작품집\n"
          ]
        }
      ]
    },
    {
      "cell_type": "markdown",
      "source": [
        "[문제6]"
      ],
      "metadata": {
        "id": "ksveUbtCSiIi"
      }
    },
    {
      "cell_type": "code",
      "source": [
        "import bs4\n",
        "import urllib.request\n",
        "\n",
        "def 책이름_getBookInfo(book_tag):\n",
        "    longbook_name = book_tag.find('div', {'class': 'tBInfo'})\n",
        "\n",
        "    book_name = longbook_name.find('p', {'class': 'tb_name'})\n",
        "\n",
        "    book_name1 = book_name.find('a').text\n",
        "\n",
        "    return [book_name1]\n",
        "\n",
        "\n",
        "bookUrl = \"https://www.yes24.com/Main/default.aspx\"\n",
        "\n",
        "htmlObject = urllib.request.urlopen(bookUrl)\n",
        "webPage = htmlObject.read()\n",
        "bsObject = bs4.BeautifulSoup(webPage, 'html.parser')\n",
        "\n",
        "tag = bsObject.find_all('div', {'class': 'todayBUnit'})\n",
        "\n",
        "for book in tag:\n",
        "    print(책이름_getBookInfo(book))\n"
      ],
      "metadata": {
        "colab": {
          "base_uri": "https://localhost:8080/"
        },
        "id": "Uob6RnuKOvbP",
        "outputId": "a612bd0d-9aa6-460b-f6dc-55f108d9d1b0"
      },
      "execution_count": 81,
      "outputs": [
        {
          "output_type": "stream",
          "name": "stdout",
          "text": [
            "['2025 제8회 한국과학문학상 수상작품집']\n",
            "['모두를 위한 한국미술사']\n",
            "['계수나무 과자점']\n",
            "['트렌드 코리아 2026']\n"
          ]
        }
      ]
    }
  ]
}